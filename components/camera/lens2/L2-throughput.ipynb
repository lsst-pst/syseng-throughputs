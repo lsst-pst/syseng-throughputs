{
 "cells": [
  {
   "cell_type": "markdown",
   "metadata": {},
   "source": [
    "A notebook to trace the as-built L2 throughput, starting with the source in Docushare, Document-17872, and displaying exactly what is used and how.\n",
    "\n",
    "\n",
    "- S. Ritz updated 17 July 2018"
   ]
  },
  {
   "cell_type": "code",
   "execution_count": 1,
   "metadata": {
    "collapsed": true
   },
   "outputs": [],
   "source": [
    "import matplotlib.pyplot as plt\n",
    "import datetime\n",
    "import collections\n",
    "import numpy as np\n",
    "import argparse\n",
    "import pandas as pd\n",
    "from pandas import ExcelFile\n",
    "from pandas import ExcelWriter\n",
    "import os\n",
    "import glob\n",
    "import matplotlib.pyplot as plt\n",
    "import scipy as sc\n",
    "import scipy.signal\n",
    "import textwrap\n",
    "import pylab as pl\n",
    "\n",
    "# this magic command makes plots appear within the notebook\n",
    "%matplotlib inline\n",
    "\n",
    "# avoid an annoying warning\n",
    "plt.rcParams.update({'figure.max_open_warning': 0})\n",
    "\n",
    "# define figure size parameters to make figures larger than default\n",
    "figwidth=30\n",
    "figheight=10\n"
   ]
  },
  {
   "cell_type": "code",
   "execution_count": 2,
   "metadata": {},
   "outputs": [
    {
     "data": {
      "text/plain": [
       "(0.85, 1.05)"
      ]
     },
     "execution_count": 2,
     "metadata": {},
     "output_type": "execute_result"
    },
    {
     "data": {
      "image/png": "[encoded data removed]",
      "text/plain": [
       "<matplotlib.figure.Figure at 0x118ea33c8>"
      ]
     },
     "metadata": {},
     "output_type": "display_data"
    }
   ],
   "source": [
    "xl = pd.ExcelFile(\"Document-17872.xlsx\")\n",
    "#xl.sheet_names\n",
    "df = xl.parse(\"Performance summary as-built\")\n",
    "#df['wavelength'], df['L2 glass']\n",
    "df.drop(df.index[[0,1,2,3,4]])\n",
    "#df['wavelength'][5:]\n",
    "#df['L2 glass'][5:]\n",
    "fig1=plt.figure()\n",
    "plt.plot(df['wavelength'][5:800], df['L2 glass'][5:800], 'r*', label='glass')\n",
    "plt.plot(df['wavelength'][5:800], df['L2 BBAR'][5:800], 'b*', label='BBAR')\n",
    "plt.suptitle('Throughput vs wavelength')\n",
    "ax=fig1.gca()\n",
    "ax.grid(True)\n",
    "ax.set_xticks(np.arange(300, 1200, 100.))\n",
    "ax.set_yticks(np.arange(0., 2., 0.01))\n",
    "pl.legend()\n",
    "plt.ylim(0.85,1.05)\n",
    "\n"
   ]
  },
  {
   "cell_type": "markdown",
   "metadata": {
    "collapsed": true
   },
   "source": [
    "The current SE calculations want text files from 300 nm to 1100 nm in 1nm steps. Let's write that."
   ]
  },
  {
   "cell_type": "code",
   "execution_count": 3,
   "metadata": {},
   "outputs": [],
   "source": [
    "file1 = open(\"l2-glass.txt\",\"w\")\n",
    "for i in range(len(df)):\n",
    "    if ((df['wavelength'][i]>299.) & (df['wavelength'][i]<1101.)):\n",
    "        #print (round(df['wavelength'][i],1),round(df['L2 glass'][i],4))\n",
    "        print (round(df['wavelength'][i],1),round(df['L2 glass'][i],4), file=file1)\n",
    "file1.close()"
   ]
  },
  {
   "cell_type": "code",
   "execution_count": 4,
   "metadata": {},
   "outputs": [],
   "source": [
    "file2 = open(\"l2-BBAR.txt\",\"w\")\n",
    "for i in range(len(df)):\n",
    "    if ((df['wavelength'][i]>299.) & (df['wavelength'][i]<1101.)):\n",
    "        #print (round(df['wavelength'][i],1),round(df['L2 BBAR'][i],4))\n",
    "        print (round(df['wavelength'][i],1),round(df['L2 BBAR'][i],4), file=file2)\n",
    "file2.close()"
   ]
  },
  {
   "cell_type": "code",
   "execution_count": null,
   "metadata": {
    "collapsed": true
   },
   "outputs": [],
   "source": []
  }
 ],
 "metadata": {
  "kernelspec": {
   "display_name": "Python [conda root]",
   "language": "python",
   "name": "conda-root-py"
  },
  "language_info": {
   "codemirror_mode": {
    "name": "ipython",
    "version": 3
   },
   "file_extension": ".py",
   "mimetype": "text/x-python",
   "name": "python",
   "nbconvert_exporter": "python",
   "pygments_lexer": "ipython3",
   "version": "3.5.4"
  }
 },
 "nbformat": 4,
 "nbformat_minor": 1
}
