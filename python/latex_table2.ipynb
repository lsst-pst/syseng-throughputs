{
 "cells": [
  {
   "cell_type": "code",
   "execution_count": 1,
   "metadata": {
    "collapsed": true
   },
   "outputs": [],
   "source": [
    "import numpy as np\n",
    "import matplotlib.pyplot as plt\n",
    "%matplotlib inline\n",
    "import lsst.sims.photUtils as photUtils"
   ]
  },
  {
   "cell_type": "code",
   "execution_count": 2,
   "metadata": {
    "collapsed": true
   },
   "outputs": [],
   "source": [
    "import bandpassUtils as bu\n",
    "import calcM5 as m5"
   ]
  },
  {
   "cell_type": "code",
   "execution_count": 3,
   "metadata": {
    "collapsed": true
   },
   "outputs": [],
   "source": [
    "defaultDirs = bu.setDefaultDirs()\n",
    "addLosses = True\n",
    "atmosphere = bu.readAtmosphere(defaultDirs['atmosphere'], atmosFile='atmos_10_aerosol.dat')\n",
    "hardware, system = bu.buildHardwareAndSystem(defaultDirs, addLosses, atmosphereOverride=atmosphere)\n",
    "atmosphere12 = bu.readAtmosphere(defaultDirs['atmosphere'], atmosFile='pachonModtranAtm_12_aerosol.dat')\n",
    "hardware2, system2 = bu.buildHardwareAndSystem(defaultDirs, addLosses, atmosphereOverride=atmosphere12)"
   ]
  },
  {
   "cell_type": "code",
   "execution_count": 4,
   "metadata": {
    "collapsed": true
   },
   "outputs": [],
   "source": [
    "eff_wavelen = m5.get_effwavelens(system)"
   ]
  },
  {
   "cell_type": "code",
   "execution_count": 5,
   "metadata": {},
   "outputs": [
    {
     "name": "stdout",
     "output_type": "stream",
     "text": [
      "37 µs ± 258 ns per loop (mean ± std. dev. of 7 runs, 10000 loops each)\n"
     ]
    }
   ],
   "source": [
    "%%timeit\n",
    "for airmass in (1.0, 1.1, 1.2):\n",
    "    fwhm_eff, fwhm_geom = m5.scale_seeing(0.6, eff_wavelen, airmass=airmass)"
   ]
  },
  {
   "cell_type": "code",
   "execution_count": 6,
   "metadata": {},
   "outputs": [
    {
     "name": "stdout",
     "output_type": "stream",
     "text": [
      "24.2 µs ± 376 ns per loop (mean ± std. dev. of 7 runs, 10000 loops each)\n"
     ]
    }
   ],
   "source": [
    "%%timeit\n",
    "airmass = np.array([1.0, 1.1, 1.2])\n",
    "fwhm_eff, fwhm_geom = m5.scale_seeing(0.6, eff_wavelen, airmass)"
   ]
  },
  {
   "cell_type": "code",
   "execution_count": 7,
   "metadata": {},
   "outputs": [
    {
     "name": "stdout",
     "output_type": "stream",
     "text": [
      "X=1.0, each filter [ 0.93  0.88  0.83  0.8   0.78  0.76]\n",
      "0.92 0.87 0.83 0.8 0.78 0.76\n",
      "g band, all airmasses [ 0.87558412  0.92711475  0.97680219]\n"
     ]
    }
   ],
   "source": [
    "airmass = np.array([1.0, 1.1, 1.2])\n",
    "fwhm_eff, fwhm_geom = m5.scale_seeing(0.62, eff_wavelen, airmass)\n",
    "print('X=1.0, each filter', np.array2string(fwhm_eff[:,0], precision=2))\n",
    "defaults = photUtils.LSSTdefaults()\n",
    "print(defaults.FWHMeff('u'), defaults.FWHMeff('g'), defaults.FWHMeff('r'), defaults.FWHMeff('i'), \n",
    "      defaults.FWHMeff('z'), defaults.FWHMeff('y'))\n",
    "print('g band, all airmasses', fwhm_eff[1])"
   ]
  },
  {
   "cell_type": "code",
   "execution_count": 8,
   "metadata": {},
   "outputs": [
    {
     "name": "stdout",
     "output_type": "stream",
     "text": [
      "Filter FWHMeff FWHMgeom SkyMag SkyCounts Zp_t Tb Sb kAtm Gamma Cm dCm_infinity m5 SourceCounts\n",
      "u 0.93 0.81 22.99 70.4 26.92 0.033 0.052 0.4910 0.038161 23.09 0.62 23.77 543.87\n",
      "g 0.88 0.77 22.26 406.4 28.37 0.125 0.152 0.2134 0.038746 24.42 0.18 24.81 797.38\n",
      "r 0.83 0.73 21.20 812.6 28.15 0.102 0.115 0.1260 0.038986 24.44 0.10 24.36 985.71\n",
      "i 0.80 0.71 20.48 1144.0 27.83 0.076 0.083 0.0962 0.039088 24.32 0.07 23.92 1096.42\n",
      "z 0.78 0.69 19.60 1715.5 27.42 0.052 0.056 0.0687 0.039217 24.16 0.05 23.35 1276.72\n",
      "y 0.76 0.68 18.61 2283.5 26.64 0.026 0.030 0.1703 0.039298 23.73 0.04 22.45 1424.68\n"
     ]
    }
   ],
   "source": [
    "t2 = m5.calcM5(hardware, system, atmosphere, X=1.0, return_t2_values=True)"
   ]
  },
  {
   "cell_type": "code",
   "execution_count": 9,
   "metadata": {},
   "outputs": [
    {
     "name": "stdout",
     "output_type": "stream",
     "text": [
      "Filter FWHMeff FWHMgeom SkyMag SkyCounts Zp_t Tb Sb kAtm Gamma Cm dCm_infinity m5 SourceCounts\n",
      "u 1.04 0.90 22.99 70.4 26.82 0.030 0.052 0.5878 0.038348 23.11 0.63 23.56 605.15\n",
      "g 0.98 0.85 22.26 406.4 28.32 0.120 0.152 0.2557 0.038874 24.43 0.18 24.65 887.94\n",
      "r 0.92 0.81 21.20 812.6 28.12 0.100 0.115 0.1508 0.039089 24.45 0.10 24.21 1098.13\n",
      "i 0.89 0.78 20.48 1144.0 27.81 0.075 0.083 0.1119 0.039181 24.33 0.07 23.79 1221.68\n",
      "z 0.87 0.76 19.60 1715.5 27.41 0.052 0.056 0.0808 0.039297 24.16 0.05 23.22 1422.87\n",
      "y 0.85 0.75 18.61 2283.5 26.62 0.025 0.030 0.1927 0.039370 23.75 0.04 22.31 1587.80\n"
     ]
    }
   ],
   "source": [
    "t2_12 = m5.calcM5(hardware2, system2, atmosphere12, X=1.2, return_t2_values=True)"
   ]
  },
  {
   "cell_type": "code",
   "execution_count": 10,
   "metadata": {},
   "outputs": [
    {
     "data": {
      "text/plain": [
       "{'g': 0.15909027139515075,\n",
       " 'i': 0.13307572698634118,\n",
       " 'r': 0.14198532064238378,\n",
       " 'u': 0.2127318506398872,\n",
       " 'y': 0.14009297787482211,\n",
       " 'z': 0.12981170091778438}"
      ]
     },
     "execution_count": 10,
     "metadata": {},
     "output_type": "execute_result"
    }
   ],
   "source": [
    "filterlist = ('u', 'g', 'r', 'i', 'z', 'y')\n",
    "t2['dm5_X1.2'] = {}\n",
    "for f in filterlist:\n",
    "    t2['dm5_X1.2'][f] = t2['m5'][f] - t2_12['m5'][f]\n",
    "t2['dm5_X1.2']"
   ]
  },
  {
   "cell_type": "code",
   "execution_count": 11,
   "metadata": {
    "collapsed": true
   },
   "outputs": [],
   "source": [
    "tau = 60.0/30.0\n",
    "t2['dcm_60'] = {}\n",
    "for f in filterlist:\n",
    "    t2['dcm_60'][f] = t2['dCm_infinity'][f] - 1.25 * np.log10(1 + (np.power(10, 0.8*t2['dCm_infinity'][f]) - 1) / (tau))"
   ]
  },
  {
   "cell_type": "code",
   "execution_count": 12,
   "metadata": {
    "collapsed": true
   },
   "outputs": [],
   "source": [
    "t2['dm_fid'] = {}\n",
    "t2['dm_min'] = {}\n",
    "t2['m5_fid'] = {'u': 23.9, 'g': 25.0, 'r': 24.7, 'i': 24.0, 'z': 23.3, 'y': 22.1}\n",
    "t2['m5_min'] = {'u': 23.4, 'g': 24.6, 'r': 24.3, 'i': 23.6, 'z': 22.9, 'y': 21.7}\n",
    "for f in filterlist:\n",
    "    t2['dm_fid'][f] = t2['m5'][f] - t2['m5_fid'][f]\n",
    "    t2['dm_min'][f] = t2['m5'][f] - t2['m5_min'][f]"
   ]
  },
  {
   "cell_type": "code",
   "execution_count": 13,
   "metadata": {},
   "outputs": [
    {
     "name": "stdout",
     "output_type": "stream",
     "text": [
      "  \t\t& $u$\t& $g$\t & $r$\t& $i$\t& $z$\t& $y$\t \\\\\n",
      "skyMag\t\t& 22.99\t& 22.26\t& 21.20\t& 20.48\t& 19.60\t& 18.61\t \\\\\n",
      "FWHMeff\t\t& 0.93\t& 0.88\t& 0.83\t& 0.80\t& 0.78\t& 0.76\t \\\\\n",
      "gamma\t\t& 0.038\t& 0.039\t& 0.039\t& 0.039\t& 0.039\t& 0.039\t \\\\\n",
      "kAtm\t\t& 0.491\t& 0.213\t& 0.126\t& 0.096\t& 0.069\t& 0.170\t \\\\\n",
      "Cm\t\t& 23.09\t& 24.42\t& 24.44\t& 24.32\t& 24.16\t& 23.73\t \\\\\n",
      "dCm_inf\t\t& 0.62\t& 0.18\t& 0.10\t& 0.07\t& 0.05\t& 0.04\t \\\\\n",
      "dcm_60\t\t& 0.23\t& 0.08\t& 0.05\t& 0.03\t& 0.02\t& 0.02\t \\\\\n",
      "m5\t\t& 23.77\t& 24.81\t& 24.36\t& 23.92\t& 23.35\t& 22.45\t \\\\\n",
      "dm5_X1.2\t\t& 0.21\t& 0.16\t& 0.14\t& 0.13\t& 0.13\t& 0.14\t \\\\\n",
      "m5_fid\t\t& 23.90\t& 25.00\t& 24.70\t& 24.00\t& 23.30\t& 22.10\t \\\\\n",
      "dm_fid\t\t& -0.13\t& -0.19\t& -0.34\t& -0.08\t& 0.05\t& 0.35\t \\\\\n",
      "m5_min\t\t& 23.40\t& 24.60\t& 24.30\t& 23.60\t& 22.90\t& 21.70\t \\\\\n",
      "dm_min\t\t& 0.37\t& 0.21\t& 0.06\t& 0.32\t& 0.45\t& 0.75\t \\\\\n"
     ]
    }
   ],
   "source": [
    "l = ['skyMag', 'FWHMeff', 'gamma', 'kAtm', 'Cm', 'dCm_infinity', 'dcm_60', 'm5', 'dm5_X1.2',  \n",
    "     'm5_fid', 'dm_fid', 'm5_min', 'dm_min']\n",
    "\n",
    "writestring = '  \\t\\t& $u$\\t& $g$\\t & $r$\\t& $i$\\t& $z$\\t& $y$\\t \\\\\\\\'\n",
    "print(writestring)\n",
    "for li in l:\n",
    "    if li == 'dCm_infinity':\n",
    "        writestring = 'dCm_inf' + '\\t\\t& '\n",
    "    else:\n",
    "        writestring = li + '\\t\\t& '\n",
    "    if li == 'gamma' or li == 'kAtm':\n",
    "        mat = '%.3f\\t& '\n",
    "    else:\n",
    "        mat = '%.2f\\t& '\n",
    "    for f in filterlist:\n",
    "        writestring += mat % t2[li][f]\n",
    "    writestring = writestring[:-2] + ' \\\\\\\\'\n",
    "    print(writestring)"
   ]
  },
  {
   "cell_type": "code",
   "execution_count": null,
   "metadata": {
    "collapsed": true
   },
   "outputs": [],
   "source": []
  }
 ],
 "metadata": {
  "kernelspec": {
   "display_name": "Python 3",
   "language": "python",
   "name": "python3"
  },
  "language_info": {
   "codemirror_mode": {
    "name": "ipython",
    "version": 3
   },
   "file_extension": ".py",
   "mimetype": "text/x-python",
   "name": "python",
   "nbconvert_exporter": "python",
   "pygments_lexer": "ipython3",
   "version": "3.6.3"
  }
 },
 "nbformat": 4,
 "nbformat_minor": 2
}
