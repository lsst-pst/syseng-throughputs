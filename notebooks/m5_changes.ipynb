{
 "cells": [
  {
   "cell_type": "markdown",
   "id": "61a1e201-d363-408f-ad9f-1d939498779a",
   "metadata": {},
   "source": [
    "Look at effect on m5 as we transition through different versions of the throughput files."
   ]
  },
  {
   "cell_type": "code",
   "execution_count": 1,
   "id": "57c9cb1d-30d6-4f80-9ce3-c1b144ad740d",
   "metadata": {},
   "outputs": [],
   "source": [
    "import os\n",
    "import shutil\n",
    "import subprocess\n",
    "import numpy as np\n",
    "import matplotlib.pyplot as plt\n",
    "import pandas as pd\n",
    "import rubin_sim.phot_utils as phot_utils\n",
    "import syseng_throughputs as se"
   ]
  },
  {
   "cell_type": "markdown",
   "id": "86172f19-d15a-4a25-8d93-800dcde081a8",
   "metadata": {},
   "source": [
    "The survey simulations used 1.5 for simulations v1.5 through v3.2 (perhaps switching to 1.6 at some point, but this was a minor change). Then moved to v1.9 for v3.3.\n",
    "Not all tags in the repo corresponded to meaningful changes in the throughput files (there are some tags which correspond to software or repository layout changes). "
   ]
  },
  {
   "cell_type": "code",
   "execution_count": 2,
   "id": "162622f4-5def-491f-a810-e9c7a404f5db",
   "metadata": {},
   "outputs": [
    {
     "data": {
      "text/plain": [
       "{'detector': '/Users/lynnej/lsst_repos/syseng_throughputs/components/camera/detector/joint_minimum',\n",
       " 'lens1': '/Users/lynnej/lsst_repos/syseng_throughputs/components/camera/lens1',\n",
       " 'lens2': '/Users/lynnej/lsst_repos/syseng_throughputs/components/camera/lens2',\n",
       " 'lens3': '/Users/lynnej/lsst_repos/syseng_throughputs/components/camera/lens3',\n",
       " 'filters': '/Users/lynnej/lsst_repos/syseng_throughputs/components/camera/filters',\n",
       " 'mirror1': '/Users/lynnej/lsst_repos/syseng_throughputs/components/telescope/mirror1',\n",
       " 'mirror2': '/Users/lynnej/lsst_repos/syseng_throughputs/components/telescope/mirror2',\n",
       " 'mirror3': '/Users/lynnej/lsst_repos/syseng_throughputs/components/telescope/mirror3',\n",
       " 'atmosphere': '/Users/lynnej/lsst_repos/syseng_throughputs/siteProperties'}"
      ]
     },
     "execution_count": 2,
     "metadata": {},
     "output_type": "execute_result"
    }
   ],
   "source": [
    "defaultDirs = se.setDefaultDirs()\n",
    "defaultDirs"
   ]
  },
  {
   "cell_type": "code",
   "execution_count": 3,
   "id": "1c568dc4-f390-4069-ba9c-c92bb425653f",
   "metadata": {},
   "outputs": [],
   "source": [
    "# Read some common (and should not change over time) dark sky and atmospheric throughput files)\n",
    "atmos = phot_utils.Bandpass()\n",
    "atmos.read_throughput(os.path.join(defaultDirs['atmosphere'], 'atmos_10_aerosol.dat'))\n",
    "\n",
    "darksky = phot_utils.Sed()\n",
    "darksky.read_sed_flambda(os.path.join(defaultDirs['atmosphere'], 'darksky.dat'))"
   ]
  },
  {
   "cell_type": "code",
   "execution_count": 4,
   "id": "e6294ff5-101a-4d81-83ad-0bbb418eac3f",
   "metadata": {},
   "outputs": [
    {
     "name": "stderr",
     "output_type": "stream",
     "text": [
      "error: Your local changes to the following files would be overwritten by checkout:\n",
      "\tdocumentation/Components.ipynb\n",
      "\tdocumentation/Confirm Updates.ipynb\n",
      "\tdocumentation/read-lca18.ipynb\n",
      "\tnotebooks/Components.ipynb\n",
      "\tnotebooks/EvalReadnoise.ipynb\n",
      "\tnotebooks/Mixed Detector Photometry.ipynb\n",
      "\tnotebooks/Overview Paper.ipynb\n",
      "\tnotebooks/SilverVsAluminum.ipynb\n",
      "\tnotebooks/SilverVsAluminum_Stars.ipynb\n",
      "\tnotebooks/Syseng Throughputs Repo Demo.ipynb\n",
      "\tnotebooks/generate_sims_values.ipynb\n",
      "\tnotebooks/m5_changes.ipynb\n",
      "\tsyseng_throughputs/m5Utils.py\n",
      "Please commit your changes or stash them before you switch branches.\n",
      "Aborting\n"
     ]
    },
    {
     "ename": "CalledProcessError",
     "evalue": "Command '['git', 'checkout', 'tags/1.3']' returned non-zero exit status 1.",
     "output_type": "error",
     "traceback": [
      "\u001b[0;31m---------------------------------------------------------------------------\u001b[0m",
      "\u001b[0;31mCalledProcessError\u001b[0m                        Traceback (most recent call last)",
      "Cell \u001b[0;32mIn[4], line 8\u001b[0m\n\u001b[1;32m      6\u001b[0m \u001b[38;5;28;01mfor\u001b[39;00m t \u001b[38;5;129;01min\u001b[39;00m tags:\n\u001b[1;32m      7\u001b[0m     gitcommand \u001b[38;5;241m=\u001b[39m \u001b[38;5;124mf\u001b[39m\u001b[38;5;124m\"\u001b[39m\u001b[38;5;124mgit checkout tags/\u001b[39m\u001b[38;5;132;01m{\u001b[39;00mt\u001b[38;5;132;01m}\u001b[39;00m\u001b[38;5;124m\"\u001b[39m\n\u001b[0;32m----> 8\u001b[0m     \u001b[43msubprocess\u001b[49m\u001b[38;5;241;43m.\u001b[39;49m\u001b[43mrun\u001b[49m\u001b[43m(\u001b[49m\u001b[43margs\u001b[49m\u001b[38;5;241;43m=\u001b[39;49m\u001b[43mgitcommand\u001b[49m\u001b[38;5;241;43m.\u001b[39;49m\u001b[43msplit\u001b[49m\u001b[43m(\u001b[49m\u001b[43m)\u001b[49m\u001b[43m,\u001b[49m\u001b[43m \u001b[49m\u001b[43mcheck\u001b[49m\u001b[38;5;241;43m=\u001b[39;49m\u001b[38;5;28;43;01mTrue\u001b[39;49;00m\u001b[43m)\u001b[49m\n\u001b[1;32m      9\u001b[0m     lsst_hardware[t], lsst_system[t] \u001b[38;5;241m=\u001b[39m se\u001b[38;5;241m.\u001b[39mbuildHardwareAndSystem(defaultDirs, \n\u001b[1;32m     10\u001b[0m                                                                  atmosphereOverride\u001b[38;5;241m=\u001b[39matmos, \n\u001b[1;32m     11\u001b[0m                                                                  addLosses\u001b[38;5;241m=\u001b[39m\u001b[38;5;28;01mTrue\u001b[39;00m)\n\u001b[1;32m     12\u001b[0m     m5s[t] \u001b[38;5;241m=\u001b[39m se\u001b[38;5;241m.\u001b[39mmakeM5(lsst_hardware[t], lsst_system[t], darksky\u001b[38;5;241m=\u001b[39mdarksky, sky_mags\u001b[38;5;241m=\u001b[39m\u001b[38;5;28;01mNone\u001b[39;00m,\n\u001b[1;32m     13\u001b[0m            exptime\u001b[38;5;241m=\u001b[39m{\u001b[38;5;124m'\u001b[39m\u001b[38;5;124mu\u001b[39m\u001b[38;5;124m'\u001b[39m: \u001b[38;5;241m30\u001b[39m, \u001b[38;5;124m'\u001b[39m\u001b[38;5;124mg\u001b[39m\u001b[38;5;124m'\u001b[39m: \u001b[38;5;241m15\u001b[39m, \u001b[38;5;124m'\u001b[39m\u001b[38;5;124mr\u001b[39m\u001b[38;5;124m'\u001b[39m: \u001b[38;5;241m15\u001b[39m, \u001b[38;5;124m'\u001b[39m\u001b[38;5;124mi\u001b[39m\u001b[38;5;124m'\u001b[39m: \u001b[38;5;241m15\u001b[39m, \u001b[38;5;124m'\u001b[39m\u001b[38;5;124mz\u001b[39m\u001b[38;5;124m'\u001b[39m: \u001b[38;5;241m15\u001b[39m, \u001b[38;5;124m'\u001b[39m\u001b[38;5;124my\u001b[39m\u001b[38;5;124m'\u001b[39m: \u001b[38;5;241m15\u001b[39m},\n\u001b[1;32m     14\u001b[0m            nexp\u001b[38;5;241m=\u001b[39m{\u001b[38;5;124m'\u001b[39m\u001b[38;5;124mu\u001b[39m\u001b[38;5;124m'\u001b[39m: \u001b[38;5;241m1\u001b[39m, \u001b[38;5;124m'\u001b[39m\u001b[38;5;124mg\u001b[39m\u001b[38;5;124m'\u001b[39m: \u001b[38;5;241m2\u001b[39m, \u001b[38;5;124m'\u001b[39m\u001b[38;5;124mr\u001b[39m\u001b[38;5;124m'\u001b[39m: \u001b[38;5;241m2\u001b[39m, \u001b[38;5;124m'\u001b[39m\u001b[38;5;124mi\u001b[39m\u001b[38;5;124m'\u001b[39m: \u001b[38;5;241m2\u001b[39m, \u001b[38;5;124m'\u001b[39m\u001b[38;5;124mz\u001b[39m\u001b[38;5;124m'\u001b[39m: \u001b[38;5;241m2\u001b[39m, \u001b[38;5;124m'\u001b[39m\u001b[38;5;124my\u001b[39m\u001b[38;5;124m'\u001b[39m: \u001b[38;5;241m2\u001b[39m},\n\u001b[1;32m     15\u001b[0m            readnoise\u001b[38;5;241m=\u001b[39m\u001b[38;5;241m8.8\u001b[39m, othernoise\u001b[38;5;241m=\u001b[39m\u001b[38;5;241m0\u001b[39m, darkcurrent\u001b[38;5;241m=\u001b[39m\u001b[38;5;241m0.2\u001b[39m,\n\u001b[1;32m     16\u001b[0m            effarea\u001b[38;5;241m=\u001b[39mnp\u001b[38;5;241m.\u001b[39mpi\u001b[38;5;241m*\u001b[39m(\u001b[38;5;241m6.423\u001b[39m\u001b[38;5;241m/\u001b[39m\u001b[38;5;241m2\u001b[39m\u001b[38;5;241m*\u001b[39m\u001b[38;5;241m100\u001b[39m)\u001b[38;5;241m*\u001b[39m\u001b[38;5;241m*\u001b[39m\u001b[38;5;241m2\u001b[39m, X\u001b[38;5;241m=\u001b[39m\u001b[38;5;241m1.0\u001b[39m, fwhm500\u001b[38;5;241m=\u001b[39m\u001b[38;5;28;01mNone\u001b[39;00m)        \n",
      "File \u001b[0;32m~/miniconda3/envs/rubin-sim/lib/python3.11/subprocess.py:571\u001b[0m, in \u001b[0;36mrun\u001b[0;34m(input, capture_output, timeout, check, *popenargs, **kwargs)\u001b[0m\n\u001b[1;32m    569\u001b[0m     retcode \u001b[38;5;241m=\u001b[39m process\u001b[38;5;241m.\u001b[39mpoll()\n\u001b[1;32m    570\u001b[0m     \u001b[38;5;28;01mif\u001b[39;00m check \u001b[38;5;129;01mand\u001b[39;00m retcode:\n\u001b[0;32m--> 571\u001b[0m         \u001b[38;5;28;01mraise\u001b[39;00m CalledProcessError(retcode, process\u001b[38;5;241m.\u001b[39margs,\n\u001b[1;32m    572\u001b[0m                                  output\u001b[38;5;241m=\u001b[39mstdout, stderr\u001b[38;5;241m=\u001b[39mstderr)\n\u001b[1;32m    573\u001b[0m \u001b[38;5;28;01mreturn\u001b[39;00m CompletedProcess(process\u001b[38;5;241m.\u001b[39margs, retcode, stdout, stderr)\n",
      "\u001b[0;31mCalledProcessError\u001b[0m: Command '['git', 'checkout', 'tags/1.3']' returned non-zero exit status 1."
     ]
    }
   ],
   "source": [
    "tags = ['1.3', '1.4', '1.5', '1.6', '1.7', '1.8', '1.9']\n",
    "\n",
    "lsst_system = {}\n",
    "lsst_hardware = {}\n",
    "m5s = {}\n",
    "for t in tags:\n",
    "    gitcommand = f\"git checkout tags/{t}\"\n",
    "    subprocess.run(args=gitcommand.split(), check=True)\n",
    "    lsst_hardware[t], lsst_system[t] = se.buildHardwareAndSystem(defaultDirs, \n",
    "                                                                 atmosphereOverride=atmos, \n",
    "                                                                 addLosses=True)\n",
    "    m5s[t] = se.makeM5(lsst_hardware[t], lsst_system[t], darksky=darksky, sky_mags=None,\n",
    "           exptime={'u': 30, 'g': 15, 'r': 15, 'i': 15, 'z': 15, 'y': 15},\n",
    "           nexp={'u': 1, 'g': 2, 'r': 2, 'i': 2, 'z': 2, 'y': 2},\n",
    "           readnoise=8.8, othernoise=0, darkcurrent=0.2,\n",
    "           effarea=np.pi*(6.423/2*100)**2, X=1.0, fwhm500=None)        "
   ]
  },
  {
   "cell_type": "code",
   "execution_count": null,
   "id": "e0b463d9-29b4-4176-a68b-d0f0e433ccf9",
   "metadata": {},
   "outputs": [],
   "source": [
    "other = [] # git sha here if necessary\n",
    "for t in other:\n",
    "    gitcommand = f\"git checkout {t}\"\n",
    "    subprocess.run(args=gitcommand.split(), check=True)\n",
    "    lsst_hardware[t], lsst_system[t] = se.buildHardwareAndSystem(defaultDirs, \n",
    "                                                                 atmosphereOverride=atmos, \n",
    "                                                                 addLosses=True)\n",
    "    m5s[t] = se.makeM5(lsst_hardware[t], lsst_system[t], darksky=darksky, sky_mags=None,\n",
    "           exptime={'u': 30, 'g': 15, 'r': 15, 'i': 15, 'z': 15, 'y': 15},\n",
    "           nexp={'u': 1, 'g': 2, 'r': 2, 'i': 2, 'z': 2, 'y': 2},\n",
    "           readnoise=8.8, othernoise=0, darkcurrent=0.2,\n",
    "           effarea=np.pi*(6.423/2*100)**2, X=1.0, fwhm500=None) "
   ]
  },
  {
   "cell_type": "code",
   "execution_count": null,
   "id": "c398d09b-316e-48ee-abb1-738152c391b9",
   "metadata": {},
   "outputs": [],
   "source": [
    "gitcommand = f\"git checkout main\"\n",
    "subprocess.run(args=gitcommand.split(), check=True)"
   ]
  },
  {
   "cell_type": "code",
   "execution_count": null,
   "id": "b0820fc8-f8ff-47e6-92d1-f589b883fe1c",
   "metadata": {},
   "outputs": [],
   "source": [
    "# Just to track other input conditions\n",
    "m5s['1.9']"
   ]
  },
  {
   "cell_type": "code",
   "execution_count": null,
   "id": "f2a52ce8-679a-4b12-8043-df694f43fa69",
   "metadata": {},
   "outputs": [],
   "source": [
    "m5_srd_min = m5s['1.9']['m5_min']\n",
    "m5_srd_fid = m5s['1.9']['m5_fid']"
   ]
  },
  {
   "cell_type": "code",
   "execution_count": null,
   "id": "1c02efbd-683e-492f-b81b-f0ee387b7dca",
   "metadata": {},
   "outputs": [],
   "source": [
    "m5 = pd.DataFrame([m5s[t]['m5'] for t in m5s] + [m5_srd_fid, m5_srd_min], index=[[f'm5 for {t}' for t in m5s] + ['m5 SRD design', 'm5 SRD minimum']])"
   ]
  },
  {
   "cell_type": "code",
   "execution_count": null,
   "id": "9ef08c56-82e1-4576-a22a-b4785bf58b73",
   "metadata": {},
   "outputs": [],
   "source": [
    "m5.round(2)"
   ]
  },
  {
   "cell_type": "code",
   "execution_count": null,
   "id": "4e048a56-6fe3-4232-871f-a0449ecf2d94",
   "metadata": {},
   "outputs": [],
   "source": [
    "colors =  {\"u\": \"cyan\", \"g\": \"g\", \"r\": \"orange\", \"i\": \"r\", \"z\": \"m\", \"y\": \"b\"}\n",
    "versions = list(m5s.keys())\n",
    "plt.figure(figsize=(8, 5))\n",
    "for f in 'ugrizy':\n",
    "    plt.plot(versions, m5[f][:-2], color=colors[f], marker='o', linestyle='-', label=f)\n",
    "plt.legend(loc=(1.01, .3), fancybox=True, fontsize='x-large')\n",
    "plt.grid(True, alpha=0.5)\n",
    "plt.ylabel(\"Magnitude\", fontsize='x-large')\n",
    "plt.xlabel(\"Throughputs Version\", fontsize='x-large')"
   ]
  },
  {
   "cell_type": "code",
   "execution_count": null,
   "id": "0898b389-75af-4095-9039-459b1ce06514",
   "metadata": {},
   "outputs": [],
   "source": [
    "d = m5[4:7]\n",
    "(d - d.loc['m5 for 1.7'].values).round(2)"
   ]
  },
  {
   "cell_type": "code",
   "execution_count": null,
   "id": "56953af9-2bb6-40a9-aa33-91e8fa23b768",
   "metadata": {},
   "outputs": [],
   "source": [
    "tt = ['1.7', '1.8', '1.9',]\n",
    "colors =  {\"u\": \"cyan\", \"g\": \"g\", \"r\": \"orange\", \"i\": \"r\", \"z\": \"m\", \"y\": \"b\"}\n",
    "linestyles = {'1.3': '-.', '1.4': '-.', '1.7': '-.', '1.8': ':', '1.9': '-'}\n",
    "\n",
    "plt.figure(figsize=(8, 5))\n",
    "for t in tt:\n",
    "    for f in 'ugrizy':\n",
    "        plt.plot(lsst_system[t][f].wavelen, lsst_system[t][f].sb, color=colors[f], linestyle=linestyles[t], label=f\"{f} {t}\")\n",
    "plt.legend(loc=(1.01, 0.4), ncols=3, fancybox=True, fontsize='large')\n",
    "plt.xlabel(\"Wavelength (nm)\", fontsize='large')\n",
    "plt.ylabel(\"Throughput\", fontsize='large')\n",
    "plt.ylim(0, 0.7)\n",
    "plt.grid(True, alpha=0.5)"
   ]
  },
  {
   "cell_type": "code",
   "execution_count": null,
   "id": "cc7a7f59-3255-4e0e-8122-4dea342c5ea6",
   "metadata": {},
   "outputs": [],
   "source": [
    "# Effective time calculation\n",
    "# Fractional change in effective time is proportional to change in m5.\n",
    "# HERE - longer time = better\n",
    "delta_m5 = (m5[:-2] - m5.loc['m5 for 1.7'].values)\n",
    "dtime = np.power(10, 0.8 * (delta_m5))\n",
    "dtime.index = [i[0].replace('m5 for', \"Teff for\") for i in dtime.index.values]\n",
    "dtime[-3:]"
   ]
  },
  {
   "cell_type": "code",
   "execution_count": null,
   "id": "f6274bdb-1122-4216-a867-726d467c3d7b",
   "metadata": {},
   "outputs": [],
   "source": [
    "# SRD time distribution is approximate weight per filter (like the distribution of visits in the SRD)\n",
    "SRD_time_distribution = pd.Series({'u': 0.068, 'g': 0.097, 'r': 0.223, 'i': 0.223, 'z': 0.194, 'y': 0.194})\n",
    "SRD_time_distribution, SRD_time_distribution.sum()"
   ]
  },
  {
   "cell_type": "code",
   "execution_count": null,
   "id": "dc8f414e-86b1-4a54-a558-dd7da35a0a66",
   "metadata": {},
   "outputs": [],
   "source": [
    "# So weight the difference in effective time by the fraction of visits in that filter -- look at the sum to see the overall effect.\n",
    "weighted_dtime = dtime.multiply(SRD_time_distribution)\n",
    "weighted_dtime['sum'] = weighted_dtime.sum(axis=1)\n",
    "weighted_dtime.round(2)"
   ]
  },
  {
   "cell_type": "code",
   "execution_count": null,
   "id": "c5628588-9999-48b8-856e-b2e5a8523649",
   "metadata": {},
   "outputs": [],
   "source": [
    "pd.DataFrame(weighted_dtime.loc[[\"Teff for 1.7\", \"Teff for 1.9\"], 'sum']).round(2)"
   ]
  }
 ],
 "metadata": {
  "kernelspec": {
   "display_name": "Python 3 (ipykernel)",
   "language": "python",
   "name": "python3"
  },
  "language_info": {
   "codemirror_mode": {
    "name": "ipython",
    "version": 3
   },
   "file_extension": ".py",
   "mimetype": "text/x-python",
   "name": "python",
   "nbconvert_exporter": "python",
   "pygments_lexer": "ipython3",
   "version": "3.11.6"
  }
 },
 "nbformat": 4,
 "nbformat_minor": 5
}
