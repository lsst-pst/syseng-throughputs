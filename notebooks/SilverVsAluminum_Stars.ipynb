{
 "cells": [
  {
   "cell_type": "markdown",
   "metadata": {},
   "source": [
    "Evaluate the impact of a silver-coated mirror vs. an aluminum-coated mirror on stellar colors as a function of metallicity. "
   ]
  },
  {
   "cell_type": "code",
   "execution_count": 1,
   "metadata": {},
   "outputs": [],
   "source": [
    "import os\n",
    "import numpy as np\n",
    "import matplotlib.pyplot as plt\n",
    "%matplotlib inline\n",
    "from matplotlib.lines import Line2D\n",
    "import pandas as pd\n",
    "\n",
    "import rubin_sim.phot_utils as photUtils\n",
    "import syseng_throughputs as st"
   ]
  },
  {
   "cell_type": "code",
   "execution_count": 2,
   "metadata": {},
   "outputs": [
    {
     "data": {
      "text/plain": [
       "{'detector': '/Users/lynnej/lsst_repos/syseng_throughputs/components/camera/detector/joint_minimum',\n",
       " 'lens1': '/Users/lynnej/lsst_repos/syseng_throughputs/components/camera/lens1',\n",
       " 'lens2': '/Users/lynnej/lsst_repos/syseng_throughputs/components/camera/lens2',\n",
       " 'lens3': '/Users/lynnej/lsst_repos/syseng_throughputs/components/camera/lens3',\n",
       " 'filters': '/Users/lynnej/lsst_repos/syseng_throughputs/components/camera/filters',\n",
       " 'mirror1': '/Users/lynnej/lsst_repos/syseng_throughputs/components/telescope/mirror1',\n",
       " 'mirror2': '/Users/lynnej/lsst_repos/syseng_throughputs/components/telescope/mirror2',\n",
       " 'mirror3': '/Users/lynnej/lsst_repos/syseng_throughputs/components/telescope/mirror3',\n",
       " 'atmosphere': '/Users/lynnej/lsst_repos/syseng_throughputs/siteProperties'}"
      ]
     },
     "execution_count": 2,
     "metadata": {},
     "output_type": "execute_result"
    }
   ],
   "source": [
    "defaultDirs = st.setDefaultDirs()\n",
    "defaultDirs"
   ]
  },
  {
   "cell_type": "code",
   "execution_count": 3,
   "metadata": {},
   "outputs": [],
   "source": [
    "srd = False\n",
    "\n",
    "readnoise = 8.8\n",
    "\n",
    "# srd true = no losses, X=1.0, fwhm500 = 0.62\n",
    "# srd false = losses, X=1.2, fwhm500 = 0.72\n",
    "if srd:\n",
    "    addLosses = False\n",
    "else:\n",
    "    addLosses = True"
   ]
  },
  {
   "cell_type": "code",
   "execution_count": 4,
   "metadata": {},
   "outputs": [
    {
     "name": "stderr",
     "output_type": "stream",
     "text": [
      "/Users/lynnej/lsst_repos/rubin_sim/rubin_sim/phot_utils/bandpass.py:100: UserWarning: Wavelength sampling of 1.0 nm is > 0.2 nm, this may not work well with a Sed object. Consider resampling with resample_bandpass method.\n",
      "  warnings.warn(\n",
      "/Users/lynnej/lsst_repos/rubin_sim/rubin_sim/phot_utils/bandpass.py:100: UserWarning: Wavelength sampling of 800.0 nm is > 0.2 nm, this may not work well with a Sed object. Consider resampling with resample_bandpass method.\n",
      "  warnings.warn(\n"
     ]
    }
   ],
   "source": [
    "# Read the non-mirror components - with losses or not depending on srd (without) or not (with)\n",
    "detector = {}\n",
    "detector['det'] = st.buildDetector(defaultDirs['detector'], addLosses=addLosses)\n",
    "detector['e2v'] = st.buildDetector('/'.join(defaultDirs['detector'].split('/')[:-1] + ['e2v']), \n",
    "                                   addLosses=addLosses)\n",
    "detector['itl'] = st.buildDetector('/'.join(defaultDirs['detector'].split('/')[:-1] + ['itl']),\n",
    "                                  addLosses=addLosses)\n",
    "lens1 = st.buildLens(defaultDirs['lens1'], addLosses=addLosses)\n",
    "lens2 = st.buildLens(defaultDirs['lens2'], addLosses=addLosses)\n",
    "lens3 = st.buildLens(defaultDirs['lens3'], addLosses=addLosses)\n",
    "filters = st.buildFilters(defaultDirs['filters'], addLosses=addLosses)\n",
    "if srd:\n",
    "    X=1.0\n",
    "    atmos = st.readAtmosphere(defaultDirs['atmosphere'], atmosFile='atmos_10_aerosol.dat')\n",
    "else:\n",
    "    X=1.2\n",
    "    atmos = st.readAtmosphere(defaultDirs['atmosphere'], atmosFile='pachonModtranAtm_12_aerosol.dat')"
   ]
  },
  {
   "cell_type": "code",
   "execution_count": 5,
   "metadata": {},
   "outputs": [
    {
     "data": {
      "text/plain": [
       "(['m1_ProtAl_Ideal.dat', 'm1_Losses'],\n",
       " ['m2_Losses', 'm2_ProtAg_Ideal.dat'],\n",
       " ['m3_Losses', 'm3_ProtAl_Ideal.dat'])"
      ]
     },
     "execution_count": 5,
     "metadata": {},
     "output_type": "execute_result"
    }
   ],
   "source": [
    "# We need a silver mirror and an aluminum mirror\n",
    "os.listdir(defaultDirs['mirror1']), os.listdir(defaultDirs['mirror2']), os.listdir(defaultDirs['mirror3'])"
   ]
  },
  {
   "cell_type": "code",
   "execution_count": 6,
   "metadata": {},
   "outputs": [
    {
     "ename": "NameError",
     "evalue": "name 'Bandpass' is not defined",
     "output_type": "error",
     "traceback": [
      "\u001b[0;31m---------------------------------------------------------------------------\u001b[0m",
      "\u001b[0;31mNameError\u001b[0m                                 Traceback (most recent call last)",
      "Cell \u001b[0;32mIn[6], line 4\u001b[0m\n\u001b[1;32m      2\u001b[0m losses \u001b[38;5;241m=\u001b[39m {}\n\u001b[1;32m      3\u001b[0m \u001b[38;5;28;01mfor\u001b[39;00m m \u001b[38;5;129;01min\u001b[39;00m (\u001b[38;5;124m'\u001b[39m\u001b[38;5;124mmirror1\u001b[39m\u001b[38;5;124m'\u001b[39m, \u001b[38;5;124m'\u001b[39m\u001b[38;5;124mmirror2\u001b[39m\u001b[38;5;124m'\u001b[39m, \u001b[38;5;124m'\u001b[39m\u001b[38;5;124mmirror3\u001b[39m\u001b[38;5;124m'\u001b[39m):\n\u001b[0;32m----> 4\u001b[0m     losses[m] \u001b[38;5;241m=\u001b[39m \u001b[43mBandpass\u001b[49m()\n\u001b[1;32m      5\u001b[0m     losses[m]\u001b[38;5;241m.\u001b[39mread_throughput(os\u001b[38;5;241m.\u001b[39mpath\u001b[38;5;241m.\u001b[39mjoin(defaultDirs[m], \u001b[38;5;124m'\u001b[39m\u001b[38;5;132;01m%s\u001b[39;00m\u001b[38;5;132;01m%s\u001b[39;00m\u001b[38;5;124m_Losses\u001b[39m\u001b[38;5;124m'\u001b[39m \u001b[38;5;241m%\u001b[39m (m[\u001b[38;5;241m0\u001b[39m],m[\u001b[38;5;241m-\u001b[39m\u001b[38;5;241m1\u001b[39m]), \n\u001b[1;32m      6\u001b[0m                                           \u001b[38;5;124m'\u001b[39m\u001b[38;5;132;01m%s\u001b[39;00m\u001b[38;5;132;01m%s\u001b[39;00m\u001b[38;5;124m_Losses.dat\u001b[39m\u001b[38;5;124m'\u001b[39m \u001b[38;5;241m%\u001b[39m (m[\u001b[38;5;241m0\u001b[39m], m[\u001b[38;5;241m-\u001b[39m\u001b[38;5;241m1\u001b[39m])))\n",
      "\u001b[0;31mNameError\u001b[0m: name 'Bandpass' is not defined"
     ]
    }
   ],
   "source": [
    "# mirror losses\n",
    "losses = {}\n",
    "for m in ('mirror1', 'mirror2', 'mirror3'):\n",
    "    losses[m] = Bandpass()\n",
    "    losses[m].read_throughput(os.path.join(defaultDirs[m], '%s%s_Losses' % (m[0],m[-1]), \n",
    "                                          '%s%s_Losses.dat' % (m[0], m[-1])))"
   ]
  },
  {
   "cell_type": "code",
   "execution_count": null,
   "metadata": {},
   "outputs": [],
   "source": [
    "# Mirror losses are not the same (up vs. down-facing), so turn them off for now and add after\n",
    "mirror = {}\n",
    "mirror['Al'] = st.buildMirror(defaultDirs['mirror1'], addLosses=False)\n",
    "mirror['Ag'] = st.buildMirror(defaultDirs['mirror2'], addLosses=False)\n",
    "# BUT because they are not material dependent and just multiply by the mirror throughput .. \n",
    "# we can add them back anyway (as we do below)"
   ]
  },
  {
   "cell_type": "code",
   "execution_count": null,
   "metadata": {},
   "outputs": [],
   "source": [
    "# Ok .. 2 combos of mirrors x 2 detectors\n",
    "combos = [['Al', 'Ag', 'Al'], ['Ag', 'Ag', 'Ag']]\n",
    "\n",
    "\n",
    "m5 = {}\n",
    "system_all = {}\n",
    "for combo in combos:\n",
    "    comboname = '-'.join(combo)\n",
    "    system_all[comboname] = {}\n",
    "    m5[comboname] = {}\n",
    "    for det in ['e2v', 'itl']:\n",
    "        hardware = {}\n",
    "        system = {}\n",
    "        for f in filters:\n",
    "            wavelen = detector[det].wavelen\n",
    "            # Hardware\n",
    "            sb = detector[det].sb * lens1.sb * lens2.sb * lens3.sb * filters[f].sb\n",
    "            if not srd:\n",
    "                sb *= losses['mirror1'].sb * losses['mirror2'].sb * losses['mirror3'].sb\n",
    "            sb *= mirror[combo[0]].sb * mirror[combo[1]].sb * mirror[combo[2]].sb\n",
    "            hardware[f] = Bandpass()\n",
    "            hardware[f].set_bandpass(wavelen, sb)\n",
    "            system[f] = Bandpass()\n",
    "            system[f].set_bandpass(wavelen, sb * atmos.sb)\n",
    "        system_all[comboname][det] = system\n",
    "        if srd:\n",
    "            m5[comboname][det] = st.makeM5(hardware, system, darksky=None, \n",
    "                                           exptime=15, nexp=2,\n",
    "                                           readnoise=8.8, othernoise=0.,\n",
    "                                           darkcurrent=0.2, fwhm500=0.62, X=1.0)\n",
    "        else:\n",
    "            # Default exptime values put u=1x30, grizy = 2x15\n",
    "            m5[comboname][det] = st.makeM5(hardware, system, darksky=None, \n",
    "                                           readnoise=readnoise, othernoise=0.,\n",
    "                                           darkcurrent=0.2, fwhm500=0.72, X=X)"
   ]
  },
  {
   "cell_type": "code",
   "execution_count": null,
   "metadata": {},
   "outputs": [],
   "source": [
    "# Plot the entire throughputs\n",
    "plt.figure(figsize=(12, 8))\n",
    "linestyles = ['-', '--', '-.', ':']\n",
    "leg_elements = []\n",
    "for i, combo in enumerate(combos):\n",
    "    label = '-'.join(combo) + ' E2V'\n",
    "    linestyle= linestyles[i]\n",
    "    st.plotBandpasses(system_all['-'.join(combo)]['e2v'], newfig=False, addlegend=False, linestyle=linestyle)\n",
    "    leg_elements.append(Line2D([0], [0], color='k', linestyle=linestyle, label=label))\n",
    "plt.legend(handles=leg_elements, loc='upper left', fontsize='x-large', fancybox=True)"
   ]
  },
  {
   "cell_type": "code",
   "execution_count": null,
   "metadata": {},
   "outputs": [],
   "source": [
    "# Plot the entire throughputs\n",
    "plt.figure(figsize=(12, 8))\n",
    "linestyles = ['-', '--', '-.', ':']\n",
    "leg_elements = []\n",
    "for i, combo in enumerate(combos):\n",
    "    label = '-'.join(combo) + ' ITL'\n",
    "    linestyle= linestyles[i]\n",
    "    st.plotBandpasses(system_all['-'.join(combo)]['itl'], newfig=False, addlegend=False, linestyle=linestyle)\n",
    "    leg_elements.append(Line2D([0], [0], color='k', linestyle=linestyle, label=label))\n",
    "plt.legend(handles=leg_elements, loc='upper left', fontsize='x-large', fancybox=True)"
   ]
  },
  {
   "cell_type": "code",
   "execution_count": null,
   "metadata": {},
   "outputs": [],
   "source": [
    "print('filter vendor Al-Ag-Al Ag-Ag-Ag')\n",
    "for f in 'ugrizy':\n",
    "    for det in ['e2v', 'itl']:\n",
    "        effwavelenphi1, effwavelensb1 = system_all['Al-Ag-Al'][det][f].calc_eff_wavelen()\n",
    "        effwavelenphi2, effwavelensb2 = system_all['Ag-Ag-Ag'][det][f].calc_eff_wavelen()\n",
    "        print(f'{f} {det} {effwavelensb1 :.2f} {effwavelensb2 :.2f} {(effwavelensb1/effwavelensb2) :.3f}')"
   ]
  },
  {
   "cell_type": "markdown",
   "metadata": {},
   "source": [
    "Read SED curves over a range of metallicities and temperatures. Use Kurucz models for inputs. (https://www.stsci.edu/hst/instrumentation/reference-data-for-calibration-and-tools/astronomical-catalogs/kurucz-1993-models)"
   ]
  },
  {
   "cell_type": "code",
   "execution_count": null,
   "metadata": {},
   "outputs": [],
   "source": [
    "sed_dir = '/Users/lynnej/rubin_sim_data/seds/kurucz_r'\n",
    "kurucz_files = os.listdir(sed_dir)\n",
    "k_list = []\n",
    "# make preliminary cut for main sequence, g40 stars & g20 dwarfs\n",
    "for filename in kurucz_files:\n",
    "    if filename[-3:] == 'g40':\n",
    "        k_list.append(filename)\n",
    "    if filename[-3:] == 'g20':\n",
    "        k_list.append(filename)\n",
    "    if filename.startswith('k') and 'fits' in filename:\n",
    "        k_list.append(filename)\n",
    "k_list  = list(set(k_list))\n",
    "atemperature = []\n",
    "amet = []\n",
    "alogg = []\n",
    "# make secondary cut for stars with temperature > 4000 deg\n",
    "k_list_cut = []\n",
    "for s in k_list:\n",
    "    tmp = s.split('_')\n",
    "    met = float(tmp[0][2:])\n",
    "    if tmp[0][1] == 'm':\n",
    "        met = -1 * met        \n",
    "    met = met/10.0\n",
    "    temperature = float(tmp[1][:5])\n",
    "    logg = float(tmp[2][1:])\n",
    "    logg = logg / 10.0\n",
    "    if (temperature > 4000.0):\n",
    "        amet.append(met)\n",
    "        atemperature.append(temperature)\n",
    "        alogg.append(logg)\n",
    "        k_list_cut.append(s)\n",
    "temperature = np.array(atemperature)\n",
    "met = np.array(amet)\n",
    "feh = met - 0.02\n",
    "logg = np.array(alogg)\n",
    "k_list = k_list_cut\n",
    "\n",
    "# actually read the stars SEDS from disk\n",
    "stars = {}\n",
    "for s in k_list:\n",
    "    stars[s] = photUtils.Sed()\n",
    "    stars[s].read_sed_flambda(os.path.join(sed_dir, s))\n",
    "print(\"# Read %d stars from %s\" %(len(k_list), sed_dir))\n",
    "# resample onto the standard bandpass for Bandpass obj's and calculate fnu to speed later calculations\n",
    "wavelen = system_all['Ag-Ag-Ag']['e2v']['r'].wavelen.copy()\n",
    "for s in k_list:\n",
    "    stars[s].synchronize_sed(wavelen_min=wavelen.min, wavelen_max=wavelen.max)\n",
    "    \n",
    "print(len(stars), len(met))"
   ]
  },
  {
   "cell_type": "code",
   "execution_count": null,
   "metadata": {},
   "outputs": [],
   "source": [
    "print(len(met), len(logg), len(temperature), len(k_list), len(stars))\n",
    "\n",
    "fig, axs = plt.subplots(2, 2)\n",
    "\n",
    "n,b,p = axs[0][0].hist(met, bins=20)\n",
    "n,b,p = axs[0][1].hist(temperature, bins=20)\n",
    "n,b,p = axs[1][0].hist(logg)\n"
   ]
  },
  {
   "cell_type": "code",
   "execution_count": null,
   "metadata": {},
   "outputs": [],
   "source": [
    "# Calculate u-g and g-r colors for all of these stars \n",
    "ug = {}\n",
    "gr = {}\n",
    "\n",
    "for combo in ['Al-Ag-Al', 'Ag-Ag-Ag']:\n",
    "    ug[combo] = {}\n",
    "    gr[combo] = {}\n",
    "    for det in ['e2v', 'itl']:\n",
    "        ug[combo][det] = np.zeros(len(stars), float)\n",
    "        gr[combo][det] = np.zeros(len(stars), float)\n",
    "        for i, s in enumerate(stars):\n",
    "            u = stars[s].calc_mag(system_all[combo][det]['u'])\n",
    "            g = stars[s].calc_mag(system_all[combo][det]['g'])\n",
    "            r = stars[s].calc_mag(system_all[combo][det]['r'])\n",
    "            ug[combo][det][i] = u - g\n",
    "            gr[combo][det][i] = g - r"
   ]
  },
  {
   "cell_type": "code",
   "execution_count": null,
   "metadata": {},
   "outputs": [],
   "source": [
    "combo = 'Al-Ag-Al'\n",
    "det = 'e2v'\n",
    "\n",
    "mask = np.where((logg >= 4) & (logg <= 5))\n",
    "for combo in ['Al-Ag-Al', 'Ag-Ag-Ag']:\n",
    "    # plot u-g color as a function of metallicity for bins of g-r colors\n",
    "    fig, axs = plt.subplots(1, 2, figsize=(10, 4))\n",
    "    ax = axs[0]\n",
    "    s = ax.scatter(gr[combo][det][mask], ug[combo][det][mask], c=feh[mask])\n",
    "    fig.colorbar(s, label='[Fe/H]', ax=ax)\n",
    "    ax.set_xlabel('g-r')\n",
    "    ax.set_ylabel('u-g')\n",
    "    ax = axs[1]\n",
    "    s = ax.scatter(gr[combo][det][mask], ug[combo][det][mask], c=temperature[mask])\n",
    "    fig.colorbar(s, label='Temperature', ax=ax)\n",
    "    ax.set_xlabel('g-r')\n",
    "    ax.set_ylabel('u-g')\n",
    "\n",
    "\n",
    "    plt.figure()\n",
    "    plt.scatter(feh[mask], ug[combo][det][mask], c=gr[combo][det][mask], s=(gr[combo][det][mask]+1)*10,\n",
    "                linestyle='', marker='.', vmin=0, vmax=1)\n",
    "    plt.ylim(0.5, 3.0)\n",
    "    plt.xlim(-3, 1)\n",
    "    plt.colorbar(label='g-r color')\n",
    "    plt.xlabel('[Fe/H]')\n",
    "    plt.ylabel('u-g color')\n",
    "    plt.title(combo)"
   ]
  },
  {
   "cell_type": "code",
   "execution_count": null,
   "metadata": {},
   "outputs": [],
   "source": [
    "refstar = np.where((np.abs(temperature - 6000) < 100) & \n",
    "                   (feh > -3) & (logg > 2.5) &\n",
    "                   (np.abs(gr[combo][det] - 0.3) < 0.02))\n",
    "print(logg[refstar])\n",
    "\n",
    "combo = 'Al-Ag-Al'\n",
    "det = 'e2v'\n",
    "plt.scatter(feh[refstar], ug[combo][det][refstar], c=logg[refstar], marker='x', linestyle='', label=f'{combo} {det}')\n",
    "#det = 'itl'\n",
    "#plt.scatter(feh[refstar], ug[combo][det][refstar], c=logg[refstar], marker='x', linestyle='', label=f'{combo} {det}')\n",
    "combo= 'Ag-Ag-Ag'\n",
    "det = 'e2v'\n",
    "plt.scatter(feh[refstar], ug[combo][det][refstar], c=logg[refstar], marker='o', linestyle='', label=f'{combo} {det}')\n",
    "#det = 'itl'\n",
    "#plt.scatter(feh[refstar], ug[combo][det][refstar], c=logg[refstar], marker='o', linestyle='', label=f'{combo} {det}')\n",
    "plt.colorbar(label='logg')\n",
    "plt.legend()\n",
    "plt.xlabel('[Fe/H]')\n",
    "plt.ylabel('u-g color')\n",
    "plt.grid(alpha=0.3)\n",
    "plt.figure()\n",
    "plt.plot(feh[refstar], ug['Al-Ag-Al'][det][refstar] - ug['Ag-Ag-Ag'][det][refstar], 'k.')"
   ]
  },
  {
   "cell_type": "code",
   "execution_count": null,
   "metadata": {},
   "outputs": [],
   "source": [
    "# Maybe just plot the difference in u-g colors .. \n",
    "\n",
    "det = 'e2v'\n",
    "\n",
    "delta = ug['Al-Ag-Al'][det][mask] - ug['Ag-Ag-Ag'][det][mask]\n",
    "\n",
    "plt.figure()\n",
    "plt.scatter(met[mask], delta, c=gr[combo][det][mask], s=(gr[combo][det][mask]+1)*10,\n",
    "            linestyle='', marker='.', vmin=0, vmax=1)\n",
    "plt.colorbar(label='g-r color')\n",
    "plt.xlabel('log(Z)')\n",
    "plt.ylabel('Change in (u-g) between mirror coatings')"
   ]
  },
  {
   "cell_type": "code",
   "execution_count": null,
   "metadata": {},
   "outputs": [],
   "source": [
    "plt.figure()\n",
    "plt.scatter(gr[combo][det][mask], delta, c=met[mask], #s=(gr[combo][det]+1)*10,\n",
    "            linestyle='', marker='.')\n",
    "plt.colorbar(label='log(Z)')\n",
    "plt.xlabel('g-r color')\n",
    "plt.ylabel('Change in (u-g) between mirror coatings')"
   ]
  },
  {
   "cell_type": "code",
   "execution_count": null,
   "metadata": {},
   "outputs": [],
   "source": [
    "combo = 'Ag-Ag-Ag'\n",
    "combo = 'Al-Ag-Al'\n",
    "\n",
    "delta = ug[combo]['e2v'] - ug[combo]['itl']\n",
    "\n",
    "plt.figure()\n",
    "plt.scatter(met, delta, c=gr[combo][det], \n",
    "            linestyle='', marker='.')\n",
    "plt.colorbar(label='g-r color')\n",
    "plt.xlabel('Metallicity')\n",
    "plt.ylabel('Change in (u-g) between detectors')"
   ]
  },
  {
   "cell_type": "code",
   "execution_count": null,
   "metadata": {},
   "outputs": [],
   "source": []
  }
 ],
 "metadata": {
  "kernelspec": {
   "display_name": "Python 3 (ipykernel)",
   "language": "python",
   "name": "python3"
  },
  "language_info": {
   "codemirror_mode": {
    "name": "ipython",
    "version": 3
   },
   "file_extension": ".py",
   "mimetype": "text/x-python",
   "name": "python",
   "nbconvert_exporter": "python",
   "pygments_lexer": "ipython3",
   "version": "3.11.3"
  }
 },
 "nbformat": 4,
 "nbformat_minor": 2
}
