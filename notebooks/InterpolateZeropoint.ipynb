{
 "cells": [
  {
   "cell_type": "code",
   "execution_count": 1,
   "id": "ac0993b3-9b77-45ae-89e9-c64536602298",
   "metadata": {},
   "outputs": [],
   "source": [
    "import os\n",
    "import copy\n",
    "import numpy as np\n",
    "import matplotlib.pyplot as plt\n",
    "import pandas as pd\n",
    "import sqlite3\n",
    "import syseng_throughputs as st\n",
    "import rubin_sim.phot_utils as pt\n",
    "from rubin_sim.data import get_data_dir"
   ]
  },
  {
   "cell_type": "code",
   "execution_count": 2,
   "id": "69feead5-0019-46ae-a219-76142e841885",
   "metadata": {},
   "outputs": [
    {
     "name": "stdout",
     "output_type": "stream",
     "text": [
      "{'detector': '/Users/lynnej/lsst_repos/syseng_throughputs/components/camera/detector/joint_minimum', 'lens1': '/Users/lynnej/lsst_repos/syseng_throughputs/components/camera/lens1', 'lens2': '/Users/lynnej/lsst_repos/syseng_throughputs/components/camera/lens2', 'lens3': '/Users/lynnej/lsst_repos/syseng_throughputs/components/camera/lens3', 'filters': '/Users/lynnej/lsst_repos/syseng_throughputs/components/camera/filters', 'mirror1': '/Users/lynnej/lsst_repos/syseng_throughputs/components/telescope/mirror1', 'mirror2': '/Users/lynnej/lsst_repos/syseng_throughputs/components/telescope/mirror2', 'mirror3': '/Users/lynnej/lsst_repos/syseng_throughputs/components/telescope/mirror3', 'atmosphere': '/Users/lynnej/lsst_repos/syseng_throughputs/siteProperties'}\n"
     ]
    }
   ],
   "source": [
    "# Get defaults (joint minimum detector)\n",
    "defaultDirs = st.setDefaultDirs()\n",
    "#defaultDirs['detector'] = defaultDirs['detector'].replace('/joint_minimum', '/itl')\n",
    "print(defaultDirs)\n",
    "\n",
    "airmasses = np.arange(1.0, 2.6, 0.1).round(2)\n",
    "\n",
    "# Build system and hardware at all airmasses in the standard atmosphere set\n",
    "system = {}\n",
    "for x in airmasses:\n",
    "    atmos = st.readAtmosphere(os.path.join(get_data_dir(), 'throughputs', 'atmos'), atmosFile=f'atmos_{x*10 :.0f}_aerosol.dat')\n",
    "    h, s = st.buildHardwareAndSystem(defaultDirs, addLosses=True,  atmosphereOverride=atmos)\n",
    "    system[x] = s\n",
    "hardware = h"
   ]
  },
  {
   "cell_type": "code",
   "execution_count": 3,
   "id": "e9a0c0a5-68d9-4768-a833-41c1da3aa82e",
   "metadata": {},
   "outputs": [],
   "source": [
    "# Calculate zeropoint at a range of airmasses, one second exposure time\n",
    "phot_params = pt.PhotometricParameters(exptime=1, nexp=1, gain=1.0)\n",
    "\n",
    "zp = {}\n",
    "for f in 'ugrizy':\n",
    "    zp[f] = []\n",
    "    for x in airmasses:\n",
    "        zp[f].append(system[x][f].calc_zp_t(phot_params))\n",
    "    zp[f] = np.array(zp[f])"
   ]
  },
  {
   "cell_type": "code",
   "execution_count": 4,
   "id": "514b9765-0761-4af9-9651-235a07aa01ab",
   "metadata": {},
   "outputs": [],
   "source": [
    "# Calculate zeropoints at one airmass, with a range of exposure times\n",
    "exptimes = np.arange(1, 120.5, 1)\n",
    "x = 1.0\n",
    "zpt = {}\n",
    "for f in 'ugrizy':\n",
    "    zpt[f] = []\n",
    "    for t in exptimes:\n",
    "        phot_params = pt.PhotometricParameters(exptime=t, nexp=1, gain=1.0)\n",
    "        zpt[f].append(system[x][f].calc_zp_t(phot_params))\n",
    "    zpt[f] = np.array(zpt[f])"
   ]
  },
  {
   "cell_type": "code",
   "execution_count": 5,
   "id": "c320aa1d-67a6-4173-a14e-c4a61b9782d9",
   "metadata": {},
   "outputs": [
    {
     "data": {
      "text/html": [
       "<div>\n",
       "<style scoped>\n",
       "    .dataframe tbody tr th:only-of-type {\n",
       "        vertical-align: middle;\n",
       "    }\n",
       "\n",
       "    .dataframe tbody tr th {\n",
       "        vertical-align: top;\n",
       "    }\n",
       "\n",
       "    .dataframe thead th {\n",
       "        text-align: right;\n",
       "    }\n",
       "</style>\n",
       "<table border=\"1\" class=\"dataframe\">\n",
       "  <thead>\n",
       "    <tr style=\"text-align: right;\">\n",
       "      <th></th>\n",
       "      <th>u</th>\n",
       "      <th>g</th>\n",
       "      <th>r</th>\n",
       "      <th>i</th>\n",
       "      <th>z</th>\n",
       "      <th>y</th>\n",
       "    </tr>\n",
       "  </thead>\n",
       "  <tbody>\n",
       "    <tr>\n",
       "      <th>1.0</th>\n",
       "      <td>26.524237</td>\n",
       "      <td>28.508375</td>\n",
       "      <td>28.360838</td>\n",
       "      <td>28.171396</td>\n",
       "      <td>27.782264</td>\n",
       "      <td>26.817819</td>\n",
       "    </tr>\n",
       "    <tr>\n",
       "      <th>1.1</th>\n",
       "      <td>26.477775</td>\n",
       "      <td>28.487302</td>\n",
       "      <td>28.348438</td>\n",
       "      <td>28.163565</td>\n",
       "      <td>27.776144</td>\n",
       "      <td>26.806431</td>\n",
       "    </tr>\n",
       "    <tr>\n",
       "      <th>1.2</th>\n",
       "      <td>26.431002</td>\n",
       "      <td>28.466116</td>\n",
       "      <td>28.335983</td>\n",
       "      <td>28.155773</td>\n",
       "      <td>27.770068</td>\n",
       "      <td>26.795342</td>\n",
       "    </tr>\n",
       "    <tr>\n",
       "      <th>1.3</th>\n",
       "      <td>26.384998</td>\n",
       "      <td>28.445232</td>\n",
       "      <td>28.323693</td>\n",
       "      <td>28.148145</td>\n",
       "      <td>27.764113</td>\n",
       "      <td>26.784723</td>\n",
       "    </tr>\n",
       "    <tr>\n",
       "      <th>1.4</th>\n",
       "      <td>26.338763</td>\n",
       "      <td>28.424265</td>\n",
       "      <td>28.311361</td>\n",
       "      <td>28.140548</td>\n",
       "      <td>27.758197</td>\n",
       "      <td>26.774334</td>\n",
       "    </tr>\n",
       "    <tr>\n",
       "      <th>1.5</th>\n",
       "      <td>26.292334</td>\n",
       "      <td>28.403227</td>\n",
       "      <td>28.298984</td>\n",
       "      <td>28.132984</td>\n",
       "      <td>27.752313</td>\n",
       "      <td>26.764154</td>\n",
       "    </tr>\n",
       "    <tr>\n",
       "      <th>1.6</th>\n",
       "      <td>26.246630</td>\n",
       "      <td>28.382479</td>\n",
       "      <td>28.286772</td>\n",
       "      <td>28.125546</td>\n",
       "      <td>27.746531</td>\n",
       "      <td>26.754353</td>\n",
       "    </tr>\n",
       "    <tr>\n",
       "      <th>1.7</th>\n",
       "      <td>26.199914</td>\n",
       "      <td>28.361318</td>\n",
       "      <td>28.274340</td>\n",
       "      <td>28.118049</td>\n",
       "      <td>27.740710</td>\n",
       "      <td>26.744562</td>\n",
       "    </tr>\n",
       "    <tr>\n",
       "      <th>1.8</th>\n",
       "      <td>26.153654</td>\n",
       "      <td>28.340358</td>\n",
       "      <td>28.262014</td>\n",
       "      <td>28.110636</td>\n",
       "      <td>27.734966</td>\n",
       "      <td>26.735045</td>\n",
       "    </tr>\n",
       "    <tr>\n",
       "      <th>1.9</th>\n",
       "      <td>26.109711</td>\n",
       "      <td>28.320315</td>\n",
       "      <td>28.250183</td>\n",
       "      <td>28.103511</td>\n",
       "      <td>27.729426</td>\n",
       "      <td>26.726104</td>\n",
       "    </tr>\n",
       "    <tr>\n",
       "      <th>2.0</th>\n",
       "      <td>26.063160</td>\n",
       "      <td>28.299233</td>\n",
       "      <td>28.237799</td>\n",
       "      <td>28.096135</td>\n",
       "      <td>27.723725</td>\n",
       "      <td>26.716864</td>\n",
       "    </tr>\n",
       "    <tr>\n",
       "      <th>2.1</th>\n",
       "      <td>26.016631</td>\n",
       "      <td>28.278171</td>\n",
       "      <td>28.225423</td>\n",
       "      <td>28.088809</td>\n",
       "      <td>27.718062</td>\n",
       "      <td>26.707777</td>\n",
       "    </tr>\n",
       "    <tr>\n",
       "      <th>2.2</th>\n",
       "      <td>25.974058</td>\n",
       "      <td>28.258691</td>\n",
       "      <td>28.213890</td>\n",
       "      <td>28.081905</td>\n",
       "      <td>27.712707</td>\n",
       "      <td>26.699471</td>\n",
       "    </tr>\n",
       "    <tr>\n",
       "      <th>2.3</th>\n",
       "      <td>25.927793</td>\n",
       "      <td>28.237733</td>\n",
       "      <td>28.201576</td>\n",
       "      <td>28.074652</td>\n",
       "      <td>27.707111</td>\n",
       "      <td>26.690697</td>\n",
       "    </tr>\n",
       "    <tr>\n",
       "      <th>2.4</th>\n",
       "      <td>25.880801</td>\n",
       "      <td>28.216495</td>\n",
       "      <td>28.189111</td>\n",
       "      <td>28.067348</td>\n",
       "      <td>27.701494</td>\n",
       "      <td>26.681929</td>\n",
       "    </tr>\n",
       "    <tr>\n",
       "      <th>2.5</th>\n",
       "      <td>25.837401</td>\n",
       "      <td>28.196705</td>\n",
       "      <td>28.177422</td>\n",
       "      <td>28.060434</td>\n",
       "      <td>27.696158</td>\n",
       "      <td>26.673826</td>\n",
       "    </tr>\n",
       "  </tbody>\n",
       "</table>\n",
       "</div>"
      ],
      "text/plain": [
       "             u          g          r          i          z          y\n",
       "1.0  26.524237  28.508375  28.360838  28.171396  27.782264  26.817819\n",
       "1.1  26.477775  28.487302  28.348438  28.163565  27.776144  26.806431\n",
       "1.2  26.431002  28.466116  28.335983  28.155773  27.770068  26.795342\n",
       "1.3  26.384998  28.445232  28.323693  28.148145  27.764113  26.784723\n",
       "1.4  26.338763  28.424265  28.311361  28.140548  27.758197  26.774334\n",
       "1.5  26.292334  28.403227  28.298984  28.132984  27.752313  26.764154\n",
       "1.6  26.246630  28.382479  28.286772  28.125546  27.746531  26.754353\n",
       "1.7  26.199914  28.361318  28.274340  28.118049  27.740710  26.744562\n",
       "1.8  26.153654  28.340358  28.262014  28.110636  27.734966  26.735045\n",
       "1.9  26.109711  28.320315  28.250183  28.103511  27.729426  26.726104\n",
       "2.0  26.063160  28.299233  28.237799  28.096135  27.723725  26.716864\n",
       "2.1  26.016631  28.278171  28.225423  28.088809  27.718062  26.707777\n",
       "2.2  25.974058  28.258691  28.213890  28.081905  27.712707  26.699471\n",
       "2.3  25.927793  28.237733  28.201576  28.074652  27.707111  26.690697\n",
       "2.4  25.880801  28.216495  28.189111  28.067348  27.701494  26.681929\n",
       "2.5  25.837401  28.196705  28.177422  28.060434  27.696158  26.673826"
      ]
     },
     "execution_count": 5,
     "metadata": {},
     "output_type": "execute_result"
    }
   ],
   "source": [
    "pd.DataFrame(zp, index=airmasses)"
   ]
  },
  {
   "cell_type": "code",
   "execution_count": 6,
   "id": "28a2a806-f57a-49ca-85b2-02df1680447c",
   "metadata": {},
   "outputs": [
    {
     "name": "stdout",
     "output_type": "stream",
     "text": [
      "{'u': -0.45815823969467745, 'g': -0.20789273881603035, 'r': -0.12233514157672552, 'i': -0.07387773563152214, 'z': -0.0573260392897174, 'y': -0.09549137502152871}\n",
      "{'u': 26.52229760811932, 'g': 28.50754554409417, 'r': 28.360365503331952, 'i': 28.170373076693625, 'z': 27.781368851776005, 'y': 26.813708013594344}\n"
     ]
    }
   ],
   "source": [
    "# Fit zeropoint as function of (X-1) \n",
    "# Typically extinction coefficients are  k_atm * (X-1 )  (and magnitude limits are then calculated as (C - k_atm * (X-1)) )\n",
    "from scipy import stats\n",
    "\n",
    "slope = {}\n",
    "intercept = {}\n",
    "for f in 'ugrizy':\n",
    "    slope[f], intercept[f], r_value, p_value, std_err = stats.linregress((airmasses-1), zp[f])\n",
    "print(slope)\n",
    "print(intercept)"
   ]
  },
  {
   "cell_type": "code",
   "execution_count": 7,
   "id": "3ef538c3-e4f0-4333-839e-706c106d73ff",
   "metadata": {},
   "outputs": [
    {
     "data": {
      "image/png": "[encoded data removed]",
      "text/plain": [
       "<Figure size 640x480 with 1 Axes>"
      ]
     },
     "metadata": {},
     "output_type": "display_data"
    }
   ],
   "source": [
    "# And plot to see that they match\n",
    "for f in 'ugrizy':\n",
    "    plt.plot(airmasses, zp[f], marker='o', linestyle=':')\n",
    "    plt.plot(airmasses, intercept[f] + slope[f] * (airmasses - 1))"
   ]
  },
  {
   "cell_type": "code",
   "execution_count": 8,
   "id": "f8774e6b-6b2b-4661-876f-4cdf2c669dfb",
   "metadata": {},
   "outputs": [
    {
     "name": "stdout",
     "output_type": "stream",
     "text": [
      "{'u': 2.4999999999999996, 'g': 2.499999999999998, 'r': 2.4999999999999982, 'i': 2.5, 'z': 2.500000000000001, 'y': 2.4999999999999987}\n",
      "{'u': 26.524236651926522, 'g': 28.508375123264223, 'r': 28.360837796224622, 'i': 28.171396169001046, 'z': 27.78226401325628, 'y': 26.817818872890953}\n"
     ]
    }
   ],
   "source": [
    "# Just check that exposure time is as linear as expected (-2.5 * np.log10(exptime))\n",
    "slope = {}\n",
    "intercept = {}\n",
    "for f in 'ugrizy':\n",
    "    slope[f], intercept[f], r_value, p_value, std_err = stats.linregress((np.log10(exptimes)), zpt[f])\n",
    "\n",
    "print(slope)\n",
    "print(intercept)"
   ]
  },
  {
   "cell_type": "code",
   "execution_count": 9,
   "id": "d430ed56-5659-44d7-a099-d988984f2078",
   "metadata": {},
   "outputs": [
    {
     "data": {
      "image/png": "[encoded data removed]",
      "text/plain": [
       "<Figure size 640x480 with 1 Axes>"
      ]
     },
     "metadata": {},
     "output_type": "display_data"
    }
   ],
   "source": [
    "for f in 'ugrizy':\n",
    "    plt.plot(np.log10(exptimes), zpt[f], marker='o', linestyle=':')\n",
    "    plt.plot(np.log10(exptimes), intercept[f] + slope[f] * (np.log10(exptimes)))"
   ]
  },
  {
   "cell_type": "code",
   "execution_count": 10,
   "id": "07f8f849-30d1-40c0-ad44-64846d939fb5",
   "metadata": {},
   "outputs": [
    {
     "data": {
      "text/plain": [
       "{'u': 26.524236651926522,\n",
       " 'g': 28.508375123264223,\n",
       " 'r': 28.36083779622462,\n",
       " 'i': 28.17139616900105,\n",
       " 'z': 27.78226401325628,\n",
       " 'y': 26.817818872890957}"
      ]
     },
     "execution_count": 10,
     "metadata": {},
     "output_type": "execute_result"
    }
   ],
   "source": [
    "# Make a nice dictionary to paste in below \n",
    "dict(pd.DataFrame(zp, index=airmasses).loc[1.0])"
   ]
  },
  {
   "cell_type": "code",
   "execution_count": 11,
   "id": "8c6e5f3a-02f7-4609-8c44-48278a7a9d5d",
   "metadata": {},
   "outputs": [],
   "source": [
    "def return_zeropoint(band: str, airmass: float, exptime: float=1) -> float:\n",
    "    extinction_coeff = {'u': -0.45815823969467745, 'g': -0.20789273881603035, 'r': -0.12233514157672552, 'i': -0.07387773563152214, 'z': -0.0573260392897174, 'y': -0.09549137502152871}\n",
    "    zeropoint_X1 = {'u': 26.52229760811932, 'g': 28.50754554409417, 'r': 28.360365503331952, 'i': 28.170373076693625, 'z': 27.781368851776005, 'y': 26.813708013594344} \n",
    "    \n",
    "    return zeropoint_X1[band] + extinction_coeff[band] * (airmass - 1) + 2.5 * np.log10(exptime)"
   ]
  },
  {
   "cell_type": "code",
   "execution_count": 12,
   "id": "cc188fed-8618-425e-bcc9-12e2a757fc00",
   "metadata": {},
   "outputs": [],
   "source": [
    "# Hardware only \n",
    "phot_params = pt.PhotometricParameters(exptime=1, nexp=1, gain=1.0)\n",
    "exptimes = np.arange(1, 120.5, 1)\n",
    "x = 1.0\n",
    "zpt = {}\n",
    "for f in 'ugrizy':\n",
    "    zpt[f] = []\n",
    "    for t in exptimes:\n",
    "        phot_params = pt.PhotometricParameters(exptime=t, nexp=1, gain=1.0)\n",
    "        zpt[f].append(hardware[f].calc_zp_t(phot_params))\n",
    "    zpt[f] = np.array(zpt[f])"
   ]
  },
  {
   "cell_type": "code",
   "execution_count": 13,
   "id": "a79f8da2-2931-4c8a-863b-7663d791fa5a",
   "metadata": {},
   "outputs": [
    {
     "name": "stdout",
     "output_type": "stream",
     "text": [
      "'u': 26.524236651926522,\n",
      "'g': 28.508375123264223,\n",
      "'r': 28.36083779622462,\n",
      "'i': 28.17139616900105,\n",
      "'z': 27.78226401325628,\n",
      "'y': 26.817818872890957,\n"
     ]
    }
   ],
   "source": [
    "for f in 'ugrizy':\n",
    "    print(f\"'{f}': {zp[f][0]},\")"
   ]
  },
  {
   "cell_type": "code",
   "execution_count": 14,
   "id": "394adef1-60bc-4c48-a2cb-6e6d14f9fbba",
   "metadata": {},
   "outputs": [],
   "source": [
    "# Hardware only is appropriate for skybrightness. The location on the sky is included in the *generation* of the value.\n",
    "def return_zeropoint_hardware(band: str, exptime: float=1) -> float:\n",
    "    zeropoint = {'u': 26.99435242519598,\n",
    "                 'g': 28.72132437054738,\n",
    "                'r': 28.487206668180864,\n",
    "                'i': 28.267160381353793,\n",
    "                'z': 27.850681356053688,\n",
    "                'y': 26.988827459758397}\n",
    "    return zeropoint[band] + 2.5 * np.log10(exptime)"
   ]
  },
  {
   "cell_type": "code",
   "execution_count": 15,
   "id": "be4747f8-61b3-4627-aa3c-336ee3b6b41b",
   "metadata": {},
   "outputs": [
    {
     "name": "stdout",
     "output_type": "stream",
     "text": [
      "{'detector': '/Users/lynnej/lsst_repos/syseng_throughputs/components/camera/detector/itl', 'lens1': '/Users/lynnej/lsst_repos/syseng_throughputs/components/camera/lens1', 'lens2': '/Users/lynnej/lsst_repos/syseng_throughputs/components/camera/lens2', 'lens3': '/Users/lynnej/lsst_repos/syseng_throughputs/components/camera/lens3', 'filters': '/Users/lynnej/lsst_repos/syseng_throughputs/components/camera/filters', 'mirror1': '/Users/lynnej/lsst_repos/syseng_throughputs/components/telescope/mirror1', 'mirror2': '/Users/lynnej/lsst_repos/syseng_throughputs/components/telescope/mirror2', 'mirror3': '/Users/lynnej/lsst_repos/syseng_throughputs/components/telescope/mirror3', 'atmosphere': '/Users/lynnej/lsst_repos/syseng_throughputs/siteProperties'}\n",
      "{'u': -0.45815223255080606, 'g': -0.20789245761381037, 'r': -0.12233512060667238, 'i': -0.07387767800064417, 'z': -0.05739100372986528, 'y': -0.09474605376660676}\n",
      "{'u': 26.52231025834397, 'g': 28.507547620761827, 'r': 28.360365812523426, 'i': 28.170380673108845, 'z': 27.796728189989665, 'y': 26.870922441512732}\n",
      "{'u': 26.994361876151476, 'g': 28.721326283280213, 'r': 28.487206961551088, 'i': 28.26716792192087, 'z': 27.86618994188104, 'y': 27.04446387553851}\n"
     ]
    }
   ],
   "source": [
    "# Repeat but for ITL and E2V average sensor curves\n",
    "\n",
    "defaultDirs = st.setDefaultDirs()\n",
    "defaultDirs['detector'] = defaultDirs['detector'].replace('/joint_minimum', '/itl')\n",
    "print(defaultDirs)\n",
    "\n",
    "airmasses = np.arange(1.0, 2.6, 0.1).round(2)\n",
    "\n",
    "# Build system and hardware at all airmasses in the standard atmosphere set\n",
    "system = {}\n",
    "for x in airmasses:\n",
    "    atmos = st.readAtmosphere(os.path.join(get_data_dir(), 'throughputs', 'atmos'), atmosFile=f'atmos_{x*10 :.0f}_aerosol.dat')\n",
    "    h, s = st.buildHardwareAndSystem(defaultDirs, addLosses=True,  atmosphereOverride=atmos)\n",
    "    system[x] = s\n",
    "hardware = h\n",
    "\n",
    "phot_params = pt.PhotometricParameters(exptime=1, nexp=1, gain=1.0)\n",
    "\n",
    "zp = {}\n",
    "for f in 'ugrizy':\n",
    "    zp[f] = []\n",
    "    for x in airmasses:\n",
    "        zp[f].append(system[x][f].calc_zp_t(phot_params))\n",
    "    zp[f] = np.array(zp[f])\n",
    "\n",
    "slope = {}\n",
    "intercept = {}\n",
    "for f in 'ugrizy':\n",
    "    slope[f], intercept[f], r_value, p_value, std_err = stats.linregress((airmasses-1), zp[f])\n",
    "slope, intercept\n",
    "\n",
    "zph = {}\n",
    "for f in 'ugrizy':\n",
    "    zph[f] = hardware[f].calc_zp_t(phot_params)\n",
    "\n",
    "print(slope)\n",
    "print(intercept)\n",
    "print(zph)\n"
   ]
  },
  {
   "cell_type": "code",
   "execution_count": 16,
   "id": "aa8581cc-1044-48f9-b7e4-c02fa8ed7498",
   "metadata": {},
   "outputs": [],
   "source": [
    "def return_zeropoint_itl(band: str, airmass: float, exptime: float=1) -> float:\n",
    "    extinction_coeff = {'u': -0.45815223255080606, 'g': -0.20789245761381037, 'r': -0.12233512060667238, 'i': -0.07387767800064417, 'z': -0.05739100372986528, 'y': -0.09474605376660676}\n",
    "    zeropoint_X1 = {'u': 26.52231025834397, 'g': 28.507547620761827, 'r': 28.360365812523426, 'i': 28.170380673108845, 'z': 27.796728189989665, 'y': 26.870922441512732}\n",
    "    \n",
    "    return zeropoint_X1[band] + extinction_coeff[band] * (airmass - 1) + 2.5 * np.log10(exptime)\n",
    "\n",
    "def return_zeropoint_hardware_itl(band: str, exptime: float=1) -> float:\n",
    "    zeropoint = {'u': 26.994361876151476, 'g': 28.721326283280213, 'r': 28.487206961551088, 'i': 28.26716792192087, 'z': 27.86618994188104, 'y': 27.04446387553851}\n",
    "    return zeropoint[band] + 2.5 * np.log10(exptime)"
   ]
  },
  {
   "cell_type": "code",
   "execution_count": 17,
   "id": "c1d7588d-9950-4ae6-8af0-9bba5d3c579e",
   "metadata": {},
   "outputs": [
    {
     "name": "stdout",
     "output_type": "stream",
     "text": [
      "{'detector': '/Users/lynnej/lsst_repos/syseng_throughputs/components/camera/detector/e2v', 'lens1': '/Users/lynnej/lsst_repos/syseng_throughputs/components/camera/lens1', 'lens2': '/Users/lynnej/lsst_repos/syseng_throughputs/components/camera/lens2', 'lens3': '/Users/lynnej/lsst_repos/syseng_throughputs/components/camera/lens3', 'filters': '/Users/lynnej/lsst_repos/syseng_throughputs/components/camera/filters', 'mirror1': '/Users/lynnej/lsst_repos/syseng_throughputs/components/telescope/mirror1', 'mirror2': '/Users/lynnej/lsst_repos/syseng_throughputs/components/telescope/mirror2', 'mirror3': '/Users/lynnej/lsst_repos/syseng_throughputs/components/telescope/mirror3', 'atmosphere': '/Users/lynnej/lsst_repos/syseng_throughputs/siteProperties'}\n",
      "{'u': -0.4600735940453953, 'g': -0.20651340321330425, 'r': -0.12276192263131014, 'i': -0.07398443681400534, 'z': -0.057334002964289726, 'y': -0.095496483868828}\n",
      "{'u': 26.58989678516041, 'g': 28.567959743207357, 'r': 28.44712188941494, 'i': 28.19470048013101, 'z': 27.7817595301949, 'y': 26.813791858927964}\n",
      "{'u': 27.063967445283826, 'g': 28.78030646345493, 'r': 28.574328242939043, 'i': 28.291563456601306, 'z': 27.85108207854988, 'y': 26.988912028019346}\n"
     ]
    }
   ],
   "source": [
    "# Repeat but for ITL and E2V average sensor curves\n",
    "\n",
    "defaultDirs = st.setDefaultDirs()\n",
    "defaultDirs['detector'] = defaultDirs['detector'].replace('/joint_minimum', '/e2v')\n",
    "print(defaultDirs)\n",
    "\n",
    "airmasses = np.arange(1.0, 2.6, 0.1).round(2)\n",
    "\n",
    "# Build system and hardware at all airmasses in the standard atmosphere set\n",
    "system = {}\n",
    "for x in airmasses:\n",
    "    atmos = st.readAtmosphere(os.path.join(get_data_dir(), 'throughputs', 'atmos'), atmosFile=f'atmos_{x*10 :.0f}_aerosol.dat')\n",
    "    h, s = st.buildHardwareAndSystem(defaultDirs, addLosses=True,  atmosphereOverride=atmos)\n",
    "    system[x] = s\n",
    "hardware = h\n",
    "\n",
    "phot_params = pt.PhotometricParameters(exptime=1, nexp=1, gain=1.0)\n",
    "\n",
    "zp = {}\n",
    "for f in 'ugrizy':\n",
    "    zp[f] = []\n",
    "    for x in airmasses:\n",
    "        zp[f].append(system[x][f].calc_zp_t(phot_params))\n",
    "    zp[f] = np.array(zp[f])\n",
    "\n",
    "slope = {}\n",
    "intercept = {}\n",
    "for f in 'ugrizy':\n",
    "    slope[f], intercept[f], r_value, p_value, std_err = stats.linregress((airmasses-1), zp[f])\n",
    "slope, intercept\n",
    "\n",
    "zph = {}\n",
    "for f in 'ugrizy':\n",
    "    zph[f] = hardware[f].calc_zp_t(phot_params)\n",
    "\n",
    "print(slope)\n",
    "print(intercept)\n",
    "print(zph)"
   ]
  },
  {
   "cell_type": "code",
   "execution_count": 18,
   "id": "40d85f92-a128-48e5-a193-769a02d0da04",
   "metadata": {},
   "outputs": [],
   "source": [
    "def return_zeropoint_e2v(band: str, airmass: float, exptime: float=1) -> float:\n",
    "    extinction_coeff = {'u': -0.4600735940453953, 'g': -0.20651340321330425, 'r': -0.12276192263131014, 'i': -0.07398443681400534, 'z': -0.057334002964289726, 'y': -0.095496483868828}\n",
    "    zeropoint_X1 = {'u': 26.58989678516041, 'g': 28.567959743207357, 'r': 28.44712188941494, 'i': 28.19470048013101, 'z': 27.7817595301949, 'y': 26.813791858927964}\n",
    "    \n",
    "    return zeropoint_X1[band] + extinction_coeff[band] * (airmass - 1) + 2.5 * np.log10(exptime)\n",
    "\n",
    "def return_zeropoint_hardware_e2v(band: str, exptime: float=1) -> float:\n",
    "    zeropoint = {'u': 27.063967445283826, 'g': 28.78030646345493, 'r': 28.574328242939043, 'i': 28.291563456601306, 'z': 27.85108207854988, 'y': 26.988912028019346}\n",
    "\n",
    "    return zeropoint[band] + 2.5 * np.log10(exptime)"
   ]
  },
  {
   "cell_type": "code",
   "execution_count": 19,
   "id": "f971ad28-1925-4541-9019-4e79a4837ae7",
   "metadata": {},
   "outputs": [
    {
     "data": {
      "text/plain": [
       "1587.981353754498"
      ]
     },
     "execution_count": 19,
     "metadata": {},
     "output_type": "execute_result"
    }
   ],
   "source": [
    "# Convert skybrightness prediction mag/sq arcseconds into counts per pixel\n",
    "zp = return_zeropoint_hardware('i', 30)\n",
    "mag = 20.463\n",
    "platescale = phot_params.platescale\n",
    "np.power(10, (mag-zp)/-2.5) * platescale**2"
   ]
  },
  {
   "cell_type": "code",
   "execution_count": 20,
   "id": "c5728cb9-c373-4ae2-88bb-f29af7b9a76f",
   "metadata": {},
   "outputs": [
    {
     "data": {
      "text/plain": [
       "0.2"
      ]
     },
     "execution_count": 20,
     "metadata": {},
     "output_type": "execute_result"
    }
   ],
   "source": [
    "platescale"
   ]
  },
  {
   "cell_type": "code",
   "execution_count": null,
   "id": "c7e99063-8aba-4b1d-add4-3eb42912b01b",
   "metadata": {},
   "outputs": [],
   "source": []
  },
  {
   "cell_type": "code",
   "execution_count": null,
   "id": "7cfaef4e-a954-4b2c-af63-d028777c391d",
   "metadata": {},
   "outputs": [],
   "source": []
  }
 ],
 "metadata": {
  "kernelspec": {
   "display_name": "Python 3 (ipykernel)",
   "language": "python",
   "name": "python3"
  },
  "language_info": {
   "codemirror_mode": {
    "name": "ipython",
    "version": 3
   },
   "file_extension": ".py",
   "mimetype": "text/x-python",
   "name": "python",
   "nbconvert_exporter": "python",
   "pygments_lexer": "ipython3",
   "version": "3.11.10"
  }
 },
 "nbformat": 4,
 "nbformat_minor": 5
}
