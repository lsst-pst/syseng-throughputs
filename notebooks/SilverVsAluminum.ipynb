{
 "cells": [
  {
   "cell_type": "code",
   "execution_count": 1,
   "metadata": {},
   "outputs": [],
   "source": [
    "import os\n",
    "import numpy as np\n",
    "import matplotlib.pyplot as plt\n",
    "%matplotlib inline\n",
    "from matplotlib.lines import Line2D\n",
    "import pandas as pd\n",
    "from lsst.sims.photUtils import Bandpass\n",
    "import lsst.syseng.throughputs as st"
   ]
  },
  {
   "cell_type": "code",
   "execution_count": 2,
   "metadata": {},
   "outputs": [
    {
     "data": {
      "text/plain": [
       "{'detector': '/Users/lynnej/lsstRepos/syseng_throughputs/components/camera/detector/joint_minimum',\n",
       " 'lens1': '/Users/lynnej/lsstRepos/syseng_throughputs/components/camera/lens1',\n",
       " 'lens2': '/Users/lynnej/lsstRepos/syseng_throughputs/components/camera/lens2',\n",
       " 'lens3': '/Users/lynnej/lsstRepos/syseng_throughputs/components/camera/lens3',\n",
       " 'filters': '/Users/lynnej/lsstRepos/syseng_throughputs/components/camera/filters',\n",
       " 'mirror1': '/Users/lynnej/lsstRepos/syseng_throughputs/components/telescope/mirror1',\n",
       " 'mirror2': '/Users/lynnej/lsstRepos/syseng_throughputs/components/telescope/mirror2',\n",
       " 'mirror3': '/Users/lynnej/lsstRepos/syseng_throughputs/components/telescope/mirror3',\n",
       " 'atmosphere': '/Users/lynnej/lsstRepos/syseng_throughputs/siteProperties'}"
      ]
     },
     "execution_count": 2,
     "metadata": {},
     "output_type": "execute_result"
    }
   ],
   "source": [
    "defaultDirs = st.setDefaultDirs()\n",
    "defaultDirs"
   ]
  },
  {
   "cell_type": "code",
   "execution_count": 3,
   "metadata": {},
   "outputs": [],
   "source": [
    "# Read the non-mirror components\n",
    "detector = st.buildDetector(defaultDirs['detector'])\n",
    "lens1 = st.buildLens(defaultDirs['lens1'])\n",
    "lens2 = st.buildLens(defaultDirs['lens2'])\n",
    "lens3 = st.buildLens(defaultDirs['lens3'])\n",
    "filters = st.buildFilters(defaultDirs['filters'])\n",
    "atmos = st.readAtmosphere(defaultDirs['atmosphere'], atmosFile='atmos_10_aerosol.dat')"
   ]
  },
  {
   "cell_type": "code",
   "execution_count": 4,
   "metadata": {},
   "outputs": [
    {
     "data": {
      "text/plain": [
       "(['m1_ProtAl_Ideal.dat', 'm1_Losses'],\n",
       " ['m2_Losses', 'm2_ProtAg_Ideal.dat'],\n",
       " ['m3_Losses', 'm3_ProtAl_Ideal.dat'])"
      ]
     },
     "execution_count": 4,
     "metadata": {},
     "output_type": "execute_result"
    }
   ],
   "source": [
    "# We need a silver mirror and an aluminum mirror\n",
    "os.listdir(defaultDirs['mirror1']), os.listdir(defaultDirs['mirror2']), os.listdir(defaultDirs['mirror3'])"
   ]
  },
  {
   "cell_type": "code",
   "execution_count": 5,
   "metadata": {},
   "outputs": [
    {
     "data": {
      "text/plain": [
       "<matplotlib.legend.Legend at 0x7ff840913e80>"
      ]
     },
     "execution_count": 5,
     "metadata": {},
     "output_type": "execute_result"
    },
    {
     "data": {
      "image/png": "[encoded data removed]",
      "text/plain": [
       "<Figure size 432x288 with 1 Axes>"
      ]
     },
     "metadata": {
      "needs_background": "light"
     },
     "output_type": "display_data"
    }
   ],
   "source": [
    "# check if mirror losses are the same ..\n",
    "losses = {}\n",
    "for m in ('mirror1', 'mirror2', 'mirror3'):\n",
    "    losses[m] = Bandpass()\n",
    "    losses[m].readThroughput(os.path.join(defaultDirs[m], '%s%s_Losses' % (m[0],m[-1]), \n",
    "                                          '%s%s_Losses.dat' % (m[0], m[-1])))\n",
    "    linestyle = '-'\n",
    "    width=2\n",
    "    if m == 'mirror3':\n",
    "        linestyle=':'\n",
    "        width=4\n",
    "    plt.plot(losses[m].wavelen, losses[m].sb, linestyle=linestyle, linewidth=width, label=m)\n",
    "plt.ylim(0.94, 0.99)\n",
    "plt.legend()"
   ]
  },
  {
   "cell_type": "code",
   "execution_count": 6,
   "metadata": {},
   "outputs": [],
   "source": [
    "# Mirror losses are not the same (up vs. down-facing I think), so turn them off for now.\n",
    "mirror = {}\n",
    "mirror['Al'] = st.buildMirror(defaultDirs['mirror1'], addLosses=False)\n",
    "mirror['Ag'] = st.buildMirror(defaultDirs['mirror2'], addLosses=False)\n",
    "# BUT because they are not material dependent and just multiply by the mirror throughput .. \n",
    "# we can add them back anyway\n",
    "\n"
   ]
  },
  {
   "cell_type": "code",
   "execution_count": 7,
   "metadata": {},
   "outputs": [],
   "source": [
    "# Ok .. 8 combos are actually 4 because it doesn't matter which order the mirrors are in.\n",
    "combos = [['Al', 'Al', 'Al'], ['Al', 'Ag', 'Al'], ['Ag', 'Al', 'Ag'], ['Ag', 'Ag', 'Ag']]\n",
    "\n",
    "m5 = {}\n",
    "m5_badrd = {}\n",
    "system_all = {}\n",
    "for combo in combos:\n",
    "    hardware = {}\n",
    "    system = {}\n",
    "    for f in filters:\n",
    "        wavelen = detector.wavelen\n",
    "        # Hardware\n",
    "        sb = detector.sb * lens1.sb * lens2.sb * lens3.sb * filters[f].sb\n",
    "        sb *= losses['mirror1'].sb * losses['mirror2'].sb * losses['mirror3'].sb\n",
    "        sb *= mirror[combo[0]].sb * mirror[combo[1]].sb * mirror[combo[2]].sb\n",
    "        hardware[f] = Bandpass()\n",
    "        hardware[f].setBandpass(wavelen, sb)\n",
    "        system[f] = Bandpass()\n",
    "        system[f].setBandpass(wavelen, sb * atmos.sb)\n",
    "    system_all['-'.join(combo)] = system\n",
    "    m5['-'.join(combo)] = st.makeM5(hardware, system)\n",
    "    m5_badrd['-'.join(combo)] = st.makeM5(hardware, system, exptime=30, nexp=1, readnoise=18, \n",
    "                                          othernoise=0, darkcurrent=0.2)"
   ]
  },
  {
   "cell_type": "code",
   "execution_count": 8,
   "metadata": {},
   "outputs": [],
   "source": [
    "from matplotlib.lines import Line2D\n",
    "custom_lines = [Line2D([0], [0], color='k', lw=4),\n",
    "                Line2D([0], [0], color='k', lw=4),\n",
    "                Line2D([0], [0], color='k', lw=4)]"
   ]
  },
  {
   "cell_type": "code",
   "execution_count": 9,
   "metadata": {},
   "outputs": [
    {
     "data": {
      "text/plain": [
       "<matplotlib.legend.Legend at 0x7ff840aad8d0>"
      ]
     },
     "execution_count": 9,
     "metadata": {},
     "output_type": "execute_result"
    },
    {
     "data": {
      "image/png": "[encoded data removed]",
      "text/plain": [
       "<Figure size 864x576 with 1 Axes>"
      ]
     },
     "metadata": {
      "needs_background": "light"
     },
     "output_type": "display_data"
    }
   ],
   "source": [
    "plt.figure(figsize=(12, 8))\n",
    "linestyles = ['-', '--', '-.', ':']\n",
    "leg_elements = []\n",
    "for i, combo in enumerate(combos):\n",
    "    label = '-'.join(combo)\n",
    "    linestyle= linestyles[i]\n",
    "    st.plotBandpasses(system_all['-'.join(combo)], newfig=False, addlegend=False, linestyle=linestyle)\n",
    "    leg_elements.append(Line2D([0], [0], color='k', linestyle=linestyle, label=label))\n",
    "plt.legend(handles=leg_elements, loc='upper left', fontsize='x-large', fancybox=True)"
   ]
  },
  {
   "cell_type": "code",
   "execution_count": 10,
   "metadata": {},
   "outputs": [
    {
     "data": {
      "text/html": [
       "<div>\n",
       "<style scoped>\n",
       "    .dataframe tbody tr th:only-of-type {\n",
       "        vertical-align: middle;\n",
       "    }\n",
       "\n",
       "    .dataframe tbody tr th {\n",
       "        vertical-align: top;\n",
       "    }\n",
       "\n",
       "    .dataframe thead th {\n",
       "        text-align: right;\n",
       "    }\n",
       "</style>\n",
       "<table border=\"1\" class=\"dataframe\">\n",
       "  <thead>\n",
       "    <tr style=\"text-align: right;\">\n",
       "      <th></th>\n",
       "      <th>Al-Al-Al</th>\n",
       "      <th>Al-Ag-Al</th>\n",
       "      <th>Ag-Al-Ag</th>\n",
       "      <th>Ag-Ag-Ag</th>\n",
       "    </tr>\n",
       "  </thead>\n",
       "  <tbody>\n",
       "    <tr>\n",
       "      <th>u</th>\n",
       "      <td>23.898164</td>\n",
       "      <td>23.869611</td>\n",
       "      <td>23.853811</td>\n",
       "      <td>23.844936</td>\n",
       "    </tr>\n",
       "    <tr>\n",
       "      <th>g</th>\n",
       "      <td>24.772867</td>\n",
       "      <td>24.821949</td>\n",
       "      <td>24.870521</td>\n",
       "      <td>24.918597</td>\n",
       "    </tr>\n",
       "    <tr>\n",
       "      <th>r</th>\n",
       "      <td>24.299065</td>\n",
       "      <td>24.359139</td>\n",
       "      <td>24.418566</td>\n",
       "      <td>24.477384</td>\n",
       "    </tr>\n",
       "    <tr>\n",
       "      <th>i</th>\n",
       "      <td>23.859888</td>\n",
       "      <td>23.934198</td>\n",
       "      <td>24.007626</td>\n",
       "      <td>24.080256</td>\n",
       "    </tr>\n",
       "    <tr>\n",
       "      <th>z</th>\n",
       "      <td>23.291134</td>\n",
       "      <td>23.363197</td>\n",
       "      <td>23.434798</td>\n",
       "      <td>23.505984</td>\n",
       "    </tr>\n",
       "    <tr>\n",
       "      <th>y</th>\n",
       "      <td>22.424236</td>\n",
       "      <td>22.468393</td>\n",
       "      <td>22.512425</td>\n",
       "      <td>22.556341</td>\n",
       "    </tr>\n",
       "  </tbody>\n",
       "</table>\n",
       "</div>"
      ],
      "text/plain": [
       "    Al-Al-Al   Al-Ag-Al   Ag-Al-Ag   Ag-Ag-Ag\n",
       "u  23.898164  23.869611  23.853811  23.844936\n",
       "g  24.772867  24.821949  24.870521  24.918597\n",
       "r  24.299065  24.359139  24.418566  24.477384\n",
       "i  23.859888  23.934198  24.007626  24.080256\n",
       "z  23.291134  23.363197  23.434798  23.505984\n",
       "y  22.424236  22.468393  22.512425  22.556341"
      ]
     },
     "execution_count": 10,
     "metadata": {},
     "output_type": "execute_result"
    }
   ],
   "source": [
    "d = pd.DataFrame({'Al-Al-Al': m5['Al-Al-Al'].m5, 'Al-Ag-Al': m5['Al-Ag-Al'].m5,\n",
    "                  'Ag-Al-Ag': m5['Ag-Al-Ag'].m5, 'Ag-Ag-Ag': m5['Ag-Ag-Ag'].m5})\n",
    "d_badrd = pd.DataFrame({'Al-Al-Al': m5_badrd['Al-Al-Al'].m5, 'Al-Ag-Al': m5_badrd['Al-Ag-Al'].m5,\n",
    "                  'Ag-Al-Ag': m5_badrd['Ag-Al-Ag'].m5, 'Ag-Ag-Ag': m5_badrd['Ag-Ag-Ag'].m5})\n",
    "d"
   ]
  },
  {
   "cell_type": "code",
   "execution_count": 11,
   "metadata": {},
   "outputs": [
    {
     "data": {
      "text/html": [
       "<div>\n",
       "<style scoped>\n",
       "    .dataframe tbody tr th:only-of-type {\n",
       "        vertical-align: middle;\n",
       "    }\n",
       "\n",
       "    .dataframe tbody tr th {\n",
       "        vertical-align: top;\n",
       "    }\n",
       "\n",
       "    .dataframe thead th {\n",
       "        text-align: right;\n",
       "    }\n",
       "</style>\n",
       "<table border=\"1\" class=\"dataframe\">\n",
       "  <thead>\n",
       "    <tr style=\"text-align: right;\">\n",
       "      <th></th>\n",
       "      <th>Al-Al-Al</th>\n",
       "      <th>Al-Ag-Al</th>\n",
       "      <th>Ag-Al-Ag</th>\n",
       "      <th>Ag-Ag-Ag</th>\n",
       "      <th>Al-Al-Al_bdRd</th>\n",
       "      <th>Al-Ag-Al_bdRd</th>\n",
       "      <th>Ag-Al-Ag_bdRd</th>\n",
       "      <th>Ag-Ag-Ag_bdRd</th>\n",
       "    </tr>\n",
       "  </thead>\n",
       "  <tbody>\n",
       "    <tr>\n",
       "      <th>u</th>\n",
       "      <td>0.028553</td>\n",
       "      <td>0.0</td>\n",
       "      <td>-0.015800</td>\n",
       "      <td>-0.024674</td>\n",
       "      <td>-0.244929</td>\n",
       "      <td>-0.282077</td>\n",
       "      <td>-0.302792</td>\n",
       "      <td>-0.314721</td>\n",
       "    </tr>\n",
       "    <tr>\n",
       "      <th>g</th>\n",
       "      <td>-0.049082</td>\n",
       "      <td>0.0</td>\n",
       "      <td>0.048572</td>\n",
       "      <td>0.096648</td>\n",
       "      <td>-0.193940</td>\n",
       "      <td>-0.138516</td>\n",
       "      <td>-0.083716</td>\n",
       "      <td>-0.029537</td>\n",
       "    </tr>\n",
       "    <tr>\n",
       "      <th>r</th>\n",
       "      <td>-0.060074</td>\n",
       "      <td>0.0</td>\n",
       "      <td>0.059426</td>\n",
       "      <td>0.118245</td>\n",
       "      <td>-0.151830</td>\n",
       "      <td>-0.085388</td>\n",
       "      <td>-0.019910</td>\n",
       "      <td>0.044644</td>\n",
       "    </tr>\n",
       "    <tr>\n",
       "      <th>i</th>\n",
       "      <td>-0.074310</td>\n",
       "      <td>0.0</td>\n",
       "      <td>0.073428</td>\n",
       "      <td>0.146057</td>\n",
       "      <td>-0.145304</td>\n",
       "      <td>-0.064066</td>\n",
       "      <td>0.015748</td>\n",
       "      <td>0.094237</td>\n",
       "    </tr>\n",
       "    <tr>\n",
       "      <th>z</th>\n",
       "      <td>-0.072063</td>\n",
       "      <td>0.0</td>\n",
       "      <td>0.071601</td>\n",
       "      <td>0.142787</td>\n",
       "      <td>-0.121599</td>\n",
       "      <td>-0.044859</td>\n",
       "      <td>0.031041</td>\n",
       "      <td>0.106166</td>\n",
       "    </tr>\n",
       "    <tr>\n",
       "      <th>y</th>\n",
       "      <td>-0.044157</td>\n",
       "      <td>0.0</td>\n",
       "      <td>0.044032</td>\n",
       "      <td>0.087948</td>\n",
       "      <td>-0.081344</td>\n",
       "      <td>-0.034802</td>\n",
       "      <td>0.011480</td>\n",
       "      <td>0.057518</td>\n",
       "    </tr>\n",
       "  </tbody>\n",
       "</table>\n",
       "</div>"
      ],
      "text/plain": [
       "   Al-Al-Al  Al-Ag-Al  Ag-Al-Ag  Ag-Ag-Ag  Al-Al-Al_bdRd  Al-Ag-Al_bdRd  \\\n",
       "u  0.028553       0.0 -0.015800 -0.024674      -0.244929      -0.282077   \n",
       "g -0.049082       0.0  0.048572  0.096648      -0.193940      -0.138516   \n",
       "r -0.060074       0.0  0.059426  0.118245      -0.151830      -0.085388   \n",
       "i -0.074310       0.0  0.073428  0.146057      -0.145304      -0.064066   \n",
       "z -0.072063       0.0  0.071601  0.142787      -0.121599      -0.044859   \n",
       "y -0.044157       0.0  0.044032  0.087948      -0.081344      -0.034802   \n",
       "\n",
       "   Ag-Al-Ag_bdRd  Ag-Ag-Ag_bdRd  \n",
       "u      -0.302792      -0.314721  \n",
       "g      -0.083716      -0.029537  \n",
       "r      -0.019910       0.044644  \n",
       "i       0.015748       0.094237  \n",
       "z       0.031041       0.106166  \n",
       "y       0.011480       0.057518  "
      ]
     },
     "execution_count": 11,
     "metadata": {},
     "output_type": "execute_result"
    }
   ],
   "source": [
    "delta_m5 = (d.T - d['Al-Ag-Al'].T)\n",
    "delta_m5_badrd = d_badrd.T - d['Al-Ag-Al'].T\n",
    "delta_m5 = delta_m5.T.join(delta_m5_badrd.T, rsuffix='_bdRd')\n",
    "delta_m5\n",
    "# Positive values mean deeper limiting magnitudes"
   ]
  },
  {
   "cell_type": "code",
   "execution_count": 12,
   "metadata": {},
   "outputs": [
    {
     "data": {
      "text/html": [
       "<div>\n",
       "<style scoped>\n",
       "    .dataframe tbody tr th:only-of-type {\n",
       "        vertical-align: middle;\n",
       "    }\n",
       "\n",
       "    .dataframe tbody tr th {\n",
       "        vertical-align: top;\n",
       "    }\n",
       "\n",
       "    .dataframe thead th {\n",
       "        text-align: right;\n",
       "    }\n",
       "</style>\n",
       "<table border=\"1\" class=\"dataframe\">\n",
       "  <thead>\n",
       "    <tr style=\"text-align: right;\">\n",
       "      <th></th>\n",
       "      <th>Al-Al-Al</th>\n",
       "      <th>Al-Ag-Al</th>\n",
       "      <th>Ag-Al-Ag</th>\n",
       "      <th>Ag-Ag-Ag</th>\n",
       "      <th>Al-Al-Al_bdRd</th>\n",
       "      <th>Al-Ag-Al_bdRd</th>\n",
       "      <th>Ag-Al-Ag_bdRd</th>\n",
       "      <th>Ag-Ag-Ag_bdRd</th>\n",
       "    </tr>\n",
       "  </thead>\n",
       "  <tbody>\n",
       "    <tr>\n",
       "      <th>u</th>\n",
       "      <td>0.948763</td>\n",
       "      <td>1.0</td>\n",
       "      <td>1.029532</td>\n",
       "      <td>1.046500</td>\n",
       "      <td>1.570158</td>\n",
       "      <td>1.681365</td>\n",
       "      <td>1.746762</td>\n",
       "      <td>1.785569</td>\n",
       "    </tr>\n",
       "    <tr>\n",
       "      <th>g</th>\n",
       "      <td>1.094626</td>\n",
       "      <td>1.0</td>\n",
       "      <td>0.914414</td>\n",
       "      <td>0.836916</td>\n",
       "      <td>1.429395</td>\n",
       "      <td>1.290662</td>\n",
       "      <td>1.166736</td>\n",
       "      <td>1.055917</td>\n",
       "    </tr>\n",
       "    <tr>\n",
       "      <th>r</th>\n",
       "      <td>1.117016</td>\n",
       "      <td>1.0</td>\n",
       "      <td>0.896312</td>\n",
       "      <td>0.804275</td>\n",
       "      <td>1.322708</td>\n",
       "      <td>1.170336</td>\n",
       "      <td>1.037356</td>\n",
       "      <td>0.921054</td>\n",
       "    </tr>\n",
       "    <tr>\n",
       "      <th>i</th>\n",
       "      <td>1.146695</td>\n",
       "      <td>1.0</td>\n",
       "      <td>0.873489</td>\n",
       "      <td>0.764107</td>\n",
       "      <td>1.306903</td>\n",
       "      <td>1.125259</td>\n",
       "      <td>0.971408</td>\n",
       "      <td>0.840641</td>\n",
       "    </tr>\n",
       "    <tr>\n",
       "      <th>z</th>\n",
       "      <td>1.141958</td>\n",
       "      <td>1.0</td>\n",
       "      <td>0.876433</td>\n",
       "      <td>0.768724</td>\n",
       "      <td>1.251063</td>\n",
       "      <td>1.086144</td>\n",
       "      <td>0.944425</td>\n",
       "      <td>0.822370</td>\n",
       "    </tr>\n",
       "    <tr>\n",
       "      <th>y</th>\n",
       "      <td>1.084740</td>\n",
       "      <td>1.0</td>\n",
       "      <td>0.922093</td>\n",
       "      <td>0.850435</td>\n",
       "      <td>1.161649</td>\n",
       "      <td>1.066206</td>\n",
       "      <td>0.979074</td>\n",
       "      <td>0.899467</td>\n",
       "    </tr>\n",
       "  </tbody>\n",
       "</table>\n",
       "</div>"
      ],
      "text/plain": [
       "   Al-Al-Al  Al-Ag-Al  Ag-Al-Ag  Ag-Ag-Ag  Al-Al-Al_bdRd  Al-Ag-Al_bdRd  \\\n",
       "u  0.948763       1.0  1.029532  1.046500       1.570158       1.681365   \n",
       "g  1.094626       1.0  0.914414  0.836916       1.429395       1.290662   \n",
       "r  1.117016       1.0  0.896312  0.804275       1.322708       1.170336   \n",
       "i  1.146695       1.0  0.873489  0.764107       1.306903       1.125259   \n",
       "z  1.141958       1.0  0.876433  0.768724       1.251063       1.086144   \n",
       "y  1.084740       1.0  0.922093  0.850435       1.161649       1.066206   \n",
       "\n",
       "   Ag-Al-Ag_bdRd  Ag-Ag-Ag_bdRd  \n",
       "u       1.746762       1.785569  \n",
       "g       1.166736       1.055917  \n",
       "r       1.037356       0.921054  \n",
       "i       0.971408       0.840641  \n",
       "z       0.944425       0.822370  \n",
       "y       0.979074       0.899467  "
      ]
     },
     "execution_count": 12,
     "metadata": {},
     "output_type": "execute_result"
    }
   ],
   "source": [
    "# Effective time calculation\n",
    "# Fractional change in effective time is proportional to change in m5.\n",
    "dtime = np.power(10, -0.8 * (delta_m5))\n",
    "dtime"
   ]
  },
  {
   "cell_type": "code",
   "execution_count": 13,
   "metadata": {},
   "outputs": [
    {
     "data": {
      "text/plain": [
       "u    0.068\n",
       "g    0.097\n",
       "r    0.223\n",
       "i    0.223\n",
       "z    0.194\n",
       "y    0.194\n",
       "dtype: float64"
      ]
     },
     "execution_count": 13,
     "metadata": {},
     "output_type": "execute_result"
    }
   ],
   "source": [
    "SRD_time_distribution = pd.Series({'u': 0.068, 'g': 0.097, 'r': 0.223, 'i': 0.223, 'z': 0.194, 'y': 0.194})\n",
    "SRD_time_distribution "
   ]
  },
  {
   "cell_type": "code",
   "execution_count": 14,
   "metadata": {},
   "outputs": [
    {
     "data": {
      "text/html": [
       "<div>\n",
       "<style scoped>\n",
       "    .dataframe tbody tr th:only-of-type {\n",
       "        vertical-align: middle;\n",
       "    }\n",
       "\n",
       "    .dataframe tbody tr th {\n",
       "        vertical-align: top;\n",
       "    }\n",
       "\n",
       "    .dataframe thead th {\n",
       "        text-align: right;\n",
       "    }\n",
       "</style>\n",
       "<table border=\"1\" class=\"dataframe\">\n",
       "  <thead>\n",
       "    <tr style=\"text-align: right;\">\n",
       "      <th></th>\n",
       "      <th>Al-Al-Al</th>\n",
       "      <th>Al-Ag-Al</th>\n",
       "      <th>Ag-Al-Ag</th>\n",
       "      <th>Ag-Ag-Ag</th>\n",
       "      <th>Al-Al-Al_bdRd</th>\n",
       "      <th>Al-Ag-Al_bdRd</th>\n",
       "      <th>Ag-Al-Ag_bdRd</th>\n",
       "      <th>Ag-Ag-Ag_bdRd</th>\n",
       "    </tr>\n",
       "  </thead>\n",
       "  <tbody>\n",
       "    <tr>\n",
       "      <th>u</th>\n",
       "      <td>0.064516</td>\n",
       "      <td>0.068</td>\n",
       "      <td>0.070008</td>\n",
       "      <td>0.071162</td>\n",
       "      <td>0.106771</td>\n",
       "      <td>0.114333</td>\n",
       "      <td>0.118780</td>\n",
       "      <td>0.121419</td>\n",
       "    </tr>\n",
       "    <tr>\n",
       "      <th>g</th>\n",
       "      <td>0.106179</td>\n",
       "      <td>0.097</td>\n",
       "      <td>0.088698</td>\n",
       "      <td>0.081181</td>\n",
       "      <td>0.138651</td>\n",
       "      <td>0.125194</td>\n",
       "      <td>0.113173</td>\n",
       "      <td>0.102424</td>\n",
       "    </tr>\n",
       "    <tr>\n",
       "      <th>r</th>\n",
       "      <td>0.249095</td>\n",
       "      <td>0.223</td>\n",
       "      <td>0.199878</td>\n",
       "      <td>0.179353</td>\n",
       "      <td>0.294964</td>\n",
       "      <td>0.260985</td>\n",
       "      <td>0.231330</td>\n",
       "      <td>0.205395</td>\n",
       "    </tr>\n",
       "    <tr>\n",
       "      <th>i</th>\n",
       "      <td>0.255713</td>\n",
       "      <td>0.223</td>\n",
       "      <td>0.194788</td>\n",
       "      <td>0.170396</td>\n",
       "      <td>0.291439</td>\n",
       "      <td>0.250933</td>\n",
       "      <td>0.216624</td>\n",
       "      <td>0.187463</td>\n",
       "    </tr>\n",
       "    <tr>\n",
       "      <th>z</th>\n",
       "      <td>0.221540</td>\n",
       "      <td>0.194</td>\n",
       "      <td>0.170028</td>\n",
       "      <td>0.149132</td>\n",
       "      <td>0.242706</td>\n",
       "      <td>0.210712</td>\n",
       "      <td>0.183218</td>\n",
       "      <td>0.159540</td>\n",
       "    </tr>\n",
       "    <tr>\n",
       "      <th>y</th>\n",
       "      <td>0.210440</td>\n",
       "      <td>0.194</td>\n",
       "      <td>0.178886</td>\n",
       "      <td>0.164984</td>\n",
       "      <td>0.225360</td>\n",
       "      <td>0.206844</td>\n",
       "      <td>0.189940</td>\n",
       "      <td>0.174497</td>\n",
       "    </tr>\n",
       "  </tbody>\n",
       "</table>\n",
       "</div>"
      ],
      "text/plain": [
       "   Al-Al-Al  Al-Ag-Al  Ag-Al-Ag  Ag-Ag-Ag  Al-Al-Al_bdRd  Al-Ag-Al_bdRd  \\\n",
       "u  0.064516     0.068  0.070008  0.071162       0.106771       0.114333   \n",
       "g  0.106179     0.097  0.088698  0.081181       0.138651       0.125194   \n",
       "r  0.249095     0.223  0.199878  0.179353       0.294964       0.260985   \n",
       "i  0.255713     0.223  0.194788  0.170396       0.291439       0.250933   \n",
       "z  0.221540     0.194  0.170028  0.149132       0.242706       0.210712   \n",
       "y  0.210440     0.194  0.178886  0.164984       0.225360       0.206844   \n",
       "\n",
       "   Ag-Al-Ag_bdRd  Ag-Ag-Ag_bdRd  \n",
       "u       0.118780       0.121419  \n",
       "g       0.113173       0.102424  \n",
       "r       0.231330       0.205395  \n",
       "i       0.216624       0.187463  \n",
       "z       0.183218       0.159540  \n",
       "y       0.189940       0.174497  "
      ]
     },
     "execution_count": 14,
     "metadata": {},
     "output_type": "execute_result"
    }
   ],
   "source": [
    "weighted_dtime = dtime.multiply(SRD_time_distribution, axis=0)\n",
    "weighted_dtime"
   ]
  },
  {
   "cell_type": "code",
   "execution_count": 15,
   "metadata": {},
   "outputs": [
    {
     "data": {
      "text/plain": [
       "Al-Al-Al         1.107482\n",
       "Al-Ag-Al         0.999000\n",
       "Ag-Al-Ag         0.902286\n",
       "Ag-Ag-Ag         0.816209\n",
       "Al-Al-Al_bdRd    1.299891\n",
       "Al-Ag-Al_bdRd    1.169001\n",
       "Ag-Al-Ag_bdRd    1.053066\n",
       "Ag-Ag-Ag_bdRd    0.950737\n",
       "dtype: float64"
      ]
     },
     "execution_count": 15,
     "metadata": {},
     "output_type": "execute_result"
    }
   ],
   "source": [
    "weighted_dtime.sum()"
   ]
  },
  {
   "cell_type": "code",
   "execution_count": 16,
   "metadata": {},
   "outputs": [
    {
     "data": {
      "text/plain": [
       "Al-Al-Al         314061.0\n",
       "Al-Ag-Al          -2922.0\n",
       "Ag-Al-Ag        -285520.0\n",
       "Ag-Ag-Ag        -537038.0\n",
       "Al-Al-Al_bdRd    876283.0\n",
       "Al-Ag-Al_bdRd    493820.0\n",
       "Ag-Al-Ag_bdRd    155060.0\n",
       "Ag-Ag-Ag_bdRd   -143947.0\n",
       "dtype: float64"
      ]
     },
     "execution_count": 16,
     "metadata": {},
     "output_type": "execute_result"
    }
   ],
   "source": [
    "np.round((weighted_dtime.sum() * 10 * 365.25 - 3652.5) * 800)"
   ]
  },
  {
   "cell_type": "code",
   "execution_count": null,
   "metadata": {},
   "outputs": [],
   "source": []
  }
 ],
 "metadata": {
  "kernelspec": {
   "display_name": "Python 3",
   "language": "python",
   "name": "python3"
  },
  "language_info": {
   "codemirror_mode": {
    "name": "ipython",
    "version": 3
   },
   "file_extension": ".py",
   "mimetype": "text/x-python",
   "name": "python",
   "nbconvert_exporter": "python",
   "pygments_lexer": "ipython3",
   "version": "3.7.3"
  }
 },
 "nbformat": 4,
 "nbformat_minor": 2
}
