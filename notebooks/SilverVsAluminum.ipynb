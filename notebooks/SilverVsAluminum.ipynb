{
 "cells": [
  {
   "cell_type": "code",
   "execution_count": 1,
   "metadata": {},
   "outputs": [],
   "source": [
    "import os\n",
    "import numpy as np\n",
    "import matplotlib.pyplot as plt\n",
    "%matplotlib inline\n",
    "from matplotlib.lines import Line2D\n",
    "import pandas as pd\n",
    "from lsst.sims.photUtils import Bandpass\n",
    "import lsst.syseng.throughputs as st"
   ]
  },
  {
   "cell_type": "code",
   "execution_count": 2,
   "metadata": {},
   "outputs": [
    {
     "data": {
      "text/plain": [
       "{'detector': '/Users/lynnej/lsstRepos/syseng_throughputs/components/camera/detector/joint_minimum',\n",
       " 'lens1': '/Users/lynnej/lsstRepos/syseng_throughputs/components/camera/lens1',\n",
       " 'lens2': '/Users/lynnej/lsstRepos/syseng_throughputs/components/camera/lens2',\n",
       " 'lens3': '/Users/lynnej/lsstRepos/syseng_throughputs/components/camera/lens3',\n",
       " 'filters': '/Users/lynnej/lsstRepos/syseng_throughputs/components/camera/filters',\n",
       " 'mirror1': '/Users/lynnej/lsstRepos/syseng_throughputs/components/telescope/mirror1',\n",
       " 'mirror2': '/Users/lynnej/lsstRepos/syseng_throughputs/components/telescope/mirror2',\n",
       " 'mirror3': '/Users/lynnej/lsstRepos/syseng_throughputs/components/telescope/mirror3',\n",
       " 'atmosphere': '/Users/lynnej/lsstRepos/syseng_throughputs/siteProperties'}"
      ]
     },
     "execution_count": 2,
     "metadata": {},
     "output_type": "execute_result"
    }
   ],
   "source": [
    "defaultDirs = st.setDefaultDirs()\n",
    "defaultDirs"
   ]
  },
  {
   "cell_type": "code",
   "execution_count": 3,
   "metadata": {},
   "outputs": [],
   "source": [
    "# Read the non-mirror components\n",
    "detector = st.buildDetector(defaultDirs['detector'])\n",
    "lens1 = st.buildLens(defaultDirs['lens1'])\n",
    "lens2 = st.buildLens(defaultDirs['lens2'])\n",
    "lens3 = st.buildLens(defaultDirs['lens3'])\n",
    "filters = st.buildFilters(defaultDirs['filters'])\n",
    "atmos = st.readAtmosphere(defaultDirs['atmosphere'], atmosFile='atmos_10_aerosol.dat')"
   ]
  },
  {
   "cell_type": "code",
   "execution_count": 4,
   "metadata": {},
   "outputs": [
    {
     "data": {
      "text/plain": [
       "(['m1_ProtAl_Ideal.dat', 'm1_Losses'],\n",
       " ['m2_Losses', 'm2_ProtAg_Ideal.dat'],\n",
       " ['m3_Losses', 'm3_ProtAl_Ideal.dat'])"
      ]
     },
     "execution_count": 4,
     "metadata": {},
     "output_type": "execute_result"
    }
   ],
   "source": [
    "# We need a silver mirror and an aluminum mirror\n",
    "os.listdir(defaultDirs['mirror1']), os.listdir(defaultDirs['mirror2']), os.listdir(defaultDirs['mirror3'])"
   ]
  },
  {
   "cell_type": "code",
   "execution_count": 5,
   "metadata": {},
   "outputs": [
    {
     "data": {
      "text/plain": [
       "<matplotlib.legend.Legend at 0xb1bb0d978>"
      ]
     },
     "execution_count": 5,
     "metadata": {},
     "output_type": "execute_result"
    },
    {
     "data": {
      "image/png": "[encoded data removed]",
      "text/plain": [
       "<Figure size 432x288 with 1 Axes>"
      ]
     },
     "metadata": {
      "needs_background": "light"
     },
     "output_type": "display_data"
    }
   ],
   "source": [
    "# check if mirror losses are the same ..\n",
    "losses = {}\n",
    "for m in ('mirror1', 'mirror2', 'mirror3'):\n",
    "    losses[m] = Bandpass()\n",
    "    losses[m].readThroughput(os.path.join(defaultDirs[m], '%s%s_Losses' % (m[0],m[-1]), \n",
    "                                          '%s%s_Losses.dat' % (m[0], m[-1])))\n",
    "    linestyle = '-'\n",
    "    width=2\n",
    "    if m == 'mirror3':\n",
    "        linestyle=':'\n",
    "        width=4\n",
    "    plt.plot(losses[m].wavelen, losses[m].sb, linestyle=linestyle, linewidth=width, label=m)\n",
    "plt.ylim(0.94, 0.99)\n",
    "plt.legend()"
   ]
  },
  {
   "cell_type": "code",
   "execution_count": 6,
   "metadata": {},
   "outputs": [],
   "source": [
    "# Mirror losses are not the same (up vs. down-facing I think), so turn them off for now.\n",
    "mirror = {}\n",
    "mirror['Al'] = st.buildMirror(defaultDirs['mirror1'], addLosses=False)\n",
    "mirror['Ag'] = st.buildMirror(defaultDirs['mirror2'], addLosses=False)\n",
    "# BUT because they are not material dependent and just multiply by the mirror throughput .. \n",
    "# we can add them back anyway\n",
    "\n"
   ]
  },
  {
   "cell_type": "code",
   "execution_count": 7,
   "metadata": {},
   "outputs": [],
   "source": [
    "# Ok .. 8 combos are actually 4 because it doesn't matter which order the mirrors are in.\n",
    "combos = [['Al', 'Al', 'Al'], ['Al', 'Ag', 'Al'], ['Ag', 'Al', 'Ag'], ['Ag', 'Ag', 'Ag']]\n",
    "\n",
    "m5 = {}\n",
    "m5_badrd = {}\n",
    "system_all = {}\n",
    "for combo in combos:\n",
    "    hardware = {}\n",
    "    system = {}\n",
    "    for f in filters:\n",
    "        wavelen = detector.wavelen\n",
    "        # Hardware\n",
    "        sb = detector.sb * lens1.sb * lens2.sb * lens3.sb * filters[f].sb\n",
    "        sb *= losses['mirror1'].sb * losses['mirror2'].sb * losses['mirror3'].sb\n",
    "        sb *= mirror[combo[0]].sb * mirror[combo[1]].sb * mirror[combo[2]].sb\n",
    "        hardware[f] = Bandpass()\n",
    "        hardware[f].setBandpass(wavelen, sb)\n",
    "        system[f] = Bandpass()\n",
    "        system[f].setBandpass(wavelen, sb * atmos.sb)\n",
    "    system_all['-'.join(combo)] = system\n",
    "    m5['-'.join(combo)] = st.makeM5(hardware, system)\n",
    "    m5_badrd['-'.join(combo)] = st.makeM5(hardware, system, exptime=30, nexp=1, readnoise=18, \n",
    "                                          othernoise=0, darkcurrent=0.2)"
   ]
  },
  {
   "cell_type": "code",
   "execution_count": 8,
   "metadata": {},
   "outputs": [],
   "source": [
    "from matplotlib.lines import Line2D\n",
    "custom_lines = [Line2D([0], [0], color='k', lw=4),\n",
    "                Line2D([0], [0], color='k', lw=4),\n",
    "                Line2D([0], [0], color='k', lw=4)]"
   ]
  },
  {
   "cell_type": "code",
   "execution_count": 9,
   "metadata": {},
   "outputs": [
    {
     "data": {
      "text/plain": [
       "<matplotlib.legend.Legend at 0xb1baa8940>"
      ]
     },
     "execution_count": 9,
     "metadata": {},
     "output_type": "execute_result"
    },
    {
     "data": {
      "image/png": "[encoded data removed]",
      "text/plain": [
       "<Figure size 864x576 with 1 Axes>"
      ]
     },
     "metadata": {
      "needs_background": "light"
     },
     "output_type": "display_data"
    }
   ],
   "source": [
    "plt.figure(figsize=(12, 8))\n",
    "linestyles = ['-', '--', '-.', ':']\n",
    "leg_elements = []\n",
    "for i, combo in enumerate(combos):\n",
    "    label = '-'.join(combo)\n",
    "    linestyle= linestyles[i]\n",
    "    st.plotBandpasses(system_all['-'.join(combo)], newfig=False, addlegend=False, linestyle=linestyle)\n",
    "    leg_elements.append(Line2D([0], [0], color='k', linestyle=linestyle, label=label))\n",
    "plt.legend(handles=leg_elements, loc='upper left', fontsize='x-large', fancybox=True)"
   ]
  },
  {
   "cell_type": "code",
   "execution_count": 66,
   "metadata": {},
   "outputs": [
    {
     "data": {
      "text/html": [
       "<div>\n",
       "<style scoped>\n",
       "    .dataframe tbody tr th:only-of-type {\n",
       "        vertical-align: middle;\n",
       "    }\n",
       "\n",
       "    .dataframe tbody tr th {\n",
       "        vertical-align: top;\n",
       "    }\n",
       "\n",
       "    .dataframe thead th {\n",
       "        text-align: right;\n",
       "    }\n",
       "</style>\n",
       "<table border=\"1\" class=\"dataframe\">\n",
       "  <thead>\n",
       "    <tr style=\"text-align: right;\">\n",
       "      <th></th>\n",
       "      <th>Al-Al-Al</th>\n",
       "      <th>Al-Ag-Al</th>\n",
       "      <th>Ag-Al-Ag</th>\n",
       "      <th>Ag-Ag-Ag</th>\n",
       "    </tr>\n",
       "  </thead>\n",
       "  <tbody>\n",
       "    <tr>\n",
       "      <th>u</th>\n",
       "      <td>23.947619</td>\n",
       "      <td>23.764100</td>\n",
       "      <td>23.604988</td>\n",
       "      <td>23.459721</td>\n",
       "    </tr>\n",
       "    <tr>\n",
       "      <th>g</th>\n",
       "      <td>24.802889</td>\n",
       "      <td>24.806430</td>\n",
       "      <td>24.810317</td>\n",
       "      <td>24.814542</td>\n",
       "    </tr>\n",
       "    <tr>\n",
       "      <th>r</th>\n",
       "      <td>24.317151</td>\n",
       "      <td>24.351669</td>\n",
       "      <td>24.386050</td>\n",
       "      <td>24.420302</td>\n",
       "    </tr>\n",
       "    <tr>\n",
       "      <th>i</th>\n",
       "      <td>23.857319</td>\n",
       "      <td>23.919008</td>\n",
       "      <td>23.980110</td>\n",
       "      <td>24.040674</td>\n",
       "    </tr>\n",
       "    <tr>\n",
       "      <th>z</th>\n",
       "      <td>23.271318</td>\n",
       "      <td>23.339608</td>\n",
       "      <td>23.407454</td>\n",
       "      <td>23.474897</td>\n",
       "    </tr>\n",
       "    <tr>\n",
       "      <th>y</th>\n",
       "      <td>22.406266</td>\n",
       "      <td>22.446767</td>\n",
       "      <td>22.487143</td>\n",
       "      <td>22.527402</td>\n",
       "    </tr>\n",
       "  </tbody>\n",
       "</table>\n",
       "</div>"
      ],
      "text/plain": [
       "    Al-Al-Al   Al-Ag-Al   Ag-Al-Ag   Ag-Ag-Ag\n",
       "u  23.947619  23.764100  23.604988  23.459721\n",
       "g  24.802889  24.806430  24.810317  24.814542\n",
       "r  24.317151  24.351669  24.386050  24.420302\n",
       "i  23.857319  23.919008  23.980110  24.040674\n",
       "z  23.271318  23.339608  23.407454  23.474897\n",
       "y  22.406266  22.446767  22.487143  22.527402"
      ]
     },
     "execution_count": 66,
     "metadata": {},
     "output_type": "execute_result"
    }
   ],
   "source": [
    "d = pd.DataFrame({'Al-Al-Al': m5['Al-Al-Al'].m5, 'Al-Ag-Al': m5['Al-Ag-Al'].m5,\n",
    "                  'Ag-Al-Ag': m5['Ag-Al-Ag'].m5, 'Ag-Ag-Ag': m5['Ag-Ag-Ag'].m5})\n",
    "d_badrd = pd.DataFrame({'Al-Al-Al': m5_badrd['Al-Al-Al'].m5, 'Al-Ag-Al': m5_badrd['Al-Ag-Al'].m5,\n",
    "                  'Ag-Al-Ag': m5_badrd['Ag-Al-Ag'].m5, 'Ag-Ag-Ag': m5_badrd['Ag-Ag-Ag'].m5})\n",
    "d"
   ]
  },
  {
   "cell_type": "code",
   "execution_count": 72,
   "metadata": {},
   "outputs": [
    {
     "data": {
      "text/html": [
       "<div>\n",
       "<style scoped>\n",
       "    .dataframe tbody tr th:only-of-type {\n",
       "        vertical-align: middle;\n",
       "    }\n",
       "\n",
       "    .dataframe tbody tr th {\n",
       "        vertical-align: top;\n",
       "    }\n",
       "\n",
       "    .dataframe thead th {\n",
       "        text-align: right;\n",
       "    }\n",
       "</style>\n",
       "<table border=\"1\" class=\"dataframe\">\n",
       "  <thead>\n",
       "    <tr style=\"text-align: right;\">\n",
       "      <th></th>\n",
       "      <th>Al-Al-Al</th>\n",
       "      <th>Al-Ag-Al</th>\n",
       "      <th>Ag-Al-Ag</th>\n",
       "      <th>Ag-Ag-Ag</th>\n",
       "      <th>Al-Al-Al_bdRd</th>\n",
       "      <th>Al-Ag-Al_bdRd</th>\n",
       "      <th>Ag-Al-Ag_bdRd</th>\n",
       "      <th>Ag-Ag-Ag_bdRd</th>\n",
       "    </tr>\n",
       "  </thead>\n",
       "  <tbody>\n",
       "    <tr>\n",
       "      <th>u</th>\n",
       "      <td>0.183519</td>\n",
       "      <td>0.0</td>\n",
       "      <td>-0.159112</td>\n",
       "      <td>-0.304379</td>\n",
       "      <td>-0.085461</td>\n",
       "      <td>-0.293007</td>\n",
       "      <td>-0.466785</td>\n",
       "      <td>-0.622343</td>\n",
       "    </tr>\n",
       "    <tr>\n",
       "      <th>g</th>\n",
       "      <td>-0.003542</td>\n",
       "      <td>0.0</td>\n",
       "      <td>0.003887</td>\n",
       "      <td>0.008112</td>\n",
       "      <td>-0.144867</td>\n",
       "      <td>-0.140320</td>\n",
       "      <td>-0.135392</td>\n",
       "      <td>-0.130089</td>\n",
       "    </tr>\n",
       "    <tr>\n",
       "      <th>r</th>\n",
       "      <td>-0.034518</td>\n",
       "      <td>0.0</td>\n",
       "      <td>0.034381</td>\n",
       "      <td>0.068634</td>\n",
       "      <td>-0.124355</td>\n",
       "      <td>-0.086121</td>\n",
       "      <td>-0.048123</td>\n",
       "      <td>-0.010357</td>\n",
       "    </tr>\n",
       "    <tr>\n",
       "      <th>i</th>\n",
       "      <td>-0.061690</td>\n",
       "      <td>0.0</td>\n",
       "      <td>0.061102</td>\n",
       "      <td>0.121666</td>\n",
       "      <td>-0.133064</td>\n",
       "      <td>-0.065416</td>\n",
       "      <td>0.001253</td>\n",
       "      <td>0.067002</td>\n",
       "    </tr>\n",
       "    <tr>\n",
       "      <th>z</th>\n",
       "      <td>-0.068290</td>\n",
       "      <td>0.0</td>\n",
       "      <td>0.067846</td>\n",
       "      <td>0.135289</td>\n",
       "      <td>-0.119286</td>\n",
       "      <td>-0.046448</td>\n",
       "      <td>0.025601</td>\n",
       "      <td>0.096917</td>\n",
       "    </tr>\n",
       "    <tr>\n",
       "      <th>y</th>\n",
       "      <td>-0.040502</td>\n",
       "      <td>0.0</td>\n",
       "      <td>0.040376</td>\n",
       "      <td>0.080635</td>\n",
       "      <td>-0.078781</td>\n",
       "      <td>-0.036020</td>\n",
       "      <td>0.006498</td>\n",
       "      <td>0.048785</td>\n",
       "    </tr>\n",
       "  </tbody>\n",
       "</table>\n",
       "</div>"
      ],
      "text/plain": [
       "   Al-Al-Al  Al-Ag-Al  Ag-Al-Ag  Ag-Ag-Ag  Al-Al-Al_bdRd  Al-Ag-Al_bdRd  \\\n",
       "u  0.183519       0.0 -0.159112 -0.304379      -0.085461      -0.293007   \n",
       "g -0.003542       0.0  0.003887  0.008112      -0.144867      -0.140320   \n",
       "r -0.034518       0.0  0.034381  0.068634      -0.124355      -0.086121   \n",
       "i -0.061690       0.0  0.061102  0.121666      -0.133064      -0.065416   \n",
       "z -0.068290       0.0  0.067846  0.135289      -0.119286      -0.046448   \n",
       "y -0.040502       0.0  0.040376  0.080635      -0.078781      -0.036020   \n",
       "\n",
       "   Ag-Al-Ag_bdRd  Ag-Ag-Ag_bdRd  \n",
       "u      -0.466785      -0.622343  \n",
       "g      -0.135392      -0.130089  \n",
       "r      -0.048123      -0.010357  \n",
       "i       0.001253       0.067002  \n",
       "z       0.025601       0.096917  \n",
       "y       0.006498       0.048785  "
      ]
     },
     "execution_count": 72,
     "metadata": {},
     "output_type": "execute_result"
    }
   ],
   "source": [
    "delta_m5 = (d.T - d['Al-Ag-Al'].T)\n",
    "delta_m5_badrd = d_badrd.T - d['Al-Ag-Al'].T\n",
    "delta_m5 = delta_m5.T.join(delta_m5_badrd.T, rsuffix='_bdRd')\n",
    "delta_m5\n",
    "# Positive values mean deeper limiting magnitudes"
   ]
  },
  {
   "cell_type": "code",
   "execution_count": 77,
   "metadata": {},
   "outputs": [
    {
     "data": {
      "text/html": [
       "<div>\n",
       "<style scoped>\n",
       "    .dataframe tbody tr th:only-of-type {\n",
       "        vertical-align: middle;\n",
       "    }\n",
       "\n",
       "    .dataframe tbody tr th {\n",
       "        vertical-align: top;\n",
       "    }\n",
       "\n",
       "    .dataframe thead th {\n",
       "        text-align: right;\n",
       "    }\n",
       "</style>\n",
       "<table border=\"1\" class=\"dataframe\">\n",
       "  <thead>\n",
       "    <tr style=\"text-align: right;\">\n",
       "      <th></th>\n",
       "      <th>Al-Al-Al</th>\n",
       "      <th>Al-Ag-Al</th>\n",
       "      <th>Ag-Al-Ag</th>\n",
       "      <th>Ag-Ag-Ag</th>\n",
       "      <th>Al-Al-Al_bdRd</th>\n",
       "      <th>Al-Ag-Al_bdRd</th>\n",
       "      <th>Ag-Al-Ag_bdRd</th>\n",
       "      <th>Ag-Ag-Ag_bdRd</th>\n",
       "    </tr>\n",
       "  </thead>\n",
       "  <tbody>\n",
       "    <tr>\n",
       "      <th>u</th>\n",
       "      <td>0.713156</td>\n",
       "      <td>1.0</td>\n",
       "      <td>1.340570</td>\n",
       "      <td>1.751874</td>\n",
       "      <td>1.170493</td>\n",
       "      <td>1.715560</td>\n",
       "      <td>2.362804</td>\n",
       "      <td>3.146838</td>\n",
       "    </tr>\n",
       "    <tr>\n",
       "      <th>g</th>\n",
       "      <td>1.006545</td>\n",
       "      <td>1.0</td>\n",
       "      <td>0.992866</td>\n",
       "      <td>0.985169</td>\n",
       "      <td>1.305851</td>\n",
       "      <td>1.294960</td>\n",
       "      <td>1.283256</td>\n",
       "      <td>1.270781</td>\n",
       "    </tr>\n",
       "    <tr>\n",
       "      <th>r</th>\n",
       "      <td>1.065649</td>\n",
       "      <td>1.0</td>\n",
       "      <td>0.938631</td>\n",
       "      <td>0.881238</td>\n",
       "      <td>1.257431</td>\n",
       "      <td>1.171916</td>\n",
       "      <td>1.092694</td>\n",
       "      <td>1.019262</td>\n",
       "    </tr>\n",
       "    <tr>\n",
       "      <th>i</th>\n",
       "      <td>1.120345</td>\n",
       "      <td>1.0</td>\n",
       "      <td>0.893550</td>\n",
       "      <td>0.799222</td>\n",
       "      <td>1.277765</td>\n",
       "      <td>1.128061</td>\n",
       "      <td>0.997694</td>\n",
       "      <td>0.883890</td>\n",
       "    </tr>\n",
       "    <tr>\n",
       "      <th>z</th>\n",
       "      <td>1.134050</td>\n",
       "      <td>1.0</td>\n",
       "      <td>0.882517</td>\n",
       "      <td>0.779415</td>\n",
       "      <td>1.245744</td>\n",
       "      <td>1.089327</td>\n",
       "      <td>0.953936</td>\n",
       "      <td>0.836501</td>\n",
       "    </tr>\n",
       "    <tr>\n",
       "      <th>y</th>\n",
       "      <td>1.077460</td>\n",
       "      <td>1.0</td>\n",
       "      <td>0.928323</td>\n",
       "      <td>0.861969</td>\n",
       "      <td>1.156177</td>\n",
       "      <td>1.068601</td>\n",
       "      <td>0.988102</td>\n",
       "      <td>0.914054</td>\n",
       "    </tr>\n",
       "  </tbody>\n",
       "</table>\n",
       "</div>"
      ],
      "text/plain": [
       "   Al-Al-Al  Al-Ag-Al  Ag-Al-Ag  Ag-Ag-Ag  Al-Al-Al_bdRd  Al-Ag-Al_bdRd  \\\n",
       "u  0.713156       1.0  1.340570  1.751874       1.170493       1.715560   \n",
       "g  1.006545       1.0  0.992866  0.985169       1.305851       1.294960   \n",
       "r  1.065649       1.0  0.938631  0.881238       1.257431       1.171916   \n",
       "i  1.120345       1.0  0.893550  0.799222       1.277765       1.128061   \n",
       "z  1.134050       1.0  0.882517  0.779415       1.245744       1.089327   \n",
       "y  1.077460       1.0  0.928323  0.861969       1.156177       1.068601   \n",
       "\n",
       "   Ag-Al-Ag_bdRd  Ag-Ag-Ag_bdRd  \n",
       "u       2.362804       3.146838  \n",
       "g       1.283256       1.270781  \n",
       "r       1.092694       1.019262  \n",
       "i       0.997694       0.883890  \n",
       "z       0.953936       0.836501  \n",
       "y       0.988102       0.914054  "
      ]
     },
     "execution_count": 77,
     "metadata": {},
     "output_type": "execute_result"
    }
   ],
   "source": [
    "# Effective time calculation\n",
    "# Fractional change in effective time is proportional to change in m5.\n",
    "dtime = np.power(10, -0.8 * (delta_m5))\n",
    "dtime"
   ]
  },
  {
   "cell_type": "code",
   "execution_count": 78,
   "metadata": {},
   "outputs": [
    {
     "data": {
      "text/plain": [
       "u    0.068\n",
       "g    0.097\n",
       "r    0.223\n",
       "i    0.223\n",
       "z    0.194\n",
       "y    0.194\n",
       "dtype: float64"
      ]
     },
     "execution_count": 78,
     "metadata": {},
     "output_type": "execute_result"
    }
   ],
   "source": [
    "SRD_time_distribution = pd.Series({'u': 0.068, 'g': 0.097, 'r': 0.223, 'i': 0.223, 'z': 0.194, 'y': 0.194})\n",
    "SRD_time_distribution "
   ]
  },
  {
   "cell_type": "code",
   "execution_count": 79,
   "metadata": {},
   "outputs": [
    {
     "data": {
      "text/html": [
       "<div>\n",
       "<style scoped>\n",
       "    .dataframe tbody tr th:only-of-type {\n",
       "        vertical-align: middle;\n",
       "    }\n",
       "\n",
       "    .dataframe tbody tr th {\n",
       "        vertical-align: top;\n",
       "    }\n",
       "\n",
       "    .dataframe thead th {\n",
       "        text-align: right;\n",
       "    }\n",
       "</style>\n",
       "<table border=\"1\" class=\"dataframe\">\n",
       "  <thead>\n",
       "    <tr style=\"text-align: right;\">\n",
       "      <th></th>\n",
       "      <th>Al-Al-Al</th>\n",
       "      <th>Al-Ag-Al</th>\n",
       "      <th>Ag-Al-Ag</th>\n",
       "      <th>Ag-Ag-Ag</th>\n",
       "      <th>Al-Al-Al_bdRd</th>\n",
       "      <th>Al-Ag-Al_bdRd</th>\n",
       "      <th>Ag-Al-Ag_bdRd</th>\n",
       "      <th>Ag-Ag-Ag_bdRd</th>\n",
       "    </tr>\n",
       "  </thead>\n",
       "  <tbody>\n",
       "    <tr>\n",
       "      <th>u</th>\n",
       "      <td>0.048495</td>\n",
       "      <td>0.068</td>\n",
       "      <td>0.091159</td>\n",
       "      <td>0.119127</td>\n",
       "      <td>0.079594</td>\n",
       "      <td>0.116658</td>\n",
       "      <td>0.160671</td>\n",
       "      <td>0.213985</td>\n",
       "    </tr>\n",
       "    <tr>\n",
       "      <th>g</th>\n",
       "      <td>0.097635</td>\n",
       "      <td>0.097</td>\n",
       "      <td>0.096308</td>\n",
       "      <td>0.095561</td>\n",
       "      <td>0.126668</td>\n",
       "      <td>0.125611</td>\n",
       "      <td>0.124476</td>\n",
       "      <td>0.123266</td>\n",
       "    </tr>\n",
       "    <tr>\n",
       "      <th>r</th>\n",
       "      <td>0.237640</td>\n",
       "      <td>0.223</td>\n",
       "      <td>0.209315</td>\n",
       "      <td>0.196516</td>\n",
       "      <td>0.280407</td>\n",
       "      <td>0.261337</td>\n",
       "      <td>0.243671</td>\n",
       "      <td>0.227295</td>\n",
       "    </tr>\n",
       "    <tr>\n",
       "      <th>i</th>\n",
       "      <td>0.249837</td>\n",
       "      <td>0.223</td>\n",
       "      <td>0.199262</td>\n",
       "      <td>0.178226</td>\n",
       "      <td>0.284942</td>\n",
       "      <td>0.251558</td>\n",
       "      <td>0.222486</td>\n",
       "      <td>0.197108</td>\n",
       "    </tr>\n",
       "    <tr>\n",
       "      <th>z</th>\n",
       "      <td>0.220006</td>\n",
       "      <td>0.194</td>\n",
       "      <td>0.171208</td>\n",
       "      <td>0.151207</td>\n",
       "      <td>0.241674</td>\n",
       "      <td>0.211329</td>\n",
       "      <td>0.185064</td>\n",
       "      <td>0.162281</td>\n",
       "    </tr>\n",
       "    <tr>\n",
       "      <th>y</th>\n",
       "      <td>0.209027</td>\n",
       "      <td>0.194</td>\n",
       "      <td>0.180095</td>\n",
       "      <td>0.167222</td>\n",
       "      <td>0.224298</td>\n",
       "      <td>0.207309</td>\n",
       "      <td>0.191692</td>\n",
       "      <td>0.177327</td>\n",
       "    </tr>\n",
       "  </tbody>\n",
       "</table>\n",
       "</div>"
      ],
      "text/plain": [
       "   Al-Al-Al  Al-Ag-Al  Ag-Al-Ag  Ag-Ag-Ag  Al-Al-Al_bdRd  Al-Ag-Al_bdRd  \\\n",
       "u  0.048495     0.068  0.091159  0.119127       0.079594       0.116658   \n",
       "g  0.097635     0.097  0.096308  0.095561       0.126668       0.125611   \n",
       "r  0.237640     0.223  0.209315  0.196516       0.280407       0.261337   \n",
       "i  0.249837     0.223  0.199262  0.178226       0.284942       0.251558   \n",
       "z  0.220006     0.194  0.171208  0.151207       0.241674       0.211329   \n",
       "y  0.209027     0.194  0.180095  0.167222       0.224298       0.207309   \n",
       "\n",
       "   Ag-Al-Ag_bdRd  Ag-Ag-Ag_bdRd  \n",
       "u       0.160671       0.213985  \n",
       "g       0.124476       0.123266  \n",
       "r       0.243671       0.227295  \n",
       "i       0.222486       0.197108  \n",
       "z       0.185064       0.162281  \n",
       "y       0.191692       0.177327  "
      ]
     },
     "execution_count": 79,
     "metadata": {},
     "output_type": "execute_result"
    }
   ],
   "source": [
    "weighted_dtime = dtime.multiply(SRD_time_distribution, axis=0)\n",
    "weighted_dtime"
   ]
  },
  {
   "cell_type": "code",
   "execution_count": 80,
   "metadata": {},
   "outputs": [
    {
     "data": {
      "text/plain": [
       "Al-Al-Al         1.062639\n",
       "Al-Ag-Al         0.999000\n",
       "Ag-Al-Ag         0.947346\n",
       "Ag-Ag-Ag         0.907860\n",
       "Al-Al-Al_bdRd    1.237583\n",
       "Al-Ag-Al_bdRd    1.173802\n",
       "Ag-Al-Ag_bdRd    1.128059\n",
       "Ag-Ag-Ag_bdRd    1.101261\n",
       "dtype: float64"
      ]
     },
     "execution_count": 80,
     "metadata": {},
     "output_type": "execute_result"
    }
   ],
   "source": [
    "weighted_dtime.sum()"
   ]
  },
  {
   "cell_type": "code",
   "execution_count": 81,
   "metadata": {},
   "outputs": [
    {
     "data": {
      "text/plain": [
       "Al-Al-Al         183031.0\n",
       "Al-Ag-Al          -2922.0\n",
       "Ag-Al-Ag        -153855.0\n",
       "Ag-Ag-Ag        -269234.0\n",
       "Al-Al-Al_bdRd    694217.0\n",
       "Al-Ag-Al_bdRd    507850.0\n",
       "Ag-Al-Ag_bdRd    374187.0\n",
       "Ag-Ag-Ag_bdRd    295886.0\n",
       "dtype: float64"
      ]
     },
     "execution_count": 81,
     "metadata": {},
     "output_type": "execute_result"
    }
   ],
   "source": [
    "np.round((weighted_dtime.sum() * 10 * 365.25 - 3652.5) * 800)"
   ]
  },
  {
   "cell_type": "code",
   "execution_count": null,
   "metadata": {},
   "outputs": [],
   "source": []
  }
 ],
 "metadata": {
  "kernelspec": {
   "display_name": "Python 3",
   "language": "python",
   "name": "python3"
  },
  "language_info": {
   "codemirror_mode": {
    "name": "ipython",
    "version": 3
   },
   "file_extension": ".py",
   "mimetype": "text/x-python",
   "name": "python",
   "nbconvert_exporter": "python",
   "pygments_lexer": "ipython3",
   "version": "3.7.1"
  }
 },
 "nbformat": 4,
 "nbformat_minor": 2
}
