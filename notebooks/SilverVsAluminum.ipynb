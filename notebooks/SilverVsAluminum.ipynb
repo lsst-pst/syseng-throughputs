{
 "cells": [
  {
   "cell_type": "markdown",
   "metadata": {},
   "source": [
    "Evaluate the impact of a silver-coated mirror vs. an aluminum-coated mirror."
   ]
  },
  {
   "cell_type": "code",
   "execution_count": 1,
   "metadata": {},
   "outputs": [],
   "source": [
    "import os\n",
    "import numpy as np\n",
    "import matplotlib.pyplot as plt\n",
    "%matplotlib inline\n",
    "from matplotlib.lines import Line2D\n",
    "import pandas as pd\n",
    "from rubin_sim.phot_utils import Bandpass\n",
    "import syseng_throughputs as st"
   ]
  },
  {
   "cell_type": "code",
   "execution_count": 2,
   "metadata": {},
   "outputs": [
    {
     "data": {
      "text/plain": [
       "{'detector': '/Users/lynnej/lsst_repos/syseng_throughputs/components/camera/detector/joint_minimum',\n",
       " 'lens1': '/Users/lynnej/lsst_repos/syseng_throughputs/components/camera/lens1',\n",
       " 'lens2': '/Users/lynnej/lsst_repos/syseng_throughputs/components/camera/lens2',\n",
       " 'lens3': '/Users/lynnej/lsst_repos/syseng_throughputs/components/camera/lens3',\n",
       " 'filters': '/Users/lynnej/lsst_repos/syseng_throughputs/components/camera/filters',\n",
       " 'mirror1': '/Users/lynnej/lsst_repos/syseng_throughputs/components/telescope/mirror1',\n",
       " 'mirror2': '/Users/lynnej/lsst_repos/syseng_throughputs/components/telescope/mirror2',\n",
       " 'mirror3': '/Users/lynnej/lsst_repos/syseng_throughputs/components/telescope/mirror3',\n",
       " 'atmosphere': '/Users/lynnej/lsst_repos/syseng_throughputs/siteProperties'}"
      ]
     },
     "execution_count": 2,
     "metadata": {},
     "output_type": "execute_result"
    }
   ],
   "source": [
    "defaultDirs = st.setDefaultDirs()\n",
    "defaultDirs"
   ]
  },
  {
   "cell_type": "code",
   "execution_count": 3,
   "metadata": {},
   "outputs": [
    {
     "name": "stdout",
     "output_type": "stream",
     "text": [
      "[ 7.01712192  8.96883493 16.09347694]\n"
     ]
    }
   ],
   "source": [
    "srd = False\n",
    "readnoise = np.array([6.8, 8.8, 16])\n",
    "noise = np.sqrt(readnoise**2 + 0.2*15)\n",
    "print(noise)\n",
    "readnoise = 8.8\n",
    "\n",
    "# srd true = no losses, X=1.0, fwhm500 = 0.62\n",
    "# srd false = losses, X=1.2, fwhm500 = 0.72\n",
    "if srd:\n",
    "    addLosses = False\n",
    "else:\n",
    "    addLosses = True"
   ]
  },
  {
   "cell_type": "code",
   "execution_count": 4,
   "metadata": {},
   "outputs": [],
   "source": [
    "# Read the non-mirror components - with losses or not depending on srd (without) or not (with)\n",
    "detector = {}\n",
    "detector['det'] = st.buildDetector(defaultDirs['detector'], addLosses=addLosses)\n",
    "detector['e2v'] = st.buildDetector('/'.join(defaultDirs['detector'].split('/')[:-1] + ['e2v']), \n",
    "                                   addLosses=addLosses)\n",
    "detector['itl'] = st.buildDetector('/'.join(defaultDirs['detector'].split('/')[:-1] + ['itl']),\n",
    "                                  addLosses=addLosses)\n",
    "lens1 = st.buildLens(defaultDirs['lens1'], addLosses=addLosses)\n",
    "lens2 = st.buildLens(defaultDirs['lens2'], addLosses=addLosses)\n",
    "lens3 = st.buildLens(defaultDirs['lens3'], addLosses=addLosses)\n",
    "filters = st.buildFilters(defaultDirs['filters'], addLosses=addLosses)\n",
    "if srd:\n",
    "    X=1.0\n",
    "    atmos = st.readAtmosphere(defaultDirs['atmosphere'], atmosFile='atmos_10_aerosol.dat')\n",
    "else:\n",
    "    X=1.2\n",
    "    atmos = st.readAtmosphere(defaultDirs['atmosphere'], atmosFile='pachonModtranAtm_12_aerosol.dat')"
   ]
  },
  {
   "cell_type": "code",
   "execution_count": 5,
   "metadata": {},
   "outputs": [
    {
     "data": {
      "text/plain": [
       "(['m1_ProtAl_Ideal.dat', 'm1_Losses'],\n",
       " ['m2_Losses', 'm2_ProtAg_Ideal.dat'],\n",
       " ['m3_Losses', 'm3_ProtAl_Ideal.dat'])"
      ]
     },
     "execution_count": 5,
     "metadata": {},
     "output_type": "execute_result"
    }
   ],
   "source": [
    "# We need a silver mirror and an aluminum mirror\n",
    "os.listdir(defaultDirs['mirror1']), os.listdir(defaultDirs['mirror2']), os.listdir(defaultDirs['mirror3'])"
   ]
  },
  {
   "cell_type": "code",
   "execution_count": 6,
   "metadata": {},
   "outputs": [
    {
     "data": {
      "text/plain": [
       "<matplotlib.legend.Legend at 0x19ef7f110>"
      ]
     },
     "execution_count": 6,
     "metadata": {},
     "output_type": "execute_result"
    },
    {
     "data": {
      "image/png": "[encoded data removed]",
      "text/plain": [
       "<Figure size 640x480 with 1 Axes>"
      ]
     },
     "metadata": {},
     "output_type": "display_data"
    }
   ],
   "source": [
    "# check if mirror losses are the same ..\n",
    "losses = {}\n",
    "for m in ('mirror1', 'mirror2', 'mirror3'):\n",
    "    losses[m] = Bandpass()\n",
    "    losses[m].read_throughput(os.path.join(defaultDirs[m], '%s%s_Losses' % (m[0],m[-1]), \n",
    "                                          '%s%s_Losses.dat' % (m[0], m[-1])))\n",
    "    linestyle = '-'\n",
    "    width=2\n",
    "    if m == 'mirror3':\n",
    "        linestyle=':'\n",
    "        width=4\n",
    "    plt.plot(losses[m].wavelen, losses[m].sb, linestyle=linestyle, linewidth=width, label=m)\n",
    "plt.ylim(0.94, 0.99)\n",
    "plt.legend()"
   ]
  },
  {
   "cell_type": "code",
   "execution_count": 7,
   "metadata": {},
   "outputs": [],
   "source": [
    "# Mirror losses are not the same (up vs. down-facing), so turn them off for now.\n",
    "mirror = {}\n",
    "mirror['Al'] = st.buildMirror(defaultDirs['mirror1'], addLosses=False)\n",
    "mirror['Ag'] = st.buildMirror(defaultDirs['mirror2'], addLosses=False)\n",
    "# BUT because they are not material dependent and just multiply by the mirror throughput .. \n",
    "# we can add them back anyway (as we do below)"
   ]
  },
  {
   "cell_type": "code",
   "execution_count": 8,
   "metadata": {},
   "outputs": [],
   "source": [
    "# Ok .. 8 combos are actually 4 because it doesn't matter which order the mirrors are in.\n",
    "combos = [['Al', 'Ag', 'Al'], ['Ag', 'Ag', 'Ag']]\n",
    "\n",
    "\n",
    "m5 = {}\n",
    "system_all = {}\n",
    "for combo in combos:\n",
    "    comboname = '-'.join(combo)\n",
    "    system_all[comboname] = {}\n",
    "    m5[comboname] = {}\n",
    "    for det in ['e2v', 'itl']:\n",
    "        hardware = {}\n",
    "        system = {}\n",
    "        for f in filters:\n",
    "            wavelen = detector[det].wavelen\n",
    "            # Hardware\n",
    "            sb = detector[det].sb * lens1.sb * lens2.sb * lens3.sb * filters[f].sb\n",
    "            if not srd:\n",
    "                sb *= losses['mirror1'].sb * losses['mirror2'].sb * losses['mirror3'].sb\n",
    "            sb *= mirror[combo[0]].sb * mirror[combo[1]].sb * mirror[combo[2]].sb\n",
    "            hardware[f] = Bandpass()\n",
    "            hardware[f].set_bandpass(wavelen, sb)\n",
    "            system[f] = Bandpass()\n",
    "            system[f].set_bandpass(wavelen, sb * atmos.sb)\n",
    "        system_all[comboname][det] = system\n",
    "        if srd:\n",
    "            m5[comboname][det] = st.makeM5(hardware, system, darksky=None, \n",
    "                                           exptime=15, nexp=2,\n",
    "                                           readnoise=8.8, othernoise=0.,\n",
    "                                           darkcurrent=0.2, fwhm500=0.62, X=1.0)\n",
    "        else:\n",
    "            # Default exptime values put u=1x30, grizy = 2x15\n",
    "            m5[comboname][det] = st.makeM5(hardware, system, darksky=None, \n",
    "                                           readnoise=readnoise, othernoise=0.,\n",
    "                                           darkcurrent=0.2, fwhm500=0.72, X=X)"
   ]
  },
  {
   "cell_type": "code",
   "execution_count": 9,
   "metadata": {},
   "outputs": [
    {
     "data": {
      "text/plain": [
       "dict_keys(['e2v', 'itl'])"
      ]
     },
     "execution_count": 9,
     "metadata": {},
     "output_type": "execute_result"
    }
   ],
   "source": [
    "m5['Al-Ag-Al'].keys()"
   ]
  },
  {
   "cell_type": "code",
   "execution_count": null,
   "metadata": {},
   "outputs": [],
   "source": [
    "# Plot the entire throughputs\n",
    "plt.figure(figsize=(12, 8))\n",
    "linestyles = ['-', '--', '-.', ':']\n",
    "leg_elements = []\n",
    "for i, combo in enumerate(combos):\n",
    "    label = '-'.join(combo) + ' E2V'\n",
    "    linestyle= linestyles[i]\n",
    "    st.plotBandpasses(system_all['-'.join(combo)]['e2v'], newfig=False, addlegend=False, linestyle=linestyle)\n",
    "    leg_elements.append(Line2D([0], [0], color='k', linestyle=linestyle, label=label))\n",
    "plt.legend(handles=leg_elements, loc='upper left', fontsize='x-large', fancybox=True)"
   ]
  },
  {
   "cell_type": "code",
   "execution_count": null,
   "metadata": {},
   "outputs": [],
   "source": [
    "# Plot the entire throughputs\n",
    "plt.figure(figsize=(12, 8))\n",
    "linestyles = ['-', '--', '-.', ':']\n",
    "leg_elements = []\n",
    "for i, combo in enumerate(combos):\n",
    "    label = '-'.join(combo) + ' ITL'\n",
    "    linestyle= linestyles[i]\n",
    "    st.plotBandpasses(system_all['-'.join(combo)]['itl'], newfig=False, addlegend=False, linestyle=linestyle)\n",
    "    leg_elements.append(Line2D([0], [0], color='k', linestyle=linestyle, label=label))\n",
    "plt.legend(handles=leg_elements, loc='upper left', fontsize='x-large', fancybox=True)"
   ]
  },
  {
   "cell_type": "code",
   "execution_count": null,
   "metadata": {},
   "outputs": [],
   "source": [
    "print('filter vendor Al-Ag-Al Ag-Ag-Ag')\n",
    "for f in 'ugrizy':\n",
    "    for det in ['e2v', 'itl']:\n",
    "        effwavelenphi1, effwavelensb1 = system_all['Al-Ag-Al'][det][f].calc_eff_wavelen()\n",
    "        effwavelenphi2, effwavelensb2 = system_all['Ag-Ag-Ag'][det][f].calc_eff_wavelen()\n",
    "        print(f'{f} {det} {effwavelensb1 :.2f} {effwavelensb2 :.2f} {(effwavelensb1/effwavelensb2) :.3f}')"
   ]
  },
  {
   "cell_type": "code",
   "execution_count": null,
   "metadata": {
    "scrolled": true
   },
   "outputs": [],
   "source": [
    "# Plot JUST the mirror reflectivities, for the all Aluminum or all Silver or Al-Ag-Al sets\n",
    "mirror_plot = [['Al', 'Ag', 'Al'], ['Ag', 'Ag', 'Ag']]\n",
    "\n",
    "mirrors = {}\n",
    "for combo in mirror_plot:\n",
    "    name = '-'.join(combo)\n",
    "    wavelen = mirror[combo[0]].wavelen\n",
    "    sb = mirror[combo[0]].sb * mirror[combo[1]].sb * mirror[combo[2]].sb\n",
    "    mirrors[name] = Bandpass()\n",
    "    mirrors[name].set_bandpass(wavelen, sb)\n",
    "\n",
    "   \n",
    "# Plot the mirror reflectivities\n",
    "plt.figure(figsize=(12, 8))\n",
    "st.plotBandpasses(filters, newfig=False, linestyle=':', linewidth=1.5, addlegend=False)\n",
    "linestyles = ['--', '-']\n",
    "leg_elements = []\n",
    "\n",
    "plt.plot(mirror['Al'].wavelen, mirror['Al'].sb, color='gray', linestyle=':')\n",
    "leg_elements.append(Line2D([0], [0], color='gray', linestyle=':', label='Single Al'))\n",
    "plt.plot(mirror['Ag'].wavelen, mirror['Ag'].sb,  color='orange', linestyle=':')\n",
    "leg_elements.append(Line2D([0], [0], color='orange', linestyle=':', label='Single Ag'))\n",
    "\n",
    "extra= True\n",
    "if extra:\n",
    "    plt.plot(atmos.wavelen, atmos.sb,  color='blue', linestyle='--')\n",
    "    leg_elements.append(Line2D([0], [0], color='blue', linestyle='--', label='Atmosphere'))\n",
    "    plt.plot(detector['e2v'].wavelen, detector['e2v'].sb,  color='gray', linestyle='--')\n",
    "    leg_elements.append(Line2D([0], [0], color='gray', linestyle='--', label='E2V'))\n",
    "    plt.plot(detector['itl'].wavelen, detector['itl'].sb,  color='red', linestyle='--')\n",
    "    leg_elements.append(Line2D([0], [0], color='red', linestyle='--', label='ITL'))\n",
    "\n",
    "for i, combo in enumerate(mirror_plot):\n",
    "    name = '-'.join(combo)\n",
    "    linestyle= linestyles[i]\n",
    "    plt.plot(mirrors[name].wavelen, mirrors[name].sb, color='k', linestyle=linestyle, linewidth=2)\n",
    "    leg_elements.append(Line2D([0], [0], color='k', linestyle=linestyle, label=name))\n",
    "\n",
    "\n",
    "plt.legend(handles=leg_elements, loc='lower right', fontsize='x-large', fancybox=True)\n",
    "plt.grid(True, alpha=0.4)\n",
    "plt.xlim(299, 1100)\n",
    "plt.ylim(0, 1)\n",
    "#plt.xlim(299, 400)\n",
    "plt.xlabel(\"Wavelength (nm)\")\n",
    "plt.ylabel(\"Reflectivity\")"
   ]
  },
  {
   "cell_type": "code",
   "execution_count": null,
   "metadata": {},
   "outputs": [],
   "source": [
    "m5['Al-Ag-Al']['e2v']"
   ]
  },
  {
   "cell_type": "code",
   "execution_count": null,
   "metadata": {},
   "outputs": [],
   "source": [
    "d = pd.DataFrame({'Al-Ag-Al E2V': m5['Al-Ag-Al']['e2v'].m5, 'Al-Ag-Al ITL': m5['Al-Ag-Al']['itl'].m5,\n",
    "                  'Ag-Ag-Ag E2V': m5['Ag-Ag-Ag']['e2v'].m5, 'Ag-Ag-Ag ITL': m5['Ag-Ag-Ag']['itl'].m5})\n",
    "\n",
    "d.round(2)"
   ]
  },
  {
   "cell_type": "code",
   "execution_count": null,
   "metadata": {},
   "outputs": [],
   "source": [
    "delta_m5 = (d.T - d['Al-Ag-Al E2V'].T)\n",
    "delta_m5.round(2).T\n",
    "# Positive values mean deeper limiting magnitudes"
   ]
  },
  {
   "cell_type": "code",
   "execution_count": null,
   "metadata": {},
   "outputs": [],
   "source": [
    "# Effective time calculation\n",
    "# Fractional change in effective time is proportional to change in m5.\n",
    "# HERE - longer time = better\n",
    "dtime = np.power(10, 0.8 * (delta_m5))\n",
    "dtime"
   ]
  },
  {
   "cell_type": "code",
   "execution_count": null,
   "metadata": {},
   "outputs": [],
   "source": [
    "SRD_time_distribution = pd.Series({'u': 0.068, 'g': 0.097, 'r': 0.223, 'i': 0.223, 'z': 0.194, 'y': 0.194})\n",
    "SRD_time_distribution "
   ]
  },
  {
   "cell_type": "code",
   "execution_count": null,
   "metadata": {},
   "outputs": [],
   "source": [
    "weighted_dtime = dtime.multiply(SRD_time_distribution)\n",
    "weighted_dtime"
   ]
  },
  {
   "cell_type": "code",
   "execution_count": null,
   "metadata": {},
   "outputs": [],
   "source": [
    "weighted_dtime.sum(axis=1)"
   ]
  },
  {
   "cell_type": "code",
   "execution_count": null,
   "metadata": {},
   "outputs": [],
   "source": []
  },
  {
   "cell_type": "code",
   "execution_count": null,
   "metadata": {},
   "outputs": [],
   "source": []
  }
 ],
 "metadata": {
  "kernelspec": {
   "display_name": "Python 3 (ipykernel)",
   "language": "python",
   "name": "python3"
  },
  "language_info": {
   "codemirror_mode": {
    "name": "ipython",
    "version": 3
   },
   "file_extension": ".py",
   "mimetype": "text/x-python",
   "name": "python",
   "nbconvert_exporter": "python",
   "pygments_lexer": "ipython3",
   "version": "3.11.0"
  }
 },
 "nbformat": 4,
 "nbformat_minor": 2
}
