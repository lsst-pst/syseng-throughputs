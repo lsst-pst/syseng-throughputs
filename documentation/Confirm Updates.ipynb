{
 "cells": [
  {
   "cell_type": "markdown",
   "metadata": {},
   "source": [
    "This notebook will check the contents of the syseng_throughputs directories on disk, compared to master.  \n",
    "Assuming you've already run the appropriate updates, this will show the difference between the current branch and master.  (this notebook uses the terminology that \"master\" == the github master branch, and so is the 'old' version). "
   ]
  },
  {
   "cell_type": "code",
   "execution_count": 1,
   "metadata": {},
   "outputs": [],
   "source": [
    "import os\n",
    "import numpy as np\n",
    "import pandas as pd\n",
    "import matplotlib.pyplot as plt\n",
    "# this magic command makes plots appear within the notebook\n",
    "%matplotlib inline\n",
    "\n",
    "# Import syseng_throughputs classes. This notebook DOES require the LSST stack, as we want to use photUtils.\n",
    "import lsst.syseng.throughputs as st\n",
    "from lsst.sims.photUtils import Bandpass"
   ]
  },
  {
   "cell_type": "code",
   "execution_count": 2,
   "metadata": {},
   "outputs": [],
   "source": [
    "# Set the directory of the \"updated\" files .. this is the same as this syseng_throughputs repository.\n",
    "updatedir = os.path.normpath(os.path.join(os.getcwd(), '..'))"
   ]
  },
  {
   "cell_type": "code",
   "execution_count": 3,
   "metadata": {},
   "outputs": [
    {
     "data": {
      "text/plain": [
       "CompletedProcess(args=['git', 'clone', 'https://github.com/lsst-pst/syseng_throughputs.git', 'syseng_master'], returncode=0)"
      ]
     },
     "execution_count": 3,
     "metadata": {},
     "output_type": "execute_result"
    }
   ],
   "source": [
    "# Check out \"master\" (from github) into a new directory, so we can compare. \n",
    "import shutil\n",
    "import subprocess\n",
    "\n",
    "masterdir = 'syseng_master'\n",
    "# Remove previous copy of this directory, if it exists.\n",
    "try:\n",
    "    shutil.rmtree(masterdir)\n",
    "except OSError:\n",
    "    pass\n",
    "gitcommand = 'git clone https://github.com/lsst-pst/syseng_throughputs.git %s' % masterdir\n",
    "subprocess.run(args=gitcommand.split(), check=True)"
   ]
  },
  {
   "cell_type": "code",
   "execution_count": 4,
   "metadata": {},
   "outputs": [
    {
     "name": "stdout",
     "output_type": "stream",
     "text": [
      "master dir: syseng_master \n",
      "update dir: /Users/bxin/lsst_stack/syseng_throughputs\n"
     ]
    }
   ],
   "source": [
    "# Look for any differences in the component files. You can also do this at the command line with 'git status'.\n",
    "# First build the lists of components (master and update) and their locations.\n",
    "print(\"master dir: %s \\nupdate dir: %s\" % (masterdir, updatedir))\n",
    "m_componentNames = []\n",
    "masterfiles = []\n",
    "for root, dirs, files in os.walk(os.path.join(masterdir, 'components')):\n",
    "    for f in files:\n",
    "        masterfiles.append(os.path.join(root, f))\n",
    "        m_componentNames.append(f)\n",
    "u_componentNames = []\n",
    "updatefiles = []\n",
    "for root, dirs, files in os.walk(os.path.join(updatedir, 'components')):\n",
    "    for f in files:\n",
    "        updatefiles.append(os.path.join(root, f))\n",
    "        u_componentNames.append(f)"
   ]
  },
  {
   "cell_type": "code",
   "execution_count": 5,
   "metadata": {},
   "outputs": [
    {
     "name": "stdout",
     "output_type": "stream",
     "text": [
      "Master and update components are the same.\n"
     ]
    }
   ],
   "source": [
    "# Check if there are any new components.\n",
    "if set(m_componentNames) == set(u_componentNames):\n",
    "    print(\"Master and update components are the same.\")\n",
    "else:\n",
    "    for u in u_componentNames:\n",
    "        if u not in m_componentNames:\n",
    "            print('New component (in updates)? %s' % u)\n",
    "    for m in m_componentNames:\n",
    "        if m not in u_componentNames:\n",
    "            print('Deleted component (in master)? %s' % m)"
   ]
  },
  {
   "cell_type": "code",
   "execution_count": 6,
   "metadata": {},
   "outputs": [
    {
     "name": "stdout",
     "output_type": "stream",
     "text": [
      "Difference in transmission values for m2_ProtAg_Ideal.dat\n"
     ]
    }
   ],
   "source": [
    "# Look for any differences in the actual files. \n",
    "diff_components = []\n",
    "for component in set(u_componentNames).intersection(set(m_componentNames)):\n",
    "    m_idx = m_componentNames.index(component)\n",
    "    u_idx = u_componentNames.index(component)\n",
    "    m_comp = Bandpass()\n",
    "    m_comp.readThroughput(masterfiles[m_idx])\n",
    "    u_comp = Bandpass()\n",
    "    u_comp.readThroughput(updatefiles[u_idx])\n",
    "    if np.any(m_comp.wavelen != u_comp.wavelen):\n",
    "        print('Difference in wavelength values for %s' % component)\n",
    "        diff_components.append(component)\n",
    "    if np.any(m_comp.sb != u_comp.sb):\n",
    "        print('Difference in transmission values for %s' % component)\n",
    "        diff_components.append(component)"
   ]
  },
  {
   "cell_type": "code",
   "execution_count": 7,
   "metadata": {},
   "outputs": [
    {
     "data": {
      "image/png": "[encoded data removed]",
      "text/plain": [
       "<matplotlib.figure.Figure at 0x118e02b00>"
      ]
     },
     "metadata": {},
     "output_type": "display_data"
    }
   ],
   "source": [
    "# Plot components with a change. \n",
    "for component in set(diff_components):\n",
    "    plt.figure(figsize=(8, 5))\n",
    "    m_idx = m_componentNames.index(component)\n",
    "    u_idx = u_componentNames.index(component)\n",
    "    m_comp = Bandpass()\n",
    "    m_comp.readThroughput(masterfiles[m_idx])\n",
    "    u_comp = Bandpass()\n",
    "    u_comp.readThroughput(updatefiles[u_idx])\n",
    "    plt.plot(m_comp.wavelen, m_comp.sb, color='red', linestyle=':', linewidth=2, label='Master')\n",
    "    plt.plot(u_comp.wavelen, u_comp.sb, color='blue', linestyle='-', label='Update')\n",
    "    plt.legend(loc=(0.95, 0.5), fancybox=True)\n",
    "    plt.xlabel('Wavelength (nm)')\n",
    "    plt.ylabel('Transmission')\n",
    "    plt.title('%s' % component)"
   ]
  },
  {
   "cell_type": "code",
   "execution_count": 8,
   "metadata": {},
   "outputs": [
    {
     "name": "stdout",
     "output_type": "stream",
     "text": [
      "dict_keys(['detector', 'lens1', 'lens2', 'lens3', 'filters', 'mirror1', 'mirror2', 'mirror3', 'atmosphere'])\n",
      "Update directories (e.g.): /Users/bxin/lsst_stack/syseng_throughputs/components/camera/detector/joint_minimum\n",
      "Master directories (e.g.): syseng_master/components/camera/detector/joint_minimum\n"
     ]
    }
   ],
   "source": [
    "# Now read everything and make some plots as well as compute m5 values.\n",
    "# Set the default directories for the updated curves as well as the master curves. \n",
    "updateDirs = st.setDefaultDirs(rootDir=updatedir)\n",
    "masterDirs = st.setDefaultDirs(rootDir=masterdir)\n",
    "\n",
    "print(updateDirs.keys())\n",
    "print(\"Update directories (e.g.):\", updateDirs['detector'])\n",
    "print(\"Master directories (e.g.):\", masterDirs['detector'])"
   ]
  },
  {
   "cell_type": "code",
   "execution_count": 9,
   "metadata": {},
   "outputs": [],
   "source": [
    "# Read the combined default components. (note this uses the joint_minimum detector)\n",
    "# Hardware = telescope + camera only. System = also with atmosphere.\n",
    "update_hardware, update_system = st.buildHardwareAndSystem(updateDirs)\n",
    "master_hardware, master_system = st.buildHardwareAndSystem(masterDirs)"
   ]
  },
  {
   "cell_type": "code",
   "execution_count": 10,
   "metadata": {},
   "outputs": [
    {
     "data": {
      "image/png": "[encoded data removed]",
      "text/plain": [
       "<matplotlib.figure.Figure at 0x118d910b8>"
      ]
     },
     "metadata": {},
     "output_type": "display_data"
    }
   ],
   "source": [
    "# Plot all of the components: everything\n",
    "plt.figure(figsize=(8, 5))\n",
    "st.plotBandpasses(update_system, newfig=False, addlegend=False)\n",
    "st.plotBandpasses(master_system, linestyle=':', newfig=False, addlegend=True)"
   ]
  },
  {
   "cell_type": "code",
   "execution_count": 11,
   "metadata": {},
   "outputs": [
    {
     "data": {
      "image/png": "[encoded data removed]",
      "text/plain": [
       "<matplotlib.figure.Figure at 0x11c7f5278>"
      ]
     },
     "metadata": {},
     "output_type": "display_data"
    }
   ],
   "source": [
    "# Plot all of the components. Just the hardware\n",
    "plt.figure(figsize=(8, 5))\n",
    "st.plotBandpasses(update_hardware, newfig=False, addlegend=False)\n",
    "st.plotBandpasses(master_hardware, linestyle=':', newfig=False, addlegend=True)"
   ]
  },
  {
   "cell_type": "code",
   "execution_count": 12,
   "metadata": {},
   "outputs": [],
   "source": [
    "# Compare m5 values before/after the update.\n",
    "update_m5 = st.makeM5(update_hardware, update_system, darksky=None, \n",
    "                      exptime=15, nexp=2, readnoise=8.8, othernoise=0, darkcurrent=0.2,\n",
    "                      effarea=np.pi*(6.423/2*100)**2, X=1.0)\n",
    "master_m5 = st.makeM5(master_hardware, master_system, darksky=None, \n",
    "                      exptime=15, nexp=2, readnoise=8.8, othernoise=0, darkcurrent=0.2,\n",
    "                      effarea=np.pi*(6.423/2*100)**2, X=1.0)"
   ]
  },
  {
   "cell_type": "code",
   "execution_count": 13,
   "metadata": {},
   "outputs": [
    {
     "data": {
      "text/html": [
       "<div>\n",
       "<style>\n",
       "    .dataframe thead tr:only-child th {\n",
       "        text-align: right;\n",
       "    }\n",
       "\n",
       "    .dataframe thead th {\n",
       "        text-align: left;\n",
       "    }\n",
       "\n",
       "    .dataframe tbody tr th {\n",
       "        vertical-align: top;\n",
       "    }\n",
       "</style>\n",
       "<table border=\"1\" class=\"dataframe\">\n",
       "  <thead>\n",
       "    <tr style=\"text-align: right;\">\n",
       "      <th></th>\n",
       "      <th>FWHMeff</th>\n",
       "      <th>FWHMgeom</th>\n",
       "      <th>skyMag</th>\n",
       "      <th>skyCounts</th>\n",
       "      <th>Zp_t</th>\n",
       "      <th>Tb</th>\n",
       "      <th>Sb</th>\n",
       "      <th>kAtm</th>\n",
       "      <th>gamma</th>\n",
       "      <th>Cm</th>\n",
       "      <th>dCm_infinity</th>\n",
       "      <th>dCm_double</th>\n",
       "      <th>m5</th>\n",
       "      <th>sourceCounts</th>\n",
       "      <th>m5_fid</th>\n",
       "      <th>m5_min</th>\n",
       "    </tr>\n",
       "  </thead>\n",
       "  <tbody>\n",
       "    <tr>\n",
       "      <th>u</th>\n",
       "      <td>0.92</td>\n",
       "      <td>0.80824</td>\n",
       "      <td>22.960730</td>\n",
       "      <td>80.840573</td>\n",
       "      <td>27.009181</td>\n",
       "      <td>0.035837</td>\n",
       "      <td>0.057997</td>\n",
       "      <td>0.522669</td>\n",
       "      <td>0.038185</td>\n",
       "      <td>23.165597</td>\n",
       "      <td>0.576230</td>\n",
       "      <td>0.362984</td>\n",
       "      <td>23.849238</td>\n",
       "      <td>550.932990</td>\n",
       "      <td>23.9</td>\n",
       "      <td>23.4</td>\n",
       "    </tr>\n",
       "    <tr>\n",
       "      <th>g</th>\n",
       "      <td>0.87</td>\n",
       "      <td>0.76714</td>\n",
       "      <td>22.257758</td>\n",
       "      <td>411.094794</td>\n",
       "      <td>28.399288</td>\n",
       "      <td>0.128938</td>\n",
       "      <td>0.154358</td>\n",
       "      <td>0.195371</td>\n",
       "      <td>0.038743</td>\n",
       "      <td>24.447490</td>\n",
       "      <td>0.176182</td>\n",
       "      <td>0.093056</td>\n",
       "      <td>24.840316</td>\n",
       "      <td>795.628429</td>\n",
       "      <td>25.0</td>\n",
       "      <td>24.6</td>\n",
       "    </tr>\n",
       "    <tr>\n",
       "      <th>r</th>\n",
       "      <td>0.83</td>\n",
       "      <td>0.73426</td>\n",
       "      <td>21.196590</td>\n",
       "      <td>818.797145</td>\n",
       "      <td>28.177407</td>\n",
       "      <td>0.105106</td>\n",
       "      <td>0.115690</td>\n",
       "      <td>0.104170</td>\n",
       "      <td>0.038990</td>\n",
       "      <td>24.467511</td>\n",
       "      <td>0.096081</td>\n",
       "      <td>0.047725</td>\n",
       "      <td>24.380855</td>\n",
       "      <td>990.243723</td>\n",
       "      <td>24.7</td>\n",
       "      <td>24.3</td>\n",
       "    </tr>\n",
       "    <tr>\n",
       "      <th>i</th>\n",
       "      <td>0.80</td>\n",
       "      <td>0.70960</td>\n",
       "      <td>20.477419</td>\n",
       "      <td>1173.487799</td>\n",
       "      <td>27.879556</td>\n",
       "      <td>0.079889</td>\n",
       "      <td>0.085493</td>\n",
       "      <td>0.073607</td>\n",
       "      <td>0.039101</td>\n",
       "      <td>24.363045</td>\n",
       "      <td>0.068928</td>\n",
       "      <td>0.033121</td>\n",
       "      <td>23.956774</td>\n",
       "      <td>1112.330543</td>\n",
       "      <td>24.0</td>\n",
       "      <td>23.6</td>\n",
       "    </tr>\n",
       "    <tr>\n",
       "      <th>z</th>\n",
       "      <td>0.78</td>\n",
       "      <td>0.69316</td>\n",
       "      <td>19.599578</td>\n",
       "      <td>1782.992383</td>\n",
       "      <td>27.481805</td>\n",
       "      <td>0.055384</td>\n",
       "      <td>0.057871</td>\n",
       "      <td>0.047694</td>\n",
       "      <td>0.039235</td>\n",
       "      <td>24.201828</td>\n",
       "      <td>0.046435</td>\n",
       "      <td>0.021447</td>\n",
       "      <td>23.384125</td>\n",
       "      <td>1306.751554</td>\n",
       "      <td>23.3</td>\n",
       "      <td>22.9</td>\n",
       "    </tr>\n",
       "    <tr>\n",
       "      <th>y</th>\n",
       "      <td>0.76</td>\n",
       "      <td>0.67672</td>\n",
       "      <td>18.610405</td>\n",
       "      <td>2371.023361</td>\n",
       "      <td>26.687500</td>\n",
       "      <td>0.026648</td>\n",
       "      <td>0.030944</td>\n",
       "      <td>0.162291</td>\n",
       "      <td>0.039311</td>\n",
       "      <td>23.759692</td>\n",
       "      <td>0.035324</td>\n",
       "      <td>0.015804</td>\n",
       "      <td>22.475605</td>\n",
       "      <td>1451.707778</td>\n",
       "      <td>22.1</td>\n",
       "      <td>21.7</td>\n",
       "    </tr>\n",
       "  </tbody>\n",
       "</table>\n",
       "</div>"
      ],
      "text/plain": [
       "   FWHMeff  FWHMgeom     skyMag    skyCounts       Zp_t        Tb        Sb  \\\n",
       "u     0.92   0.80824  22.960730    80.840573  27.009181  0.035837  0.057997   \n",
       "g     0.87   0.76714  22.257758   411.094794  28.399288  0.128938  0.154358   \n",
       "r     0.83   0.73426  21.196590   818.797145  28.177407  0.105106  0.115690   \n",
       "i     0.80   0.70960  20.477419  1173.487799  27.879556  0.079889  0.085493   \n",
       "z     0.78   0.69316  19.599578  1782.992383  27.481805  0.055384  0.057871   \n",
       "y     0.76   0.67672  18.610405  2371.023361  26.687500  0.026648  0.030944   \n",
       "\n",
       "       kAtm     gamma         Cm  dCm_infinity  dCm_double         m5  \\\n",
       "u  0.522669  0.038185  23.165597      0.576230    0.362984  23.849238   \n",
       "g  0.195371  0.038743  24.447490      0.176182    0.093056  24.840316   \n",
       "r  0.104170  0.038990  24.467511      0.096081    0.047725  24.380855   \n",
       "i  0.073607  0.039101  24.363045      0.068928    0.033121  23.956774   \n",
       "z  0.047694  0.039235  24.201828      0.046435    0.021447  23.384125   \n",
       "y  0.162291  0.039311  23.759692      0.035324    0.015804  22.475605   \n",
       "\n",
       "   sourceCounts  m5_fid  m5_min  \n",
       "u    550.932990    23.9    23.4  \n",
       "g    795.628429    25.0    24.6  \n",
       "r    990.243723    24.7    24.3  \n",
       "i   1112.330543    24.0    23.6  \n",
       "z   1306.751554    23.3    22.9  \n",
       "y   1451.707778    22.1    21.7  "
      ]
     },
     "execution_count": 13,
     "metadata": {},
     "output_type": "execute_result"
    }
   ],
   "source": [
    "update_m5"
   ]
  },
  {
   "cell_type": "code",
   "execution_count": 14,
   "metadata": {},
   "outputs": [
    {
     "data": {
      "text/html": [
       "<div>\n",
       "<style>\n",
       "    .dataframe thead tr:only-child th {\n",
       "        text-align: right;\n",
       "    }\n",
       "\n",
       "    .dataframe thead th {\n",
       "        text-align: left;\n",
       "    }\n",
       "\n",
       "    .dataframe tbody tr th {\n",
       "        vertical-align: top;\n",
       "    }\n",
       "</style>\n",
       "<table border=\"1\" class=\"dataframe\">\n",
       "  <thead>\n",
       "    <tr style=\"text-align: right;\">\n",
       "      <th></th>\n",
       "      <th>FWHMeff</th>\n",
       "      <th>FWHMgeom</th>\n",
       "      <th>skyMag</th>\n",
       "      <th>skyCounts</th>\n",
       "      <th>Zp_t</th>\n",
       "      <th>Tb</th>\n",
       "      <th>Sb</th>\n",
       "      <th>kAtm</th>\n",
       "      <th>gamma</th>\n",
       "      <th>Cm</th>\n",
       "      <th>dCm_infinity</th>\n",
       "      <th>dCm_double</th>\n",
       "      <th>m5</th>\n",
       "      <th>sourceCounts</th>\n",
       "      <th>m5_fid</th>\n",
       "      <th>m5_min</th>\n",
       "    </tr>\n",
       "  </thead>\n",
       "  <tbody>\n",
       "    <tr>\n",
       "      <th>u</th>\n",
       "      <td>0.92</td>\n",
       "      <td>0.80824</td>\n",
       "      <td>23.005144</td>\n",
       "      <td>63.161453</td>\n",
       "      <td>26.801535</td>\n",
       "      <td>0.029599</td>\n",
       "      <td>0.047205</td>\n",
       "      <td>0.506787</td>\n",
       "      <td>0.038116</td>\n",
       "      <td>22.975999</td>\n",
       "      <td>0.664225</td>\n",
       "      <td>0.430692</td>\n",
       "      <td>23.681847</td>\n",
       "      <td>530.880050</td>\n",
       "      <td>23.9</td>\n",
       "      <td>23.4</td>\n",
       "    </tr>\n",
       "    <tr>\n",
       "      <th>g</th>\n",
       "      <td>0.87</td>\n",
       "      <td>0.76714</td>\n",
       "      <td>22.253253</td>\n",
       "      <td>393.142077</td>\n",
       "      <td>28.347424</td>\n",
       "      <td>0.122923</td>\n",
       "      <td>0.147005</td>\n",
       "      <td>0.194250</td>\n",
       "      <td>0.038723</td>\n",
       "      <td>24.414911</td>\n",
       "      <td>0.182927</td>\n",
       "      <td>0.097007</td>\n",
       "      <td>24.805485</td>\n",
       "      <td>783.243503</td>\n",
       "      <td>25.0</td>\n",
       "      <td>24.6</td>\n",
       "    </tr>\n",
       "    <tr>\n",
       "      <th>r</th>\n",
       "      <td>0.83</td>\n",
       "      <td>0.73426</td>\n",
       "      <td>21.196147</td>\n",
       "      <td>801.129885</td>\n",
       "      <td>28.153344</td>\n",
       "      <td>0.102802</td>\n",
       "      <td>0.113147</td>\n",
       "      <td>0.104107</td>\n",
       "      <td>0.038981</td>\n",
       "      <td>24.453421</td>\n",
       "      <td>0.098004</td>\n",
       "      <td>0.048766</td>\n",
       "      <td>24.366544</td>\n",
       "      <td>981.388871</td>\n",
       "      <td>24.7</td>\n",
       "      <td>24.3</td>\n",
       "    </tr>\n",
       "    <tr>\n",
       "      <th>i</th>\n",
       "      <td>0.80</td>\n",
       "      <td>0.70960</td>\n",
       "      <td>20.477003</td>\n",
       "      <td>1155.779694</td>\n",
       "      <td>27.862640</td>\n",
       "      <td>0.078654</td>\n",
       "      <td>0.084170</td>\n",
       "      <td>0.073597</td>\n",
       "      <td>0.039095</td>\n",
       "      <td>24.353507</td>\n",
       "      <td>0.069912</td>\n",
       "      <td>0.033637</td>\n",
       "      <td>23.947028</td>\n",
       "      <td>1105.009312</td>\n",
       "      <td>24.0</td>\n",
       "      <td>23.6</td>\n",
       "    </tr>\n",
       "    <tr>\n",
       "      <th>z</th>\n",
       "      <td>0.78</td>\n",
       "      <td>0.69316</td>\n",
       "      <td>19.599676</td>\n",
       "      <td>1756.888043</td>\n",
       "      <td>27.465877</td>\n",
       "      <td>0.054578</td>\n",
       "      <td>0.057029</td>\n",
       "      <td>0.047706</td>\n",
       "      <td>0.039230</td>\n",
       "      <td>24.193119</td>\n",
       "      <td>0.047092</td>\n",
       "      <td>0.021779</td>\n",
       "      <td>23.375466</td>\n",
       "      <td>1298.032719</td>\n",
       "      <td>23.3</td>\n",
       "      <td>22.9</td>\n",
       "    </tr>\n",
       "    <tr>\n",
       "      <th>y</th>\n",
       "      <td>0.76</td>\n",
       "      <td>0.67672</td>\n",
       "      <td>18.610310</td>\n",
       "      <td>2339.099387</td>\n",
       "      <td>26.672735</td>\n",
       "      <td>0.026288</td>\n",
       "      <td>0.030525</td>\n",
       "      <td>0.162243</td>\n",
       "      <td>0.039307</td>\n",
       "      <td>23.751802</td>\n",
       "      <td>0.035789</td>\n",
       "      <td>0.016034</td>\n",
       "      <td>22.467668</td>\n",
       "      <td>1442.606425</td>\n",
       "      <td>22.1</td>\n",
       "      <td>21.7</td>\n",
       "    </tr>\n",
       "  </tbody>\n",
       "</table>\n",
       "</div>"
      ],
      "text/plain": [
       "   FWHMeff  FWHMgeom     skyMag    skyCounts       Zp_t        Tb        Sb  \\\n",
       "u     0.92   0.80824  23.005144    63.161453  26.801535  0.029599  0.047205   \n",
       "g     0.87   0.76714  22.253253   393.142077  28.347424  0.122923  0.147005   \n",
       "r     0.83   0.73426  21.196147   801.129885  28.153344  0.102802  0.113147   \n",
       "i     0.80   0.70960  20.477003  1155.779694  27.862640  0.078654  0.084170   \n",
       "z     0.78   0.69316  19.599676  1756.888043  27.465877  0.054578  0.057029   \n",
       "y     0.76   0.67672  18.610310  2339.099387  26.672735  0.026288  0.030525   \n",
       "\n",
       "       kAtm     gamma         Cm  dCm_infinity  dCm_double         m5  \\\n",
       "u  0.506787  0.038116  22.975999      0.664225    0.430692  23.681847   \n",
       "g  0.194250  0.038723  24.414911      0.182927    0.097007  24.805485   \n",
       "r  0.104107  0.038981  24.453421      0.098004    0.048766  24.366544   \n",
       "i  0.073597  0.039095  24.353507      0.069912    0.033637  23.947028   \n",
       "z  0.047706  0.039230  24.193119      0.047092    0.021779  23.375466   \n",
       "y  0.162243  0.039307  23.751802      0.035789    0.016034  22.467668   \n",
       "\n",
       "   sourceCounts  m5_fid  m5_min  \n",
       "u    530.880050    23.9    23.4  \n",
       "g    783.243503    25.0    24.6  \n",
       "r    981.388871    24.7    24.3  \n",
       "i   1105.009312    24.0    23.6  \n",
       "z   1298.032719    23.3    22.9  \n",
       "y   1442.606425    22.1    21.7  "
      ]
     },
     "execution_count": 14,
     "metadata": {},
     "output_type": "execute_result"
    }
   ],
   "source": [
    "master_m5"
   ]
  },
  {
   "cell_type": "code",
   "execution_count": 15,
   "metadata": {},
   "outputs": [
    {
     "name": "stdout",
     "output_type": "stream",
     "text": [
      "Resulting changes in m5 (positive = fainter)\n"
     ]
    },
    {
     "data": {
      "text/html": [
       "<div>\n",
       "<style>\n",
       "    .dataframe thead tr:only-child th {\n",
       "        text-align: right;\n",
       "    }\n",
       "\n",
       "    .dataframe thead th {\n",
       "        text-align: left;\n",
       "    }\n",
       "\n",
       "    .dataframe tbody tr th {\n",
       "        vertical-align: top;\n",
       "    }\n",
       "</style>\n",
       "<table border=\"1\" class=\"dataframe\">\n",
       "  <thead>\n",
       "    <tr style=\"text-align: right;\">\n",
       "      <th></th>\n",
       "      <th>Delta m5</th>\n",
       "    </tr>\n",
       "  </thead>\n",
       "  <tbody>\n",
       "    <tr>\n",
       "      <th>u</th>\n",
       "      <td>0.167390</td>\n",
       "    </tr>\n",
       "    <tr>\n",
       "      <th>g</th>\n",
       "      <td>0.034831</td>\n",
       "    </tr>\n",
       "    <tr>\n",
       "      <th>r</th>\n",
       "      <td>0.014311</td>\n",
       "    </tr>\n",
       "    <tr>\n",
       "      <th>i</th>\n",
       "      <td>0.009746</td>\n",
       "    </tr>\n",
       "    <tr>\n",
       "      <th>z</th>\n",
       "      <td>0.008660</td>\n",
       "    </tr>\n",
       "    <tr>\n",
       "      <th>y</th>\n",
       "      <td>0.007937</td>\n",
       "    </tr>\n",
       "  </tbody>\n",
       "</table>\n",
       "</div>"
      ],
      "text/plain": [
       "   Delta m5\n",
       "u  0.167390\n",
       "g  0.034831\n",
       "r  0.014311\n",
       "i  0.009746\n",
       "z  0.008660\n",
       "y  0.007937"
      ]
     },
     "execution_count": 15,
     "metadata": {},
     "output_type": "execute_result"
    }
   ],
   "source": [
    "print(\"Resulting changes in m5 (positive = fainter)\")\n",
    "pd.DataFrame((update_m5.m5 - master_m5.m5).values, index=update_m5.index, columns=['Delta m5'])"
   ]
  },
  {
   "cell_type": "code",
   "execution_count": 16,
   "metadata": {},
   "outputs": [],
   "source": [
    "# When all done - remove the git clone.\n",
    "shutil.rmtree(masterdir)"
   ]
  },
  {
   "cell_type": "code",
   "execution_count": null,
   "metadata": {},
   "outputs": [],
   "source": []
  }
 ],
 "metadata": {
  "kernelspec": {
   "display_name": "Python 3",
   "language": "python",
   "name": "python3"
  },
  "language_info": {
   "codemirror_mode": {
    "name": "ipython",
    "version": 3
   },
   "file_extension": ".py",
   "mimetype": "text/x-python",
   "name": "python",
   "nbconvert_exporter": "python",
   "pygments_lexer": "ipython3",
   "version": "3.6.2"
  }
 },
 "nbformat": 4,
 "nbformat_minor": 2
}
