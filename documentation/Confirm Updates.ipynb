{
 "cells": [
  {
   "cell_type": "markdown",
   "metadata": {},
   "source": [
    "This notebook will check the contents of the syseng_throughputs directories on disk, compared to main.  \n",
    "Assuming you've already run the appropriate updates, this will show the difference between the current branch and main.  (this notebook uses the terminology that \"main\" == the github main branch, and so is the 'old' version). "
   ]
  },
  {
   "cell_type": "code",
   "execution_count": 1,
   "metadata": {},
   "outputs": [],
   "source": [
    "import os\n",
    "import numpy as np\n",
    "import pandas as pd\n",
    "import matplotlib.pyplot as plt\n",
    "\n",
    "# Import syseng_throughputs classes. \n",
    "import syseng_throughputs as st\n",
    "from rubin_sim.phot_utils import Bandpass"
   ]
  },
  {
   "cell_type": "code",
   "execution_count": 2,
   "metadata": {},
   "outputs": [],
   "source": [
    "# Set the directory of the \"updated\" files .. this is the same as this syseng_throughputs repository.\n",
    "updatedir = os.path.normpath(os.path.join(os.getcwd(), '..'))"
   ]
  },
  {
   "cell_type": "code",
   "execution_count": 3,
   "metadata": {},
   "outputs": [
    {
     "name": "stderr",
     "output_type": "stream",
     "text": [
      "Cloning into 'syseng_main'...\n"
     ]
    },
    {
     "data": {
      "text/plain": [
       "CompletedProcess(args=['git', 'clone', 'https://github.com/lsst-pst/syseng_throughputs.git', 'syseng_main'], returncode=0)"
      ]
     },
     "execution_count": 3,
     "metadata": {},
     "output_type": "execute_result"
    }
   ],
   "source": [
    "# Check out \"master\" (from github) into a new directory, so we can compare. \n",
    "import shutil\n",
    "import subprocess\n",
    "\n",
    "maindir = 'syseng_main'\n",
    "# Remove previous copy of this directory, if it exists.\n",
    "try:\n",
    "    shutil.rmtree(maindir)\n",
    "except OSError:\n",
    "    pass\n",
    "gitcommand = 'git clone https://github.com/lsst-pst/syseng_throughputs.git %s' % maindir\n",
    "subprocess.run(args=gitcommand.split(), check=True)"
   ]
  },
  {
   "cell_type": "code",
   "execution_count": 4,
   "metadata": {},
   "outputs": [
    {
     "name": "stdout",
     "output_type": "stream",
     "text": [
      "main dir: syseng_main \n",
      "update dir: /Users/lynnej/lsst_repos/syseng_throughputs\n"
     ]
    }
   ],
   "source": [
    "# Look for any differences in the component files. You can also do this at the command line with 'git status'.\n",
    "# First build the lists of components (master and update) and their locations.\n",
    "print(\"main dir: %s \\nupdate dir: %s\" % (maindir, updatedir))\n",
    "m_componentNames = []\n",
    "mainfiles = []\n",
    "for root, dirs, files in os.walk(os.path.join(maindir, 'components')):\n",
    "    for f in files:\n",
    "        mainfiles.append(os.path.join(root, f))\n",
    "        m_componentNames.append(f)\n",
    "u_componentNames = []\n",
    "updatefiles = []\n",
    "for root, dirs, files in os.walk(os.path.join(updatedir, 'components')):\n",
    "    for f in files:\n",
    "        updatefiles.append(os.path.join(root, f))\n",
    "        u_componentNames.append(f)"
   ]
  },
  {
   "cell_type": "code",
   "execution_count": 5,
   "metadata": {},
   "outputs": [
    {
     "name": "stdout",
     "output_type": "stream",
     "text": [
      "Master and update components are the same.\n"
     ]
    }
   ],
   "source": [
    "# Check if there are any new components.\n",
    "if set(m_componentNames) == set(u_componentNames):\n",
    "    print(\"Master and update components are the same.\")\n",
    "else:\n",
    "    for u in u_componentNames:\n",
    "        if u not in m_componentNames:\n",
    "            print('New component (in updates)? %s' % u)\n",
    "    for m in m_componentNames:\n",
    "        if m not in u_componentNames:\n",
    "            print('Deleted component (in main)? %s' % m)"
   ]
  },
  {
   "cell_type": "code",
   "execution_count": 6,
   "metadata": {},
   "outputs": [
    {
     "name": "stderr",
     "output_type": "stream",
     "text": [
      "/Users/lynnej/lsst_repos/rubin_sim/rubin_sim/phot_utils/bandpass.py:82: UserWarning: Wavelength sampling of 800.0 nm is > 0.2 nm, this may not work well with a Sed object. Consider resampling with resample_bandpass method.\n",
      "  warnings.warn(\n",
      "/Users/lynnej/lsst_repos/rubin_sim/rubin_sim/phot_utils/bandpass.py:82: UserWarning: Wavelength sampling of 1.0 nm is > 0.2 nm, this may not work well with a Sed object. Consider resampling with resample_bandpass method.\n",
      "  warnings.warn(\n"
     ]
    }
   ],
   "source": [
    "# Look for any differences in the actual files. \n",
    "diff_components = []\n",
    "for component in set(u_componentNames).intersection(set(m_componentNames)):\n",
    "    m_idx = m_componentNames.index(component)\n",
    "    u_idx = u_componentNames.index(component)\n",
    "    m_comp = Bandpass()\n",
    "    m_comp.read_throughput(mainfiles[m_idx])\n",
    "    u_comp = Bandpass()\n",
    "    u_comp.read_throughput(updatefiles[u_idx])\n",
    "    try:\n",
    "        if np.any(m_comp.wavelen != u_comp.wavelen):\n",
    "            print('Difference in wavelength values for %s' % component)\n",
    "            diff_components.append(component)\n",
    "        if np.any(m_comp.sb != u_comp.sb):\n",
    "            print('Difference in transmission values for %s' % component)\n",
    "            diff_components.append(component)\n",
    "    except ValueError:\n",
    "        diff_components.append(component)"
   ]
  },
  {
   "cell_type": "code",
   "execution_count": 7,
   "metadata": {},
   "outputs": [
    {
     "name": "stdout",
     "output_type": "stream",
     "text": [
      "['m2_ProtAg_6deg.dat', 'm2_Losses.dat', 'm3_ProtAg_6deg.dat', 'm3_Losses.dat', 'm1_ProtAg_6deg.dat', 'm1_Losses.dat', 'r_band_Response.dat', 'i_band_Response.dat', 'u_band_Response.dat', 'y_band_Response.dat', 'g_band_Response.dat', 'z_band_Response.dat', 'filter_S2_Condensation.dat', 'filter_S2_Contamination.dat', 'filter_S1_Condensation.dat', 'filter_S1_Contamination.dat', 'l1_Glass.dat', 'l1_S2_Condensation.dat', 'l1_S2_Contamination.dat', 'l1_S1_Condensation.dat', 'l1_S1_Contamination.dat', 'L1_BBAR.dat', 'minDet_QE.dat', 'det_Losses.dat', 'e2v_QE.dat', 'det_Losses.dat', 'itl_QE.dat', 'det_Losses.dat', 'l2_Glass.dat', 'l2_S1_Contamination.dat', 'l2_S2_Condensation.dat', 'l2_S2_Contamination.dat', 'l2_S1_Condensation.dat', 'l2_BBAR.dat', 'l3_Glass.dat', 'l3_S2_Contamination.dat', 'l3_S2_Condensation.dat', 'l3_S1_Contamination.dat', 'l3_S1_Condensation.dat', 'L3_BBAR.dat']\n",
      "['m2_ProtAg_6deg.dat', 'm2_Losses.dat', 'm3_ProtAg_6deg.dat', 'm3_Losses.dat', 'm1_ProtAg_6deg.dat', 'm1_Losses.dat', 'r_band_Response.dat', 'i_band_Response.dat', 'u_band_Response.dat', 'y_band_Response.dat', 'g_band_Response.dat', 'z_band_Response.dat', 'filter_S2_Condensation.dat', 'filter_S2_Contamination.dat', 'filter_S1_Condensation.dat', 'filter_S1_Contamination.dat', 'l1_Glass.dat', 'l1_S2_Condensation.dat', 'l1_S2_Contamination.dat', 'l1_S1_Condensation.dat', 'l1_S1_Contamination.dat', 'L1_BBAR.dat', 'minDet_QE.dat', 'det_Losses.dat', 'e2v_QE.dat', 'det_Losses.dat', 'itl_QE.dat', 'det_Losses.dat', 'l2_Glass.dat', 'l2_S1_Contamination.dat', 'l2_S2_Condensation.dat', 'l2_S2_Contamination.dat', 'l2_S1_Condensation.dat', 'l2_BBAR.dat', 'l3_Glass.dat', 'l3_S2_Contamination.dat', 'l3_S2_Condensation.dat', 'l3_S1_Contamination.dat', 'l3_S1_Condensation.dat', 'L3_BBAR.dat']\n"
     ]
    }
   ],
   "source": [
    "print(u_componentNames)\n",
    "print(m_componentNames)"
   ]
  },
  {
   "cell_type": "code",
   "execution_count": 8,
   "metadata": {},
   "outputs": [],
   "source": [
    "# Plot components with a change. \n",
    "for component in set(diff_components):\n",
    "    plt.figure(figsize=(8, 5))\n",
    "    m_idx = m_componentNames.index(component)\n",
    "    u_idx = u_componentNames.index(component)\n",
    "    m_comp = Bandpass()\n",
    "    m_comp.read_throughput(mainfiles[m_idx])\n",
    "    u_comp = Bandpass()\n",
    "    u_comp.read_throughput(updatefiles[u_idx])\n",
    "    plt.plot(m_comp.wavelen, m_comp.sb, color='red', linestyle=':', linewidth=2, label='Main')\n",
    "    plt.plot(u_comp.wavelen, u_comp.sb, color='blue', linestyle='-', label='Update')\n",
    "    plt.legend(loc=(0.95, 0.5), fancybox=True)\n",
    "    plt.xlabel('Wavelength (nm)')\n",
    "    plt.ylabel('Transmission')\n",
    "    plt.title('%s' % component)"
   ]
  },
  {
   "cell_type": "code",
   "execution_count": 11,
   "metadata": {},
   "outputs": [],
   "source": [
    "# Plot non-matching components .. set by hand\n",
    "# only relevant for the stage where we moved from Al-Ag-Al to Ag-Ag-Ag.\n",
    "if 'm1_ProtAl_6deg.dat' in set(diff_components):\n",
    "    for u, m in zip(['m1_ProtAg_6deg.dat', 'm2_ProtAg_6deg.dat', 'm3_ProtAg_6deg.dat'],\n",
    "                    ['m1_ProtAl_6deg.dat', 'm2_ProtAg_6deg.dat', 'm3_ProtAl_6deg.dat']):\n",
    "        m_idx = m_componentNames.index(m)\n",
    "        u_idx = u_componentNames.index(u)\n",
    "        m_comp = Bandpass()\n",
    "        m_comp.read_throughput(mainfiles[m_idx])\n",
    "        u_comp = Bandpass()\n",
    "        u_comp.read_throughput(updatefiles[u_idx])\n",
    "        plt.plot(m_comp.wavelen, m_comp.sb, linestyle=':', linewidth=2, label=f'Main {m}')\n",
    "        plt.plot(u_comp.wavelen, u_comp.sb, linestyle='-', label=f'Update {u}')\n",
    "    plt.legend(loc=(0.95, 0.5), fancybox=True)\n",
    "    plt.xlim(200, 1200)\n",
    "    plt.xlabel('Wavelength (nm)')\n",
    "    plt.ylabel('Transmission')"
   ]
  },
  {
   "cell_type": "code",
   "execution_count": 12,
   "metadata": {},
   "outputs": [
    {
     "name": "stdout",
     "output_type": "stream",
     "text": [
      "filter reference update\n",
      "u 0.86453 0.86453\n",
      "g 0.97945 0.97945\n",
      "r 0.97253 0.97253\n",
      "i 0.98812 0.98812\n",
      "z 0.9986 0.9986\n",
      "y 0.99381 0.99381\n"
     ]
    }
   ],
   "source": [
    "print('filter reference update')\n",
    "for f in 'ugrizy':\n",
    "    m_idx = m_componentNames.index(f'{f}_band_Response.dat')\n",
    "    u_idx = u_componentNames.index(f'{f}_band_Response.dat')\n",
    "    m_comp = Bandpass()\n",
    "    m_comp.read_throughput(mainfiles[m_idx])\n",
    "    u_comp = Bandpass()\n",
    "    u_comp.read_throughput(updatefiles[u_idx])    \n",
    "    print(f, m_comp.sb.max(), u_comp.sb.max())"
   ]
  },
  {
   "cell_type": "code",
   "execution_count": 14,
   "metadata": {},
   "outputs": [
    {
     "name": "stdout",
     "output_type": "stream",
     "text": [
      "dict_keys(['detector', 'lens1', 'lens2', 'lens3', 'filters', 'mirror1', 'mirror2', 'mirror3', 'atmosphere'])\n",
      "Update directories (e.g.): /Users/lynnej/lsst_repos/syseng_throughputs/components/camera/detector/joint_minimum\n",
      "Main directories (e.g.): syseng_main/components/camera/detector/joint_minimum\n"
     ]
    }
   ],
   "source": [
    "# Now read everything and make some plots as well as compute m5 values.\n",
    "# Set the default directories for the updated curves as well as the master curves. \n",
    "updateDirs = st.setDefaultDirs(rootDir=updatedir)\n",
    "mainDirs = st.setDefaultDirs(rootDir=maindir)\n",
    "\n",
    "print(updateDirs.keys())\n",
    "print(\"Update directories (e.g.):\", updateDirs['detector'])\n",
    "print(\"Main directories (e.g.):\", mainDirs['detector'])"
   ]
  },
  {
   "cell_type": "code",
   "execution_count": 15,
   "metadata": {},
   "outputs": [],
   "source": [
    "# Read the combined default components. (note this uses the joint_minimum detector)\n",
    "# Hardware = telescope + camera only. System = also with atmosphere.\n",
    "update_hardware, update_system = st.buildHardwareAndSystem(updateDirs, addLosses=True)\n",
    "main_hardware, main_system = st.buildHardwareAndSystem(mainDirs, addLosses=True)"
   ]
  },
  {
   "cell_type": "code",
   "execution_count": 16,
   "metadata": {
    "scrolled": true
   },
   "outputs": [
    {
     "data": {
      "image/png": "[encoded data removed]",
      "text/plain": [
       "<Figure size 800x500 with 1 Axes>"
      ]
     },
     "metadata": {},
     "output_type": "display_data"
    }
   ],
   "source": [
    "# Plot all of the components: everything\n",
    "plt.figure(figsize=(8, 5))\n",
    "st.plotBandpasses(update_system, newfig=False, addlegend=False)\n",
    "st.plotBandpasses(main_system, linestyle=':', newfig=False, addlegend=True)"
   ]
  },
  {
   "cell_type": "code",
   "execution_count": 17,
   "metadata": {},
   "outputs": [
    {
     "data": {
      "image/png": "[encoded data removed]",
      "text/plain": [
       "<Figure size 800x500 with 1 Axes>"
      ]
     },
     "metadata": {},
     "output_type": "display_data"
    }
   ],
   "source": [
    "# Plot all of the components. Just the hardware\n",
    "plt.figure(figsize=(8, 5))\n",
    "st.plotBandpasses(update_hardware, newfig=False, addlegend=False)\n",
    "st.plotBandpasses(main_hardware, linestyle=':', newfig=False, addlegend=True)"
   ]
  },
  {
   "cell_type": "code",
   "execution_count": 18,
   "metadata": {},
   "outputs": [],
   "source": [
    "# Compare m5 values before/after the update.\n",
    "update_m5 = st.makeM5(update_hardware, update_system, darksky=None, \n",
    "                     readnoise=8.8, othernoise=0, darkcurrent=0.2,\n",
    "                      effarea=np.pi*(6.423/2*100)**2, X=1.0, fwhm500=0.72)\n",
    "main_m5 = st.makeM5(main_hardware, main_system, darksky=None, \n",
    "                    readnoise=8.8, othernoise=0, darkcurrent=0.2,\n",
    "                      effarea=np.pi*(6.423/2*100)**2, X=1.0, fwhm500=0.72)"
   ]
  },
  {
   "cell_type": "code",
   "execution_count": 19,
   "metadata": {},
   "outputs": [
    {
     "data": {
      "text/html": [
       "<div>\n",
       "<style scoped>\n",
       "    .dataframe tbody tr th:only-of-type {\n",
       "        vertical-align: middle;\n",
       "    }\n",
       "\n",
       "    .dataframe tbody tr th {\n",
       "        vertical-align: top;\n",
       "    }\n",
       "\n",
       "    .dataframe thead th {\n",
       "        text-align: right;\n",
       "    }\n",
       "</style>\n",
       "<table border=\"1\" class=\"dataframe\">\n",
       "  <thead>\n",
       "    <tr style=\"text-align: right;\">\n",
       "      <th></th>\n",
       "      <th>nexp</th>\n",
       "      <th>exptime</th>\n",
       "      <th>FWHMeff</th>\n",
       "      <th>FWHMgeom</th>\n",
       "      <th>skyMag</th>\n",
       "      <th>skyCounts</th>\n",
       "      <th>Zp_t</th>\n",
       "      <th>Tb</th>\n",
       "      <th>Sb</th>\n",
       "      <th>kAtm</th>\n",
       "      <th>gamma</th>\n",
       "      <th>Cm</th>\n",
       "      <th>dCm_infinity</th>\n",
       "      <th>dCm_double</th>\n",
       "      <th>m5</th>\n",
       "      <th>sourceCounts</th>\n",
       "      <th>m5_fid</th>\n",
       "      <th>m5_min</th>\n",
       "    </tr>\n",
       "  </thead>\n",
       "  <tbody>\n",
       "    <tr>\n",
       "      <th>u</th>\n",
       "      <td>1.0</td>\n",
       "      <td>30.0</td>\n",
       "      <td>1.039050</td>\n",
       "      <td>0.906099</td>\n",
       "      <td>23.051983</td>\n",
       "      <td>45.303229</td>\n",
       "      <td>26.431136</td>\n",
       "      <td>0.021044</td>\n",
       "      <td>0.035351</td>\n",
       "      <td>0.563217</td>\n",
       "      <td>0.037809</td>\n",
       "      <td>22.878537</td>\n",
       "      <td>0.546032</td>\n",
       "      <td>0.347099</td>\n",
       "      <td>23.475682</td>\n",
       "      <td>456.354840</td>\n",
       "      <td>23.9</td>\n",
       "      <td>23.4</td>\n",
       "    </tr>\n",
       "    <tr>\n",
       "      <th>g</th>\n",
       "      <td>2.0</td>\n",
       "      <td>15.0</td>\n",
       "      <td>0.978073</td>\n",
       "      <td>0.855976</td>\n",
       "      <td>22.253839</td>\n",
       "      <td>463.634122</td>\n",
       "      <td>28.466167</td>\n",
       "      <td>0.137129</td>\n",
       "      <td>0.173458</td>\n",
       "      <td>0.255157</td>\n",
       "      <td>0.038928</td>\n",
       "      <td>24.471199</td>\n",
       "      <td>0.159339</td>\n",
       "      <td>0.083862</td>\n",
       "      <td>24.734935</td>\n",
       "      <td>932.425140</td>\n",
       "      <td>25.0</td>\n",
       "      <td>24.6</td>\n",
       "    </tr>\n",
       "    <tr>\n",
       "      <th>r</th>\n",
       "      <td>2.0</td>\n",
       "      <td>15.0</td>\n",
       "      <td>0.922016</td>\n",
       "      <td>0.809897</td>\n",
       "      <td>21.197579</td>\n",
       "      <td>988.626863</td>\n",
       "      <td>28.336068</td>\n",
       "      <td>0.121644</td>\n",
       "      <td>0.139813</td>\n",
       "      <td>0.151139</td>\n",
       "      <td>0.039159</td>\n",
       "      <td>24.541236</td>\n",
       "      <td>0.080946</td>\n",
       "      <td>0.039994</td>\n",
       "      <td>24.340924</td>\n",
       "      <td>1188.991566</td>\n",
       "      <td>24.7</td>\n",
       "      <td>24.3</td>\n",
       "    </tr>\n",
       "    <tr>\n",
       "      <th>i</th>\n",
       "      <td>2.0</td>\n",
       "      <td>15.0</td>\n",
       "      <td>0.883147</td>\n",
       "      <td>0.777947</td>\n",
       "      <td>20.462795</td>\n",
       "      <td>1588.280513</td>\n",
       "      <td>28.155805</td>\n",
       "      <td>0.103035</td>\n",
       "      <td>0.114164</td>\n",
       "      <td>0.111356</td>\n",
       "      <td>0.039287</td>\n",
       "      <td>24.502239</td>\n",
       "      <td>0.051896</td>\n",
       "      <td>0.024611</td>\n",
       "      <td>23.981300</td>\n",
       "      <td>1402.565613</td>\n",
       "      <td>24.0</td>\n",
       "      <td>23.6</td>\n",
       "    </tr>\n",
       "    <tr>\n",
       "      <th>z</th>\n",
       "      <td>2.0</td>\n",
       "      <td>15.0</td>\n",
       "      <td>0.857254</td>\n",
       "      <td>0.756663</td>\n",
       "      <td>19.606305</td>\n",
       "      <td>2381.945498</td>\n",
       "      <td>27.770116</td>\n",
       "      <td>0.072229</td>\n",
       "      <td>0.077792</td>\n",
       "      <td>0.080565</td>\n",
       "      <td>0.039390</td>\n",
       "      <td>24.343109</td>\n",
       "      <td>0.035204</td>\n",
       "      <td>0.016063</td>\n",
       "      <td>23.426233</td>\n",
       "      <td>1639.361557</td>\n",
       "      <td>23.3</td>\n",
       "      <td>22.9</td>\n",
       "    </tr>\n",
       "    <tr>\n",
       "      <th>y</th>\n",
       "      <td>2.0</td>\n",
       "      <td>15.0</td>\n",
       "      <td>0.836460</td>\n",
       "      <td>0.739570</td>\n",
       "      <td>18.601512</td>\n",
       "      <td>2717.111941</td>\n",
       "      <td>26.795413</td>\n",
       "      <td>0.029433</td>\n",
       "      <td>0.035172</td>\n",
       "      <td>0.193414</td>\n",
       "      <td>0.039412</td>\n",
       "      <td>23.803892</td>\n",
       "      <td>0.030993</td>\n",
       "      <td>0.013910</td>\n",
       "      <td>22.411280</td>\n",
       "      <td>1701.275111</td>\n",
       "      <td>22.1</td>\n",
       "      <td>21.7</td>\n",
       "    </tr>\n",
       "  </tbody>\n",
       "</table>\n",
       "</div>"
      ],
      "text/plain": [
       "   nexp  exptime   FWHMeff  FWHMgeom     skyMag    skyCounts       Zp_t  \\\n",
       "u   1.0     30.0  1.039050  0.906099  23.051983    45.303229  26.431136   \n",
       "g   2.0     15.0  0.978073  0.855976  22.253839   463.634122  28.466167   \n",
       "r   2.0     15.0  0.922016  0.809897  21.197579   988.626863  28.336068   \n",
       "i   2.0     15.0  0.883147  0.777947  20.462795  1588.280513  28.155805   \n",
       "z   2.0     15.0  0.857254  0.756663  19.606305  2381.945498  27.770116   \n",
       "y   2.0     15.0  0.836460  0.739570  18.601512  2717.111941  26.795413   \n",
       "\n",
       "         Tb        Sb      kAtm     gamma         Cm  dCm_infinity  \\\n",
       "u  0.021044  0.035351  0.563217  0.037809  22.878537      0.546032   \n",
       "g  0.137129  0.173458  0.255157  0.038928  24.471199      0.159339   \n",
       "r  0.121644  0.139813  0.151139  0.039159  24.541236      0.080946   \n",
       "i  0.103035  0.114164  0.111356  0.039287  24.502239      0.051896   \n",
       "z  0.072229  0.077792  0.080565  0.039390  24.343109      0.035204   \n",
       "y  0.029433  0.035172  0.193414  0.039412  23.803892      0.030993   \n",
       "\n",
       "   dCm_double         m5  sourceCounts  m5_fid  m5_min  \n",
       "u    0.347099  23.475682    456.354840    23.9    23.4  \n",
       "g    0.083862  24.734935    932.425140    25.0    24.6  \n",
       "r    0.039994  24.340924   1188.991566    24.7    24.3  \n",
       "i    0.024611  23.981300   1402.565613    24.0    23.6  \n",
       "z    0.016063  23.426233   1639.361557    23.3    22.9  \n",
       "y    0.013910  22.411280   1701.275111    22.1    21.7  "
      ]
     },
     "execution_count": 19,
     "metadata": {},
     "output_type": "execute_result"
    }
   ],
   "source": [
    "update_m5"
   ]
  },
  {
   "cell_type": "code",
   "execution_count": 20,
   "metadata": {},
   "outputs": [
    {
     "data": {
      "text/html": [
       "<div>\n",
       "<style scoped>\n",
       "    .dataframe tbody tr th:only-of-type {\n",
       "        vertical-align: middle;\n",
       "    }\n",
       "\n",
       "    .dataframe tbody tr th {\n",
       "        vertical-align: top;\n",
       "    }\n",
       "\n",
       "    .dataframe thead th {\n",
       "        text-align: right;\n",
       "    }\n",
       "</style>\n",
       "<table border=\"1\" class=\"dataframe\">\n",
       "  <thead>\n",
       "    <tr style=\"text-align: right;\">\n",
       "      <th></th>\n",
       "      <th>nexp</th>\n",
       "      <th>exptime</th>\n",
       "      <th>FWHMeff</th>\n",
       "      <th>FWHMgeom</th>\n",
       "      <th>skyMag</th>\n",
       "      <th>skyCounts</th>\n",
       "      <th>Zp_t</th>\n",
       "      <th>Tb</th>\n",
       "      <th>Sb</th>\n",
       "      <th>kAtm</th>\n",
       "      <th>gamma</th>\n",
       "      <th>Cm</th>\n",
       "      <th>dCm_infinity</th>\n",
       "      <th>dCm_double</th>\n",
       "      <th>m5</th>\n",
       "      <th>sourceCounts</th>\n",
       "      <th>m5_fid</th>\n",
       "      <th>m5_min</th>\n",
       "    </tr>\n",
       "  </thead>\n",
       "  <tbody>\n",
       "    <tr>\n",
       "      <th>u</th>\n",
       "      <td>1.0</td>\n",
       "      <td>30.0</td>\n",
       "      <td>1.039050</td>\n",
       "      <td>0.906099</td>\n",
       "      <td>23.051983</td>\n",
       "      <td>45.303229</td>\n",
       "      <td>26.431136</td>\n",
       "      <td>0.021044</td>\n",
       "      <td>0.035351</td>\n",
       "      <td>0.563217</td>\n",
       "      <td>0.037809</td>\n",
       "      <td>22.878537</td>\n",
       "      <td>0.546032</td>\n",
       "      <td>0.347099</td>\n",
       "      <td>23.475682</td>\n",
       "      <td>456.354840</td>\n",
       "      <td>23.9</td>\n",
       "      <td>23.4</td>\n",
       "    </tr>\n",
       "    <tr>\n",
       "      <th>g</th>\n",
       "      <td>2.0</td>\n",
       "      <td>15.0</td>\n",
       "      <td>0.978073</td>\n",
       "      <td>0.855976</td>\n",
       "      <td>22.253839</td>\n",
       "      <td>463.634122</td>\n",
       "      <td>28.466167</td>\n",
       "      <td>0.137129</td>\n",
       "      <td>0.173458</td>\n",
       "      <td>0.255157</td>\n",
       "      <td>0.038928</td>\n",
       "      <td>24.471199</td>\n",
       "      <td>0.159339</td>\n",
       "      <td>0.083862</td>\n",
       "      <td>24.734935</td>\n",
       "      <td>932.425140</td>\n",
       "      <td>25.0</td>\n",
       "      <td>24.6</td>\n",
       "    </tr>\n",
       "    <tr>\n",
       "      <th>r</th>\n",
       "      <td>2.0</td>\n",
       "      <td>15.0</td>\n",
       "      <td>0.922016</td>\n",
       "      <td>0.809897</td>\n",
       "      <td>21.197579</td>\n",
       "      <td>988.626863</td>\n",
       "      <td>28.336068</td>\n",
       "      <td>0.121644</td>\n",
       "      <td>0.139813</td>\n",
       "      <td>0.151139</td>\n",
       "      <td>0.039159</td>\n",
       "      <td>24.541236</td>\n",
       "      <td>0.080946</td>\n",
       "      <td>0.039994</td>\n",
       "      <td>24.340924</td>\n",
       "      <td>1188.991566</td>\n",
       "      <td>24.7</td>\n",
       "      <td>24.3</td>\n",
       "    </tr>\n",
       "    <tr>\n",
       "      <th>i</th>\n",
       "      <td>2.0</td>\n",
       "      <td>15.0</td>\n",
       "      <td>0.883147</td>\n",
       "      <td>0.777947</td>\n",
       "      <td>20.462795</td>\n",
       "      <td>1588.280513</td>\n",
       "      <td>28.155805</td>\n",
       "      <td>0.103035</td>\n",
       "      <td>0.114164</td>\n",
       "      <td>0.111356</td>\n",
       "      <td>0.039287</td>\n",
       "      <td>24.502239</td>\n",
       "      <td>0.051896</td>\n",
       "      <td>0.024611</td>\n",
       "      <td>23.981300</td>\n",
       "      <td>1402.565613</td>\n",
       "      <td>24.0</td>\n",
       "      <td>23.6</td>\n",
       "    </tr>\n",
       "    <tr>\n",
       "      <th>z</th>\n",
       "      <td>2.0</td>\n",
       "      <td>15.0</td>\n",
       "      <td>0.857254</td>\n",
       "      <td>0.756663</td>\n",
       "      <td>19.606305</td>\n",
       "      <td>2381.945498</td>\n",
       "      <td>27.770116</td>\n",
       "      <td>0.072229</td>\n",
       "      <td>0.077792</td>\n",
       "      <td>0.080565</td>\n",
       "      <td>0.039390</td>\n",
       "      <td>24.343109</td>\n",
       "      <td>0.035204</td>\n",
       "      <td>0.016063</td>\n",
       "      <td>23.426233</td>\n",
       "      <td>1639.361557</td>\n",
       "      <td>23.3</td>\n",
       "      <td>22.9</td>\n",
       "    </tr>\n",
       "    <tr>\n",
       "      <th>y</th>\n",
       "      <td>2.0</td>\n",
       "      <td>15.0</td>\n",
       "      <td>0.836460</td>\n",
       "      <td>0.739570</td>\n",
       "      <td>18.601512</td>\n",
       "      <td>2717.111941</td>\n",
       "      <td>26.795413</td>\n",
       "      <td>0.029433</td>\n",
       "      <td>0.035172</td>\n",
       "      <td>0.193414</td>\n",
       "      <td>0.039412</td>\n",
       "      <td>23.803892</td>\n",
       "      <td>0.030993</td>\n",
       "      <td>0.013910</td>\n",
       "      <td>22.411280</td>\n",
       "      <td>1701.275111</td>\n",
       "      <td>22.1</td>\n",
       "      <td>21.7</td>\n",
       "    </tr>\n",
       "  </tbody>\n",
       "</table>\n",
       "</div>"
      ],
      "text/plain": [
       "   nexp  exptime   FWHMeff  FWHMgeom     skyMag    skyCounts       Zp_t  \\\n",
       "u   1.0     30.0  1.039050  0.906099  23.051983    45.303229  26.431136   \n",
       "g   2.0     15.0  0.978073  0.855976  22.253839   463.634122  28.466167   \n",
       "r   2.0     15.0  0.922016  0.809897  21.197579   988.626863  28.336068   \n",
       "i   2.0     15.0  0.883147  0.777947  20.462795  1588.280513  28.155805   \n",
       "z   2.0     15.0  0.857254  0.756663  19.606305  2381.945498  27.770116   \n",
       "y   2.0     15.0  0.836460  0.739570  18.601512  2717.111941  26.795413   \n",
       "\n",
       "         Tb        Sb      kAtm     gamma         Cm  dCm_infinity  \\\n",
       "u  0.021044  0.035351  0.563217  0.037809  22.878537      0.546032   \n",
       "g  0.137129  0.173458  0.255157  0.038928  24.471199      0.159339   \n",
       "r  0.121644  0.139813  0.151139  0.039159  24.541236      0.080946   \n",
       "i  0.103035  0.114164  0.111356  0.039287  24.502239      0.051896   \n",
       "z  0.072229  0.077792  0.080565  0.039390  24.343109      0.035204   \n",
       "y  0.029433  0.035172  0.193414  0.039412  23.803892      0.030993   \n",
       "\n",
       "   dCm_double         m5  sourceCounts  m5_fid  m5_min  \n",
       "u    0.347099  23.475682    456.354840    23.9    23.4  \n",
       "g    0.083862  24.734935    932.425140    25.0    24.6  \n",
       "r    0.039994  24.340924   1188.991566    24.7    24.3  \n",
       "i    0.024611  23.981300   1402.565613    24.0    23.6  \n",
       "z    0.016063  23.426233   1639.361557    23.3    22.9  \n",
       "y    0.013910  22.411280   1701.275111    22.1    21.7  "
      ]
     },
     "execution_count": 20,
     "metadata": {},
     "output_type": "execute_result"
    }
   ],
   "source": [
    "main_m5"
   ]
  },
  {
   "cell_type": "code",
   "execution_count": 21,
   "metadata": {},
   "outputs": [
    {
     "name": "stdout",
     "output_type": "stream",
     "text": [
      "Resulting changes in m5 (positive = fainter)\n"
     ]
    },
    {
     "data": {
      "text/html": [
       "<div>\n",
       "<style scoped>\n",
       "    .dataframe tbody tr th:only-of-type {\n",
       "        vertical-align: middle;\n",
       "    }\n",
       "\n",
       "    .dataframe tbody tr th {\n",
       "        vertical-align: top;\n",
       "    }\n",
       "\n",
       "    .dataframe thead th {\n",
       "        text-align: right;\n",
       "    }\n",
       "</style>\n",
       "<table border=\"1\" class=\"dataframe\">\n",
       "  <thead>\n",
       "    <tr style=\"text-align: right;\">\n",
       "      <th></th>\n",
       "      <th>Delta m5</th>\n",
       "    </tr>\n",
       "  </thead>\n",
       "  <tbody>\n",
       "    <tr>\n",
       "      <th>u</th>\n",
       "      <td>0.0</td>\n",
       "    </tr>\n",
       "    <tr>\n",
       "      <th>g</th>\n",
       "      <td>0.0</td>\n",
       "    </tr>\n",
       "    <tr>\n",
       "      <th>r</th>\n",
       "      <td>0.0</td>\n",
       "    </tr>\n",
       "    <tr>\n",
       "      <th>i</th>\n",
       "      <td>0.0</td>\n",
       "    </tr>\n",
       "    <tr>\n",
       "      <th>z</th>\n",
       "      <td>0.0</td>\n",
       "    </tr>\n",
       "    <tr>\n",
       "      <th>y</th>\n",
       "      <td>0.0</td>\n",
       "    </tr>\n",
       "  </tbody>\n",
       "</table>\n",
       "</div>"
      ],
      "text/plain": [
       "   Delta m5\n",
       "u       0.0\n",
       "g       0.0\n",
       "r       0.0\n",
       "i       0.0\n",
       "z       0.0\n",
       "y       0.0"
      ]
     },
     "execution_count": 21,
     "metadata": {},
     "output_type": "execute_result"
    }
   ],
   "source": [
    "print(\"Resulting changes in m5 (positive = fainter)\")\n",
    "pd.DataFrame((update_m5.m5 - main_m5.m5).values, index=update_m5.index, columns=['Delta m5'])"
   ]
  },
  {
   "cell_type": "code",
   "execution_count": 22,
   "metadata": {},
   "outputs": [],
   "source": [
    "# When all done - remove the git clone.\n",
    "shutil.rmtree(maindir)"
   ]
  },
  {
   "cell_type": "code",
   "execution_count": null,
   "metadata": {},
   "outputs": [],
   "source": []
  }
 ],
 "metadata": {
  "kernelspec": {
   "display_name": "Python 3 (ipykernel)",
   "language": "python",
   "name": "python3"
  },
  "language_info": {
   "codemirror_mode": {
    "name": "ipython",
    "version": 3
   },
   "file_extension": ".py",
   "mimetype": "text/x-python",
   "name": "python",
   "nbconvert_exporter": "python",
   "pygments_lexer": "ipython3",
   "version": "3.11.6"
  }
 },
 "nbformat": 4,
 "nbformat_minor": 4
}
