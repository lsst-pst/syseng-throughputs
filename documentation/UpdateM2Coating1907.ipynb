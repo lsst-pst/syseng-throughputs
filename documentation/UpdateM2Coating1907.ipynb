{
 "cells": [
  {
   "cell_type": "markdown",
   "metadata": {},
   "source": [
    "A notebook to update the M2 throughput, starting with the source in Docushare, Document-34984, and displaying exactly what is used and how.\n",
    "* Bo Xin updated October 2019 (data taken in July 2019, and provided by Sandrine Thomas and Tomislav Vucina)"
   ]
  },
  {
   "cell_type": "code",
   "execution_count": 1,
   "metadata": {},
   "outputs": [],
   "source": [
    "import os\n",
    "import sys\n",
    "import numpy as np\n",
    "import pandas as pd\n",
    "import matplotlib.pyplot as plt\n",
    "# this magic command makes plots appear within the notebook\n",
    "%matplotlib inline\n",
    "\n",
    "# Import bandpassUtils, without requiring or using LSST stack -- in order to get the defaultDirectory layout.\n",
    "currentdir = os.getcwd()\n",
    "syseng_python = os.path.normpath(os.path.join(currentdir, '../python/lsst/syseng/throughputs'))\n",
    "if syseng_python not in sys.path:\n",
    "    sys.path.append(syseng_python)\n",
    "from bandpassUtils import setDefaultDirs"
   ]
  },
  {
   "cell_type": "code",
   "execution_count": 2,
   "metadata": {},
   "outputs": [
    {
     "name": "stdout",
     "output_type": "stream",
     "text": [
      "detector /Users/bxin/lsst_stack/syseng_throughputs/components/camera/detector/joint_minimum\n",
      "lens1 /Users/bxin/lsst_stack/syseng_throughputs/components/camera/lens1\n",
      "lens2 /Users/bxin/lsst_stack/syseng_throughputs/components/camera/lens2\n",
      "lens3 /Users/bxin/lsst_stack/syseng_throughputs/components/camera/lens3\n",
      "filters /Users/bxin/lsst_stack/syseng_throughputs/components/camera/filters\n",
      "mirror1 /Users/bxin/lsst_stack/syseng_throughputs/components/telescope/mirror1\n",
      "mirror2 /Users/bxin/lsst_stack/syseng_throughputs/components/telescope/mirror2\n",
      "mirror3 /Users/bxin/lsst_stack/syseng_throughputs/components/telescope/mirror3\n",
      "atmosphere /Users/bxin/lsst_stack/syseng_throughputs/siteProperties\n"
     ]
    }
   ],
   "source": [
    "defaultDirs = setDefaultDirs(rootDir = os.path.normpath(os.path.join(currentdir, '..')))\n",
    "for k, v in defaultDirs.items():\n",
    "    print(k, v)"
   ]
  },
  {
   "cell_type": "code",
   "execution_count": 3,
   "metadata": {},
   "outputs": [
    {
     "data": {
      "text/html": [
       "<div>\n",
       "<style>\n",
       "    .dataframe thead tr:only-child th {\n",
       "        text-align: right;\n",
       "    }\n",
       "\n",
       "    .dataframe thead th {\n",
       "        text-align: left;\n",
       "    }\n",
       "\n",
       "    .dataframe tbody tr th {\n",
       "        vertical-align: top;\n",
       "    }\n",
       "</style>\n",
       "<table border=\"1\" class=\"dataframe\">\n",
       "  <thead>\n",
       "    <tr style=\"text-align: right;\">\n",
       "      <th></th>\n",
       "      <th>Wavelength (nm)</th>\n",
       "      <th>C6A</th>\n",
       "      <th>C4A</th>\n",
       "      <th>D3</th>\n",
       "      <th>C3A</th>\n",
       "      <th>D4</th>\n",
       "      <th>C5A</th>\n",
       "      <th>Unnamed: 7</th>\n",
       "      <th>Wavelength (nm).1</th>\n",
       "      <th>AVERAGE</th>\n",
       "    </tr>\n",
       "  </thead>\n",
       "  <tbody>\n",
       "    <tr>\n",
       "      <th>0</th>\n",
       "      <td>1100</td>\n",
       "      <td>99.261</td>\n",
       "      <td>99.404</td>\n",
       "      <td>99.369</td>\n",
       "      <td>99.356</td>\n",
       "      <td>99.445</td>\n",
       "      <td>99.352</td>\n",
       "      <td>NaN</td>\n",
       "      <td>1100</td>\n",
       "      <td>99.364500</td>\n",
       "    </tr>\n",
       "    <tr>\n",
       "      <th>1</th>\n",
       "      <td>1099</td>\n",
       "      <td>99.263</td>\n",
       "      <td>99.397</td>\n",
       "      <td>99.362</td>\n",
       "      <td>99.357</td>\n",
       "      <td>99.443</td>\n",
       "      <td>99.349</td>\n",
       "      <td>NaN</td>\n",
       "      <td>1099</td>\n",
       "      <td>99.361833</td>\n",
       "    </tr>\n",
       "    <tr>\n",
       "      <th>2</th>\n",
       "      <td>1098</td>\n",
       "      <td>99.255</td>\n",
       "      <td>99.388</td>\n",
       "      <td>99.355</td>\n",
       "      <td>99.347</td>\n",
       "      <td>99.433</td>\n",
       "      <td>99.339</td>\n",
       "      <td>NaN</td>\n",
       "      <td>1098</td>\n",
       "      <td>99.352833</td>\n",
       "    </tr>\n",
       "    <tr>\n",
       "      <th>3</th>\n",
       "      <td>1097</td>\n",
       "      <td>99.257</td>\n",
       "      <td>99.390</td>\n",
       "      <td>99.352</td>\n",
       "      <td>99.348</td>\n",
       "      <td>99.431</td>\n",
       "      <td>99.344</td>\n",
       "      <td>NaN</td>\n",
       "      <td>1097</td>\n",
       "      <td>99.353667</td>\n",
       "    </tr>\n",
       "    <tr>\n",
       "      <th>4</th>\n",
       "      <td>1096</td>\n",
       "      <td>99.259</td>\n",
       "      <td>99.393</td>\n",
       "      <td>99.357</td>\n",
       "      <td>99.356</td>\n",
       "      <td>99.435</td>\n",
       "      <td>99.343</td>\n",
       "      <td>NaN</td>\n",
       "      <td>1096</td>\n",
       "      <td>99.357167</td>\n",
       "    </tr>\n",
       "  </tbody>\n",
       "</table>\n",
       "</div>"
      ],
      "text/plain": [
       "    Wavelength (nm)     C6A     C4A      D3     C3A      D4     C5A  \\\n",
       "0              1100  99.261  99.404  99.369  99.356  99.445  99.352   \n",
       "1              1099  99.263  99.397  99.362  99.357  99.443  99.349   \n",
       "2              1098  99.255  99.388  99.355  99.347  99.433  99.339   \n",
       "3              1097  99.257  99.390  99.352  99.348  99.431  99.344   \n",
       "4              1096  99.259  99.393  99.357  99.356  99.435  99.343   \n",
       "\n",
       "   Unnamed: 7   Wavelength (nm).1    AVERAGE  \n",
       "0         NaN                1100  99.364500  \n",
       "1         NaN                1099  99.361833  \n",
       "2         NaN                1098  99.352833  \n",
       "3         NaN                1097  99.353667  \n",
       "4         NaN                1096  99.357167  "
      ]
     },
     "execution_count": 3,
     "metadata": {},
     "output_type": "execute_result"
    }
   ],
   "source": [
    "docusharefile = 'Document-34984.xlsx'\n",
    "xl = pd.ExcelFile(docusharefile)\n",
    "df1 = xl.parse('DATA', skiprows=0)\n",
    "df1[:5]"
   ]
  },
  {
   "cell_type": "code",
   "execution_count": 4,
   "metadata": {},
   "outputs": [],
   "source": [
    "# we want wavelength in ascending order\n",
    "na1 = np.array(df1, dtype=np.float64)\n",
    "idx = np.argsort(na1[:,0])\n",
    "na1 = na1[idx,:]"
   ]
  },
  {
   "cell_type": "code",
   "execution_count": 5,
   "metadata": {},
   "outputs": [
    {
     "data": {
      "text/plain": [
       "array([[ 300.        ,   33.872     ,   34.061     ,   33.564     ,\n",
       "          33.581     ,   33.443     ,   33.868     ,           nan,\n",
       "         300.        ,   33.7315    ],\n",
       "       [ 301.        ,   32.689     ,   32.489     ,   32.921     ,\n",
       "          32.717     ,   32.635     ,   32.435     ,           nan,\n",
       "         301.        ,   32.64766667],\n",
       "       [ 302.        ,   33.809     ,   32.002     ,   31.975     ,\n",
       "          32.223     ,   31.9       ,   31.92      ,           nan,\n",
       "         302.        ,   32.30483333],\n",
       "       [ 303.        ,   31.009     ,   30.776     ,   31.356     ,\n",
       "          30.909     ,   31.275     ,   31.459     ,           nan,\n",
       "         303.        ,   31.13066667],\n",
       "       [ 304.        ,   29.554     ,   29.528     ,   29.862     ,\n",
       "          29.537     ,   29.572     ,   29.851     ,           nan,\n",
       "         304.        ,   29.65066667]])"
      ]
     },
     "execution_count": 5,
     "metadata": {},
     "output_type": "execute_result"
    }
   ],
   "source": [
    "na1[:5,:]"
   ]
  },
  {
   "cell_type": "code",
   "execution_count": 6,
   "metadata": {},
   "outputs": [
    {
     "data": {
      "text/plain": [
       "(801,)"
      ]
     },
     "execution_count": 6,
     "metadata": {},
     "output_type": "execute_result"
    }
   ],
   "source": [
    "np.mean(na1[:,1:7], axis=1).shape"
   ]
  },
  {
   "cell_type": "code",
   "execution_count": 7,
   "metadata": {},
   "outputs": [
    {
     "data": {
      "text/plain": [
       "[<matplotlib.lines.Line2D at 0x112c71da0>]"
      ]
     },
     "execution_count": 7,
     "metadata": {},
     "output_type": "execute_result"
    },
    {
     "data": {
      "image/png": "[encoded data removed]",
      "text/plain": [
       "<matplotlib.figure.Figure at 0x10f7b7668>"
      ]
     },
     "metadata": {},
     "output_type": "display_data"
    }
   ],
   "source": [
    "#check the last column is indeed the average of columns 1-6 (column 0 is wavelength)\n",
    "plt.plot(np.mean(na1[:,1:7], axis=1)-na1[:,-1])"
   ]
  },
  {
   "cell_type": "code",
   "execution_count": 8,
   "metadata": {},
   "outputs": [
    {
     "data": {
      "image/png": "[encoded data removed]",
      "text/plain": [
       "<matplotlib.figure.Figure at 0x112c967b8>"
      ]
     },
     "metadata": {},
     "output_type": "display_data"
    }
   ],
   "source": [
    "wl = na1[:,0]\n",
    "#The measurements from 6 witness samples agree nicely\n",
    "plt.plot(wl, na1[:,1:7])\n",
    "plt.title('6 witness samples')\n",
    "plt.grid()"
   ]
  },
  {
   "cell_type": "code",
   "execution_count": 9,
   "metadata": {},
   "outputs": [
    {
     "data": {
      "text/plain": [
       "(800, 880)"
      ]
     },
     "execution_count": 9,
     "metadata": {},
     "output_type": "execute_result"
    },
    {
     "data": {
      "image/png": "[encoded data removed]",
      "text/plain": [
       "<matplotlib.figure.Figure at 0x112e3be48>"
      ]
     },
     "metadata": {},
     "output_type": "display_data"
    }
   ],
   "source": [
    "# there are no more discontinuity around 850 nm, which was observed with the June 2019 coating samples\n",
    "plt.plot(wl, na1[:,1:7]) #, 'b-')\n",
    "plt.title('zoom-in around 850nm')\n",
    "plt.grid()\n",
    "plt.ylim([96, 101])\n",
    "plt.xlim([800, 880])"
   ]
  },
  {
   "cell_type": "code",
   "execution_count": 10,
   "metadata": {},
   "outputs": [],
   "source": [
    "t1 = np.mean(na1[:,1:7], axis=1)\n",
    "t1s = np.std(na1[:,1:7], axis=1)"
   ]
  },
  {
   "cell_type": "code",
   "execution_count": 11,
   "metadata": {},
   "outputs": [
    {
     "data": {
      "image/png": "[encoded data removed]",
      "text/plain": [
       "<matplotlib.figure.Figure at 0x112e7a3c8>"
      ]
     },
     "metadata": {},
     "output_type": "display_data"
    }
   ],
   "source": [
    "fig1 = plt.figure(figsize=(8, 6))\n",
    "plt.errorbar(wl, t1, yerr=t1s, fmt='r-', label='M2')\n",
    "plt.suptitle('Throughput vs wavelength')\n",
    "ax=fig1.gca()\n",
    "ax.grid(True)"
   ]
  },
  {
   "cell_type": "code",
   "execution_count": 12,
   "metadata": {},
   "outputs": [
    {
     "name": "stdout",
     "output_type": "stream",
     "text": [
      "In directory /Users/bxin/lsst_stack/syseng_throughputs/components/telescope/mirror2/m2_Losses:\n",
      " \t ['m2_Losses.dat']\n",
      "/Users/bxin/lsst_stack/syseng_throughputs/components/telescope/mirror2/m2_ProtAg_Ideal.dat\n"
     ]
    }
   ],
   "source": [
    "# What's in the destination directory already? \n",
    "component = 'mirror2'\n",
    "contents = os.listdir(defaultDirs[component])\n",
    "for c in contents:\n",
    "    tmp = os.path.join(defaultDirs[component], c)\n",
    "    if os.path.isdir(tmp):\n",
    "        print('In directory %s:\\n \\t %s' % (tmp, os.listdir(tmp)))\n",
    "    else:\n",
    "        print(tmp)"
   ]
  },
  {
   "cell_type": "code",
   "execution_count": 13,
   "metadata": {},
   "outputs": [
    {
     "name": "stdout",
     "output_type": "stream",
     "text": [
      "Writing to file /Users/bxin/lsst_stack/syseng_throughputs/components/telescope/mirror2/m2_ProtAg_Ideal.dat\n"
     ]
    }
   ],
   "source": [
    "component = 'mirror2'\n",
    "replacement_file = os.path.join(defaultDirs[component], 'm2_ProtAg_Ideal.dat')\n",
    "print('Writing to file %s' % replacement_file)\n",
    "\n",
    "header = '#Wavelength(nm)   Throughput(0-1)'\n",
    "with open(replacement_file, 'w') as f:\n",
    "    print(header, file=f)\n",
    "    for i in range(len(wl)):\n",
    "        print(round(wl[i], 1), round(t1[i]/100, 4), file=f)"
   ]
  },
  {
   "cell_type": "code",
   "execution_count": 14,
   "metadata": {},
   "outputs": [
    {
     "data": {
      "text/plain": [
       "CompletedProcess(args=['git', 'clone', 'https://github.com/lsst-pst/syseng_throughputs.git', 'syseng_master'], returncode=0)"
      ]
     },
     "execution_count": 14,
     "metadata": {},
     "output_type": "execute_result"
    }
   ],
   "source": [
    "# Compare to prior curves, from github:master -- first clone new copy (default = master).\n",
    "import shutil\n",
    "import subprocess\n",
    "\n",
    "masterdir = 'syseng_master'\n",
    "# Remove previous copy of this directory, if it exists.\n",
    "try:\n",
    "    shutil.rmtree(masterdir)\n",
    "except OSError:\n",
    "    pass\n",
    "gitcommand = 'git clone https://github.com/lsst-pst/syseng_throughputs.git %s' % masterdir\n",
    "subprocess.run(args=gitcommand.split(), check=True)"
   ]
  },
  {
   "cell_type": "code",
   "execution_count": 15,
   "metadata": {},
   "outputs": [],
   "source": [
    "masterDirs = setDefaultDirs(rootDir=masterdir)\n",
    "m2_ref = pd.read_csv(os.path.join(masterDirs['mirror2'], 'm2_ProtAg_Ideal.dat'), delim_whitespace=True,\n",
    "                     comment='#', header=None, names=['wavelength', 'sb'])"
   ]
  },
  {
   "cell_type": "code",
   "execution_count": 16,
   "metadata": {
    "scrolled": false
   },
   "outputs": [
    {
     "data": {
      "text/plain": [
       "<matplotlib.legend.Legend at 0x1132a6128>"
      ]
     },
     "execution_count": 16,
     "metadata": {},
     "output_type": "execute_result"
    },
    {
     "data": {
      "image/png": "[encoded data removed]",
      "text/plain": [
       "<matplotlib.figure.Figure at 0x113103978>"
      ]
     },
     "metadata": {},
     "output_type": "display_data"
    }
   ],
   "source": [
    "fig1 = plt.figure(figsize=(8, 6))\n",
    "plt.plot(wl, t1/100, 'r-', label='Update M2')\n",
    "plt.plot(m2_ref['wavelength'], m2_ref['sb'], 'g--', label='Master M2')\n",
    "plt.suptitle('Throughput vs wavelength')\n",
    "ax=fig1.gca()\n",
    "ax.grid(True)\n",
    "plt.legend(loc='lower right')"
   ]
  },
  {
   "cell_type": "code",
   "execution_count": 17,
   "metadata": {},
   "outputs": [],
   "source": [
    "# When all done - remove the git clone.\n",
    "shutil.rmtree(masterdir)"
   ]
  },
  {
   "cell_type": "code",
   "execution_count": null,
   "metadata": {},
   "outputs": [],
   "source": []
  }
 ],
 "metadata": {
  "kernelspec": {
   "display_name": "Python 3",
   "language": "python",
   "name": "python3"
  },
  "language_info": {
   "codemirror_mode": {
    "name": "ipython",
    "version": 3
   },
   "file_extension": ".py",
   "mimetype": "text/x-python",
   "name": "python",
   "nbconvert_exporter": "python",
   "pygments_lexer": "ipython3",
   "version": "3.6.2"
  }
 },
 "nbformat": 4,
 "nbformat_minor": 2
}
