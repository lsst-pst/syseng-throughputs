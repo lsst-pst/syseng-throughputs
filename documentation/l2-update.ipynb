{
 "cells": [
  {
   "cell_type": "markdown",
   "metadata": {},
   "source": [
    "A notebook to update the L2 throughputs, starting with the source in Docushare, Document-17872, and displaying exactly what is used and how.\n",
    "\n",
    "\n",
    "- S. Ritz updated 17 July 2018\n",
    " -- modified 26 July 2018, based on discussions with Lynne Jones and Chuck Claver about directory structure and filenames\n",
    " -- LJones modified Jan 23, 2019, to use expected directory structure for components."
   ]
  },
  {
   "cell_type": "code",
   "execution_count": 1,
   "metadata": {},
   "outputs": [],
   "source": [
    "import os\n",
    "import sys\n",
    "import numpy as np\n",
    "import pandas as pd\n",
    "import matplotlib.pyplot as plt\n",
    "# this magic command makes plots appear within the notebook\n",
    "%matplotlib inline\n",
    "\n",
    "# Import bandpassUtils, without requiring or using LSST stack -- in order to get the defaultDirectory layout.\n",
    "currentdir = os.getcwd()\n",
    "syseng_python = os.path.normpath(os.path.join(currentdir, '../python/lsst/syseng/throughputs'))\n",
    "if syseng_python not in sys.path:\n",
    "    sys.path.append(syseng_python)\n",
    "from bandpassUtils import setDefaultDirs"
   ]
  },
  {
   "cell_type": "code",
   "execution_count": 2,
   "metadata": {},
   "outputs": [],
   "source": [
    "# Set matplotlib parameters (or update)\n",
    "# avoid an annoying warning\n",
    "#plt.rcParams.update({'figure.max_open_warning': 0})\n",
    "\n",
    "# define figure size parameters to make figures larger than default\n",
    "figwidth=8\n",
    "figheight=6"
   ]
  },
  {
   "cell_type": "code",
   "execution_count": 3,
   "metadata": {},
   "outputs": [
    {
     "name": "stdout",
     "output_type": "stream",
     "text": [
      "detector /Users/lynnej/lsstRepos/syseng_throughputs/components/camera/detector/joint_minimum\n",
      "lens1 /Users/lynnej/lsstRepos/syseng_throughputs/components/camera/lens1\n",
      "lens2 /Users/lynnej/lsstRepos/syseng_throughputs/components/camera/lens2\n",
      "lens3 /Users/lynnej/lsstRepos/syseng_throughputs/components/camera/lens3\n",
      "filters /Users/lynnej/lsstRepos/syseng_throughputs/components/camera/filters\n",
      "mirror1 /Users/lynnej/lsstRepos/syseng_throughputs/components/telescope/mirror1\n",
      "mirror2 /Users/lynnej/lsstRepos/syseng_throughputs/components/telescope/mirror2\n",
      "mirror3 /Users/lynnej/lsstRepos/syseng_throughputs/components/telescope/mirror3\n",
      "atmosphere /Users/lynnej/lsstRepos/syseng_throughputs/siteProperties\n"
     ]
    }
   ],
   "source": [
    "defaultDirs = setDefaultDirs(rootDir = os.path.normpath(os.path.join(currentdir, '..')))\n",
    "for k, v in defaultDirs.items():\n",
    "    print(k, v)"
   ]
  },
  {
   "cell_type": "code",
   "execution_count": 4,
   "metadata": {},
   "outputs": [
    {
     "data": {
      "text/html": [
       "<div>\n",
       "<style scoped>\n",
       "    .dataframe tbody tr th:only-of-type {\n",
       "        vertical-align: middle;\n",
       "    }\n",
       "\n",
       "    .dataframe tbody tr th {\n",
       "        vertical-align: top;\n",
       "    }\n",
       "\n",
       "    .dataframe thead th {\n",
       "        text-align: right;\n",
       "    }\n",
       "</style>\n",
       "<table border=\"1\" class=\"dataframe\">\n",
       "  <thead>\n",
       "    <tr style=\"text-align: right;\">\n",
       "      <th></th>\n",
       "      <th>wavelength</th>\n",
       "      <th>L1 glass</th>\n",
       "      <th>L1 BBAR</th>\n",
       "      <th>L2 glass</th>\n",
       "      <th>L2 BBAR</th>\n",
       "      <th>L3 glass</th>\n",
       "      <th>L3 BBAR</th>\n",
       "      <th>CCD QE</th>\n",
       "      <th>CCD Condensible</th>\n",
       "      <th>filter_u</th>\n",
       "      <th>filter_g</th>\n",
       "      <th>filter_r</th>\n",
       "      <th>filter_i</th>\n",
       "      <th>filter_z</th>\n",
       "      <th>filter_y</th>\n",
       "    </tr>\n",
       "  </thead>\n",
       "  <tbody>\n",
       "    <tr>\n",
       "      <th>5</th>\n",
       "      <td>300.0</td>\n",
       "      <td>0.988927</td>\n",
       "      <td>0.978311</td>\n",
       "      <td>0.988673</td>\n",
       "      <td>0.912337</td>\n",
       "      <td>0.991001</td>\n",
       "      <td>0.968562</td>\n",
       "      <td>0.360000</td>\n",
       "      <td>1.0</td>\n",
       "      <td>0</td>\n",
       "      <td>0</td>\n",
       "      <td>0</td>\n",
       "      <td>0</td>\n",
       "      <td>0</td>\n",
       "      <td>0</td>\n",
       "    </tr>\n",
       "    <tr>\n",
       "      <th>6</th>\n",
       "      <td>301.0</td>\n",
       "      <td>0.988811</td>\n",
       "      <td>0.978295</td>\n",
       "      <td>0.988554</td>\n",
       "      <td>0.910119</td>\n",
       "      <td>0.990907</td>\n",
       "      <td>0.968438</td>\n",
       "      <td>0.364699</td>\n",
       "      <td>1.0</td>\n",
       "      <td>0</td>\n",
       "      <td>0</td>\n",
       "      <td>0</td>\n",
       "      <td>0</td>\n",
       "      <td>0</td>\n",
       "      <td>0</td>\n",
       "    </tr>\n",
       "    <tr>\n",
       "      <th>7</th>\n",
       "      <td>302.0</td>\n",
       "      <td>0.988695</td>\n",
       "      <td>0.978279</td>\n",
       "      <td>0.988436</td>\n",
       "      <td>0.907900</td>\n",
       "      <td>0.990813</td>\n",
       "      <td>0.968007</td>\n",
       "      <td>0.369397</td>\n",
       "      <td>1.0</td>\n",
       "      <td>0</td>\n",
       "      <td>0</td>\n",
       "      <td>0</td>\n",
       "      <td>0</td>\n",
       "      <td>0</td>\n",
       "      <td>0</td>\n",
       "    </tr>\n",
       "  </tbody>\n",
       "</table>\n",
       "</div>"
      ],
      "text/plain": [
       "   wavelength  L1 glass   L1 BBAR  L2 glass   L2 BBAR  L3 glass   L3 BBAR  \\\n",
       "5       300.0  0.988927  0.978311  0.988673  0.912337  0.991001  0.968562   \n",
       "6       301.0  0.988811  0.978295  0.988554  0.910119  0.990907  0.968438   \n",
       "7       302.0  0.988695  0.978279  0.988436  0.907900  0.990813  0.968007   \n",
       "\n",
       "     CCD QE  CCD Condensible filter_u filter_g filter_r filter_i filter_z  \\\n",
       "5  0.360000              1.0        0        0        0        0        0   \n",
       "6  0.364699              1.0        0        0        0        0        0   \n",
       "7  0.369397              1.0        0        0        0        0        0   \n",
       "\n",
       "  filter_y  \n",
       "5        0  \n",
       "6        0  \n",
       "7        0  "
      ]
     },
     "execution_count": 4,
     "metadata": {},
     "output_type": "execute_result"
    }
   ],
   "source": [
    "docusharefile = 'Document-17872.xlsx'\n",
    "# for all sheets\n",
    "#  df = pd.read_excel(docusharefile, sheet_name=None)  \n",
    "\n",
    "# for the current performance\n",
    "perfsheet = 'Performance summary as-built'\n",
    "# Parse the column headers -- note this does not work for per-filter columns.\n",
    "df = pd.read_excel(docusharefile, sheet_name=perfsheet)  \n",
    "keep_cols = ['wavelength', 'L1 glass', 'L1 BBAR', 'L2 glass', 'L2 BBAR', 'l3 glass', 'L3 BBAR', 'CCD QE', \n",
    "            'CCD Condensible*', 'Unnamed: 9', 'Unnamed: 10', 'Unnamed: 11', \n",
    "             'Unnamed: 12', 'Unnamed: 13', 'Unnamed: 14']\n",
    "new_cols = ['wavelength', 'L1 glass', 'L1 BBAR', 'L2 glass', 'L2 BBAR', 'L3 glass', 'L3 BBAR', 'CCD QE', \n",
    "           'CCD Condensible', 'filter_u', 'filter_g', 'filter_r', 'filter_i', 'filter_z', 'filter_y']\n",
    "# I'm not entirely sure if this \"filter_*\" column represents the entire filter curve or not?\n",
    "for k in keep_cols:\n",
    "    if k not in df:\n",
    "        print('Cannot find column %s in dataframe!')\n",
    "df = df[keep_cols]\n",
    "mask = np.where(np.isnan(df['wavelength']), False, True)\n",
    "df = df[mask]\n",
    "df.columns = new_cols\n",
    "df[0:3]"
   ]
  },
  {
   "cell_type": "code",
   "execution_count": 5,
   "metadata": {},
   "outputs": [
    {
     "data": {
      "text/plain": [
       "(0.85, 1.05)"
      ]
     },
     "execution_count": 5,
     "metadata": {},
     "output_type": "execute_result"
    },
    {
     "data": {
      "image/png": "[encoded data removed]",
      "text/plain": [
       "<Figure size 576x432 with 1 Axes>"
      ]
     },
     "metadata": {
      "needs_background": "light"
     },
     "output_type": "display_data"
    }
   ],
   "source": [
    "fig1 = plt.figure(figsize=(figwidth, figheight))\n",
    "plt.plot(df['wavelength'], df['L2 glass'], 'r-', label='glass')\n",
    "plt.plot(df['wavelength'], df['L2 BBAR'], 'b-', label='BBAR')\n",
    "plt.suptitle('L2 Throughput vs wavelength')\n",
    "ax=fig1.gca()\n",
    "ax.grid(True)\n",
    "ax.set_xticks(np.arange(300, 1200, 100.))\n",
    "ax.set_yticks(np.arange(0., 2., 0.01))\n",
    "plt.legend()\n",
    "plt.ylim(0.85,1.05)"
   ]
  },
  {
   "cell_type": "markdown",
   "metadata": {
    "collapsed": true
   },
   "source": [
    "The current SE calculations want text files from 300 nm to 1200 nm .. the code will interpolate between these points, but capturing the variations has to be done by writing these into the output files. \n",
    "\n",
    "Save text files to disk in appropriate directories."
   ]
  },
  {
   "cell_type": "code",
   "execution_count": 6,
   "metadata": {},
   "outputs": [
    {
     "name": "stdout",
     "output_type": "stream",
     "text": [
      "/Users/lynnej/lsstRepos/syseng_throughputs/components/camera/lens2/l2_Glass.dat\n",
      "In directory /Users/lynnej/lsstRepos/syseng_throughputs/components/camera/lens2/l2_Losses:\n",
      " \t ['l2_S1_Contamination.dat', 'l2_S2_Condensation.dat', 'l2_S2_Contamination.dat', 'l2_S1_Condensation.dat']\n",
      "In directory /Users/lynnej/lsstRepos/syseng_throughputs/components/camera/lens2/l2_Coatings:\n",
      " \t ['l2_BBAR.dat']\n"
     ]
    }
   ],
   "source": [
    "# What's in the destination directory already? \n",
    "component = 'lens2'\n",
    "contents = os.listdir(defaultDirs[component])\n",
    "for c in contents:\n",
    "    tmp = os.path.join(defaultDirs[component], c)\n",
    "    if os.path.isdir(tmp):\n",
    "        print('In directory %s:\\n \\t %s' % (tmp, os.listdir(tmp)))\n",
    "    else:\n",
    "        print(tmp)"
   ]
  },
  {
   "cell_type": "code",
   "execution_count": 7,
   "metadata": {},
   "outputs": [
    {
     "name": "stdout",
     "output_type": "stream",
     "text": [
      "Writing to file /Users/lynnej/lsstRepos/syseng_throughputs/components/camera/lens2/l2_Glass.dat\n"
     ]
    }
   ],
   "source": [
    "replacement_file = os.path.join(defaultDirs[component], 'l2_Glass.dat')\n",
    "print('Writing to file %s' % replacement_file)\n",
    "\n",
    "header = '#Wavelength(nm)   Throughput(0-1)'\n",
    "with open(replacement_file, 'w') as f:\n",
    "    print(header, file=f)\n",
    "    for i, row in df.iterrows():\n",
    "        print(round(row['wavelength'], 1), round(row['L2 glass'], 4), file=f)"
   ]
  },
  {
   "cell_type": "code",
   "execution_count": 8,
   "metadata": {},
   "outputs": [
    {
     "name": "stdout",
     "output_type": "stream",
     "text": [
      "Writing to file /Users/lynnej/lsstRepos/syseng_throughputs/components/camera/lens2/l2_Coatings/l2_BBAR.dat\n"
     ]
    }
   ],
   "source": [
    "replacement_file = os.path.join(defaultDirs[component], 'l2_Coatings', 'l2_BBAR.dat')\n",
    "print('Writing to file %s' % replacement_file)\n",
    "\n",
    "header = '#Wavelength(nm)   Throughput(0-1)'\n",
    "with open(replacement_file, 'w') as f:\n",
    "    print(header, file=f)\n",
    "    for i, row in df.iterrows():\n",
    "        print(round(row['wavelength'], 1), round(row['L2 BBAR'], 4), file=f)"
   ]
  },
  {
   "cell_type": "code",
   "execution_count": 9,
   "metadata": {},
   "outputs": [
    {
     "data": {
      "text/plain": [
       "CompletedProcess(args=['git', 'clone', 'https://github.com/lsst-pst/syseng_throughputs.git', 'syseng_master'], returncode=0)"
      ]
     },
     "execution_count": 9,
     "metadata": {},
     "output_type": "execute_result"
    }
   ],
   "source": [
    "# Compare to prior curves, from github:master -- first clone new copy (default = master).\n",
    "import shutil\n",
    "import subprocess\n",
    "\n",
    "masterdir = 'syseng_master'\n",
    "shutil.rmtree(masterdir)\n",
    "gitcommand = 'git clone https://github.com/lsst-pst/syseng_throughputs.git %s' % masterdir\n",
    "subprocess.run(args=gitcommand.split(), check=True)"
   ]
  },
  {
   "cell_type": "code",
   "execution_count": 10,
   "metadata": {},
   "outputs": [],
   "source": [
    "masterDirs = setDefaultDirs(rootDir=masterdir)\n",
    "l2_glass = pd.read_csv(os.path.join(masterDirs[component], 'l2_Glass.dat'), delim_whitespace=True,\n",
    "                      comment='#', header=None, names=['wavelength', 'sb'])\n",
    "l2_bbar = pd.read_csv(os.path.join(masterDirs[component], 'l2_Coatings', 'L2_BBAR.dat'), delim_whitespace=True,\n",
    "                     comment='#', header=None, names=['wavelength', 'sb'])"
   ]
  },
  {
   "cell_type": "code",
   "execution_count": 11,
   "metadata": {},
   "outputs": [
    {
     "data": {
      "text/plain": [
       "(0.85, 1.05)"
      ]
     },
     "execution_count": 11,
     "metadata": {},
     "output_type": "execute_result"
    },
    {
     "data": {
      "image/png": "[encoded data removed]",
      "text/plain": [
       "<Figure size 576x432 with 1 Axes>"
      ]
     },
     "metadata": {
      "needs_background": "light"
     },
     "output_type": "display_data"
    }
   ],
   "source": [
    "fig1 = plt.figure(figsize=(figwidth, figheight))\n",
    "plt.plot(df['wavelength'], df['L2 glass'], 'r-', label='Update glass')\n",
    "plt.plot(df['wavelength'], df['L2 BBAR'], 'b-', label='Update BBAR')\n",
    "plt.plot(l2_glass['wavelength'], l2_glass['sb'], 'm-', label='Master glass')\n",
    "plt.plot(l2_bbar['wavelength'], l2_bbar['sb'], 'g-', label='Master BBAR')\n",
    "plt.title('L2 Throughput vs wavelength')\n",
    "ax=fig1.gca()\n",
    "ax.grid(True)\n",
    "ax.set_xticks(np.arange(300, 1200, 100.))\n",
    "ax.set_yticks(np.arange(0., 2., 0.01))\n",
    "plt.legend()\n",
    "plt.ylim(0.85,1.05)"
   ]
  },
  {
   "cell_type": "code",
   "execution_count": 12,
   "metadata": {},
   "outputs": [],
   "source": [
    "# When all done - remove the git clone.\n",
    "shutil.rmtree(masterdir)"
   ]
  }
 ],
 "metadata": {
  "kernelspec": {
   "display_name": "Python 3",
   "language": "python",
   "name": "python3"
  },
  "language_info": {
   "codemirror_mode": {
    "name": "ipython",
    "version": 3
   },
   "file_extension": ".py",
   "mimetype": "text/x-python",
   "name": "python",
   "nbconvert_exporter": "python",
   "pygments_lexer": "ipython3",
   "version": "3.6.7"
  }
 },
 "nbformat": 4,
 "nbformat_minor": 1
}
